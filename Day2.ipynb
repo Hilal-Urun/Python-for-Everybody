{
  "cells": [
    {
      "cell_type": "markdown",
      "source": [
        "Bugün neler öğreneceğiz?\n",
        "\n",
        "\n",
        "\n",
        "*   Sözlükler tekrar\n",
        "*   Input\n",
        "*   Mantıksal ve karşılaştırma operatörleri ( True & False & > & < & == vb)\n",
        "*   Koşullu durumlar (if & elif & else)\n",
        "*   for döngüsü\n",
        "*   while döngüsü\n",
        "*   range fonksiyonu\n",
        "*   break & continue\n",
        "*   List comprehension\n",
        "\n"
      ],
      "metadata": {
        "id": "BrxgkOSWHmqq"
      },
      "id": "BrxgkOSWHmqq"
    },
    {
      "cell_type": "markdown",
      "id": "4cd8f008",
      "metadata": {
        "id": "4cd8f008"
      },
      "source": [
        "## Mantıksal Karşılaştırma Operatörleri\n",
        "\n",
        "Değişkenlerin aldığı değerlerin karşılaştırmalarını (büyüklük,eşitlik vb.) yapmak için kullandığımız operatörlere karşılaştırma operatörleri denir.\n",
        "Karşılaştırma operatörleri bize boolean tipinde (True ya da False) veri gönderirler. "
      ]
    },
    {
      "cell_type": "code",
      "execution_count": null,
      "id": "4d6a5f84",
      "metadata": {
        "id": "4d6a5f84",
        "colab": {
          "base_uri": "https://localhost:8080/"
        },
        "outputId": "723da0d7-bfd5-4356-903f-b4e9174cd89a"
      },
      "outputs": [
        {
          "output_type": "stream",
          "name": "stdout",
          "text": [
            "False\n"
          ]
        }
      ],
      "source": [
        "num1=11\n",
        "num2=21\n",
        "print(num1==num2) #num1 ile num2 eşittir ifadesinin doğrulunu kontrol eder num1 num2 ye eşit ise True değilse False döndürür"
      ]
    },
    {
      "cell_type": "code",
      "execution_count": null,
      "id": "2b63f741",
      "metadata": {
        "id": "2b63f741",
        "colab": {
          "base_uri": "https://localhost:8080/"
        },
        "outputId": "2047ab69-6ae7-4819-f2f8-d80a89e16966"
      },
      "outputs": [
        {
          "output_type": "stream",
          "name": "stdout",
          "text": [
            "False\n"
          ]
        }
      ],
      "source": [
        "print(num1>num2) #num1 büyüktür num2 ifadesinin doğruluğunu kontol eder eğer num1 num2'den büyük ise True değilse False döndürür"
      ]
    },
    {
      "cell_type": "code",
      "execution_count": null,
      "id": "aa32bec8",
      "metadata": {
        "id": "aa32bec8",
        "colab": {
          "base_uri": "https://localhost:8080/"
        },
        "outputId": "1cc4f02d-95ce-4107-8141-766d4ed3ad4d"
      },
      "outputs": [
        {
          "output_type": "stream",
          "name": "stdout",
          "text": [
            "True\n"
          ]
        }
      ],
      "source": [
        "print(num1!=num2) #num1 ile num2 eşit değildir ifadesinin doğrulunu kontrol eder num1 num2 ye eşit değilse True değilse False döndürür"
      ]
    },
    {
      "cell_type": "code",
      "execution_count": null,
      "id": "7c6a10be",
      "metadata": {
        "id": "7c6a10be",
        "colab": {
          "base_uri": "https://localhost:8080/"
        },
        "outputId": "c8a47802-eb54-4f8c-d5f8-6155319ba1b8"
      },
      "outputs": [
        {
          "output_type": "stream",
          "name": "stdout",
          "text": [
            "True\n"
          ]
        }
      ],
      "source": [
        "num3=21\n",
        "print(num3 >= num2) #num1 büyüktür yada eşittir ifadesinin doğrulunu kontrol eder num1>=num2 ise True değilse False döndürür"
      ]
    },
    {
      "cell_type": "code",
      "source": [
        "True and True #and operatörünün True döndürmesi için iki ifadenin de true olması gerekir"
      ],
      "metadata": {
        "colab": {
          "base_uri": "https://localhost:8080/"
        },
        "id": "sMC6M7FjgIUg",
        "outputId": "41355cc2-9a36-43c3-ca3f-ae4de60121e2"
      },
      "id": "sMC6M7FjgIUg",
      "execution_count": null,
      "outputs": [
        {
          "output_type": "execute_result",
          "data": {
            "text/plain": [
              "True"
            ]
          },
          "metadata": {},
          "execution_count": 33
        }
      ]
    },
    {
      "cell_type": "code",
      "source": [
        "True and False"
      ],
      "metadata": {
        "colab": {
          "base_uri": "https://localhost:8080/"
        },
        "id": "ETbGio5egKc9",
        "outputId": "270a5cdd-411b-476c-8e6d-ecb2c70931e8"
      },
      "id": "ETbGio5egKc9",
      "execution_count": null,
      "outputs": [
        {
          "output_type": "execute_result",
          "data": {
            "text/plain": [
              "False"
            ]
          },
          "metadata": {},
          "execution_count": 34
        }
      ]
    },
    {
      "cell_type": "code",
      "source": [
        "False and False"
      ],
      "metadata": {
        "colab": {
          "base_uri": "https://localhost:8080/"
        },
        "id": "0KaZcJudgPdD",
        "outputId": "e3183c63-2b65-4b1a-fc39-a85889600cb7"
      },
      "id": "0KaZcJudgPdD",
      "execution_count": null,
      "outputs": [
        {
          "output_type": "execute_result",
          "data": {
            "text/plain": [
              "False"
            ]
          },
          "metadata": {},
          "execution_count": 35
        }
      ]
    },
    {
      "cell_type": "code",
      "source": [
        "num3<=num2 and num1>num2 #True and False "
      ],
      "metadata": {
        "id": "vCJfPO3TyjhO",
        "colab": {
          "base_uri": "https://localhost:8080/"
        },
        "outputId": "3ce95f63-4c0a-4d6b-c4be-358162014633"
      },
      "id": "vCJfPO3TyjhO",
      "execution_count": null,
      "outputs": [
        {
          "output_type": "execute_result",
          "data": {
            "text/plain": [
              "False"
            ]
          },
          "metadata": {},
          "execution_count": 36
        }
      ]
    },
    {
      "cell_type": "code",
      "source": [
        "True or False or False or False #or operatörünün True döndürmesi için 1 ifadenin True olması yeterlidir"
      ],
      "metadata": {
        "colab": {
          "base_uri": "https://localhost:8080/"
        },
        "id": "MTz-1SWZgfWv",
        "outputId": "cdb0fa48-d82a-496c-ea91-8f169fe53d57"
      },
      "id": "MTz-1SWZgfWv",
      "execution_count": 104,
      "outputs": [
        {
          "output_type": "execute_result",
          "data": {
            "text/plain": [
              "True"
            ]
          },
          "metadata": {},
          "execution_count": 104
        }
      ]
    },
    {
      "cell_type": "code",
      "source": [
        "num3<=num2 or num1>num2 #True or False"
      ],
      "metadata": {
        "id": "AivljmkmyjkS",
        "colab": {
          "base_uri": "https://localhost:8080/"
        },
        "outputId": "f4d96ec7-3cf7-4ad3-87f9-8c9aca4e22ce"
      },
      "id": "AivljmkmyjkS",
      "execution_count": null,
      "outputs": [
        {
          "output_type": "execute_result",
          "data": {
            "text/plain": [
              "True"
            ]
          },
          "metadata": {},
          "execution_count": 39
        }
      ]
    },
    {
      "cell_type": "code",
      "execution_count": null,
      "id": "daf4c040",
      "metadata": {
        "id": "daf4c040",
        "colab": {
          "base_uri": "https://localhost:8080/"
        },
        "outputId": "a7fa58be-0ca6-4fd9-d032-d9bef5fdeb13"
      },
      "outputs": [
        {
          "output_type": "stream",
          "name": "stdout",
          "text": [
            "Bir sayı giriniz: 0\n",
            "girdiğiniz sayının poziflik durumu: False\n"
          ]
        }
      ],
      "source": [
        "sayı=int(input(\"Bir sayı giriniz: \"))\n",
        "pos_neg=sayı>0 #kullanıcının girdiği inputun sıfıdan büyük ise True değilse False döndürür ve pos_neg değişkenine eşitler\n",
        "print(f'girdiğiniz sayının poziflik durumu: {pos_neg}')"
      ]
    },
    {
      "cell_type": "code",
      "execution_count": null,
      "id": "4b43bd0d",
      "metadata": {
        "id": "4b43bd0d",
        "colab": {
          "base_uri": "https://localhost:8080/"
        },
        "outputId": "2f7fffae-554c-4fd4-f442-e2a777983290"
      },
      "outputs": [
        {
          "output_type": "stream",
          "name": "stdout",
          "text": [
            "Vize notunu giriniz: 100\n",
            "Final notunu giriniz: 100\n",
            "not ortalamanız : 80.0 ve dersten geçme durumunuz: True\n",
            "not ortalamanız : 80.0 ve dersten geçme durumunuz: True\n"
          ]
        }
      ],
      "source": [
        "#geçme notu hesaplama\n",
        "vize=float(input(\"Vize notunu giriniz: \"))\n",
        "final=float(input(\"Final notunu giriniz: \"))\n",
        "gecme_notu= (vize * 0.4) + (final * 0.4)\n",
        "boolean=gecme_notu>=60 #hesaplanan gecme_notu 60dan büyük yada eşit ise True değilse False döndürür ve boolean değişkenine eşitler\n",
        "print(f'not ortalamanız : {gecme_notu} ve dersten geçme durumunuz: {boolean}')\n",
        "print(\"not ortalamanız : {} ve dersten geçme durumunuz: {}\".format(gecme_notu,boolean))"
      ]
    },
    {
      "cell_type": "code",
      "execution_count": null,
      "id": "188beae2",
      "metadata": {
        "id": "188beae2",
        "colab": {
          "base_uri": "https://localhost:8080/",
          "height": 37
        },
        "outputId": "37363805-a169-4776-b402-783fec0ae440"
      },
      "outputs": [
        {
          "output_type": "execute_result",
          "data": {
            "text/plain": [
              "'hiiiii!'"
            ],
            "application/vnd.google.colaboratory.intrinsic+json": {
              "type": "string"
            }
          },
          "metadata": {},
          "execution_count": 46
        }
      ],
      "source": [
        "\"     hiiiii!     \".strip() #stringin başındaki ve sonundaki boşlukları temizler"
      ]
    },
    {
      "cell_type": "code",
      "source": [
        "\"    h.    i.    l.   a.    l.   \".strip()"
      ],
      "metadata": {
        "id": "2j3djOigOKG7",
        "colab": {
          "base_uri": "https://localhost:8080/",
          "height": 37
        },
        "outputId": "d9dde6df-1f11-4371-d535-e6b2e8b94f7b"
      },
      "id": "2j3djOigOKG7",
      "execution_count": null,
      "outputs": [
        {
          "output_type": "execute_result",
          "data": {
            "text/plain": [
              "'h.    i.    l.   a.    l.'"
            ],
            "application/vnd.google.colaboratory.intrinsic+json": {
              "type": "string"
            }
          },
          "metadata": {},
          "execution_count": 47
        }
      ]
    },
    {
      "cell_type": "code",
      "execution_count": null,
      "id": "41f6ae5c",
      "metadata": {
        "id": "41f6ae5c",
        "colab": {
          "base_uri": "https://localhost:8080/"
        },
        "outputId": "ab0d2569-6fa4-40cd-8a98-909f96119750"
      },
      "outputs": [
        {
          "name": "stdout",
          "output_type": "stream",
          "text": [
            "email: python@pythonstudentsclub.com\n",
            "parola: python\n"
          ]
        }
      ],
      "source": [
        "email = 'python@pythonstudentsclub.com'\n",
        "password = 'python'\n",
        "email_adres = input('email: ')\n",
        "sifre = input('parola: ')"
      ]
    },
    {
      "cell_type": "code",
      "source": [
        "ornek=\"   PYthON    \"\n",
        "print(ornek.lower().strip()) #ilk önce ornek stringini küçük harflere dönüştürür ve sonra boşlukları temizler"
      ],
      "metadata": {
        "colab": {
          "base_uri": "https://localhost:8080/"
        },
        "id": "BLnj4ASujpmh",
        "outputId": "343de5ed-4425-458b-859a-9aac464708c5"
      },
      "id": "BLnj4ASujpmh",
      "execution_count": null,
      "outputs": [
        {
          "output_type": "stream",
          "name": "stdout",
          "text": [
            "python\n"
          ]
        }
      ]
    },
    {
      "cell_type": "code",
      "source": [
        "isEmail = (email == email_adres.lower().strip()) #kullanıcının girdiği email adress ile tanımlı olan email birbirine eşit ise\n",
        "#True değilse False döndürür ve isEmail değişkenine atanır."
      ],
      "metadata": {
        "id": "NRE1BymUOuWI"
      },
      "id": "NRE1BymUOuWI",
      "execution_count": null,
      "outputs": []
    },
    {
      "cell_type": "code",
      "source": [
        "isEmail"
      ],
      "metadata": {
        "colab": {
          "base_uri": "https://localhost:8080/"
        },
        "id": "w5r78ehzkTan",
        "outputId": "1a9714ed-3401-49e7-afe4-bc6ce6409eb8"
      },
      "id": "w5r78ehzkTan",
      "execution_count": null,
      "outputs": [
        {
          "output_type": "execute_result",
          "data": {
            "text/plain": [
              "True"
            ]
          },
          "metadata": {},
          "execution_count": 59
        }
      ]
    },
    {
      "cell_type": "code",
      "source": [
        "isPassword = (password == sifre.lower()) ##kullanıcının girdiği sifre ile tanımlı olan parola birbirine eşit ise\n",
        "#True değilse False döndürür ve isPassword değişkenine atanır."
      ],
      "metadata": {
        "id": "5OxKFHQCOv98"
      },
      "id": "5OxKFHQCOv98",
      "execution_count": null,
      "outputs": []
    },
    {
      "cell_type": "code",
      "source": [
        "isPassword"
      ],
      "metadata": {
        "colab": {
          "base_uri": "https://localhost:8080/"
        },
        "id": "jsjqjeWrkicV",
        "outputId": "898b3f1c-1218-401e-e7c5-6bd21976d717"
      },
      "id": "jsjqjeWrkicV",
      "execution_count": null,
      "outputs": [
        {
          "output_type": "execute_result",
          "data": {
            "text/plain": [
              "True"
            ]
          },
          "metadata": {},
          "execution_count": 61
        }
      ]
    },
    {
      "cell_type": "code",
      "source": [
        "print(f'Email bilgisi : {isEmail} ve Parola: {isPassword}')"
      ],
      "metadata": {
        "id": "hciFMBX_OxcX",
        "colab": {
          "base_uri": "https://localhost:8080/"
        },
        "outputId": "25ee9cf2-72ca-4fdb-dafe-99b24777e240"
      },
      "id": "hciFMBX_OxcX",
      "execution_count": null,
      "outputs": [
        {
          "output_type": "stream",
          "name": "stdout",
          "text": [
            "Email bilgisi : True ve Parola: True\n"
          ]
        }
      ]
    },
    {
      "cell_type": "markdown",
      "id": "457ee9a1",
      "metadata": {
        "id": "457ee9a1"
      },
      "source": [
        "## Koşullu Durumlar (if-else-elif)"
      ]
    },
    {
      "cell_type": "code",
      "source": [
        "liste1=[\"fsc\",\"psc\",\"ossdea\",\"gdg\",\"ibb veri merkezi\"]\n",
        "if len(liste1)>2: #EĞER listenin uzunluğu 2 den büyük ise if bloğunun içerisindeki kod bloğu execute edilir, değil ise ekranda hiçbir çıktı görmeyiz\n",
        "  print(\"Listenin uzunğu ikiden büyüktür ve {}'tir\".format(len(liste1)))"
      ],
      "metadata": {
        "id": "0-YyWG9rJ42m"
      },
      "id": "0-YyWG9rJ42m",
      "execution_count": null,
      "outputs": []
    },
    {
      "cell_type": "code",
      "source": [
        "dictionary={1:\"Algoritmalar\", 2:\"Veri Yapıları\", 3:\"Python\"}\n",
        "if dictionary[1]==\"Algoritmalar\": #eğer sözlüğün keylerinden 1 in değeri \"Algoritmalar\" ise if bloğunun içerisindeki kod bloğu execute edilir.\n",
        "  print(True)\n",
        "\n"
      ],
      "metadata": {
        "id": "Zoi8RQGYKubr",
        "colab": {
          "base_uri": "https://localhost:8080/"
        },
        "outputId": "1d6aacf6-5b0f-4685-b06a-50b4e29fa183"
      },
      "id": "Zoi8RQGYKubr",
      "execution_count": null,
      "outputs": [
        {
          "output_type": "stream",
          "name": "stdout",
          "text": [
            "True\n",
            "Algoritmalar\n"
          ]
        }
      ]
    },
    {
      "cell_type": "code",
      "source": [
        "sayı=int(input(\"Bir sayı giriniz: \"))\n",
        "if sayı%2==0:\n",
        "  print(f'{sayı}; 2 ile tam bölünebilmektedir.')\n",
        "elif sayı%3==0 and sayı%5==0:\n",
        "    print(f'{sayı}; 15 ile tam bölünebilmektedir.')\n",
        "elif sayı%7==0:\n",
        "  print(f'{sayı}; 7 ile tam bölünebilmektedir.')\n",
        "else:\n",
        "  print(f'{sayı}- 2,15,7 ile tam bölünememektedir.')"
      ],
      "metadata": {
        "id": "4p2VLDTtMoAJ",
        "colab": {
          "base_uri": "https://localhost:8080/"
        },
        "outputId": "4a23204e-2185-4bb5-a22a-93b219807f8c"
      },
      "id": "4p2VLDTtMoAJ",
      "execution_count": null,
      "outputs": [
        {
          "output_type": "stream",
          "name": "stdout",
          "text": [
            "Bir sayı giriniz: 90\n",
            "90; 2 ile tam bölünebilmektedir.\n",
            "90; 3 ve 5 ile tam bölünebilmektedir.\n",
            "90- 7 ile tam bölünememektedir.\n"
          ]
        }
      ]
    },
    {
      "cell_type": "code",
      "source": [
        "name=str(input(\"İsminizi giriniz: \"))\n",
        "if name.isalpha(): #kullanıcının girdiği isim harflerden mi oluşuyor diye kontrol edilir, eğer harflerden oluşuyorsa True oluşmuyorsa False döner\n",
        "  print(\"Hoşgeldin \"+name)\n",
        "else:\n",
        "  print(\"İsminizi anlayamadım :( \")\n"
      ],
      "metadata": {
        "id": "-rJIByXmO_Zj",
        "colab": {
          "base_uri": "https://localhost:8080/"
        },
        "outputId": "faffd2e3-36f1-4e58-edc1-f6672dff497a"
      },
      "id": "-rJIByXmO_Zj",
      "execution_count": null,
      "outputs": [
        {
          "output_type": "stream",
          "name": "stdout",
          "text": [
            "İsminizi giriniz: Hilal\n",
            "Hoşgeldin Hilal\n"
          ]
        }
      ]
    },
    {
      "cell_type": "code",
      "execution_count": null,
      "id": "163d3f3e",
      "metadata": {
        "id": "163d3f3e",
        "colab": {
          "base_uri": "https://localhost:8080/"
        },
        "outputId": "4a340aed-304f-4ab1-e24a-9abf9394b83b"
      },
      "outputs": [
        {
          "output_type": "stream",
          "name": "stdout",
          "text": [
            "Bir sayı giriniz: -54\n",
            "-54 negatif bir sayıdır.\n"
          ]
        }
      ],
      "source": [
        "sayı=int(input(\"Bir sayı giriniz: \"))\n",
        "if sayı>0:\n",
        "    print(\"{} pozitif bir sayıdır.\".format(sayı))\n",
        "else:\n",
        "    print(\"{} negatif bir sayıdır.\".format(sayı))"
      ]
    },
    {
      "cell_type": "code",
      "execution_count": null,
      "id": "8068e60c",
      "metadata": {
        "id": "8068e60c",
        "colab": {
          "base_uri": "https://localhost:8080/"
        },
        "outputId": "9f76cdc7-eb50-41fa-9f54-7d5e1a99152e"
      },
      "outputs": [
        {
          "output_type": "stream",
          "name": "stdout",
          "text": [
            "Parola oluşturunuz:hiilal\n",
            "Parolanız oluşturuldu :)\n"
          ]
        }
      ],
      "source": [
        "parola=input(\"Parola oluşturunuz:\")\n",
        "if len(parola)<5:\n",
        "    print(\"Parolanız minumum 5 karakter uzunlukta olmalıdır!\")\n",
        "elif len(parola)>8:\n",
        "    print(\"Parolanız maksimum 8 karakter uzunlukta olmalıdır!\")\n",
        "else:\n",
        "    print(\"Parolanız oluşturuldu :)\")\n",
        "    "
      ]
    },
    {
      "cell_type": "code",
      "source": [
        "isEmail=email == email_adres.lower().strip()"
      ],
      "metadata": {
        "id": "K_zWTMuUt_qz"
      },
      "id": "K_zWTMuUt_qz",
      "execution_count": null,
      "outputs": []
    },
    {
      "cell_type": "code",
      "source": [
        "isim= \"PSC\"\n",
        "email = 'python@pythonstudentsclub.com'\n",
        "password = 'python'\n",
        "email_adres = input('email: ')\n",
        "sifre = input('parola: ')\n",
        "#eğer if bloğuna girilirse program elif ve else koşullarını kontrol etmez, if'in içerisindeki kodu çalıştırır ve terminate eder.(durur)\n",
        "if email != email_adres.lower().strip(): #girilen email ile tanımlı olan birbirine eşir değilse True döner ve if bloğunun içi execute edilir.\n",
        "  print(\"Doğru bir mail adresi giriniz!\")\n",
        "elif password != sifre.lower(): #girilen sifre ile tanımlı olan password birbirine eşir değilse True döner ve if bloğunun içi execute edilir.\n",
        "  print(\"Şifreniz doğru değil\")\n",
        "else: #yukarıdakilerin dışındaki tüm durumlar için else bloğu çalıştırılır\n",
        "  print(\"Bilgileriniz doğrulandı, teşekkürler \"+isim)\n"
      ],
      "metadata": {
        "id": "C2ddDZlBPyXP",
        "colab": {
          "base_uri": "https://localhost:8080/"
        },
        "outputId": "c446f892-f5df-40ee-dc2a-deac94b12b47"
      },
      "id": "C2ddDZlBPyXP",
      "execution_count": null,
      "outputs": [
        {
          "output_type": "stream",
          "name": "stdout",
          "text": [
            "email: python@pythonstudentsclub.com\n",
            "parola: python\n",
            "Bilgileriniz doğrulandı, teşekkürler PSC\n"
          ]
        }
      ]
    },
    {
      "cell_type": "markdown",
      "id": "bab3c8ee",
      "metadata": {
        "id": "bab3c8ee"
      },
      "source": [
        "## Range() Fonsiyonu\n",
        "\n",
        "Range fonksiyonu default olarak 0’dan başlayan ve 1’er artan ve belirtilen sayıda biten bir sayı dizisi döndürür. Başlangıç ve bitiş değiştirilebileceği gibi artış miktarı da değiştirilebilir.Örnekler üzerinden inceleyelim. \n",
        "Syntax olarak bakacak olursan ;\n",
        "\n",
        "range(stop)\n",
        "\n",
        "range(start, stop, step)"
      ]
    },
    {
      "cell_type": "code",
      "execution_count": null,
      "id": "bcf90f48",
      "metadata": {
        "id": "bcf90f48",
        "colab": {
          "base_uri": "https://localhost:8080/"
        },
        "outputId": "526622d2-889b-4852-e95d-58fb9d9b1e36"
      },
      "outputs": [
        {
          "output_type": "stream",
          "name": "stdout",
          "text": [
            "0\n",
            "1\n",
            "2\n",
            "3\n",
            "4\n"
          ]
        }
      ],
      "source": [
        "for x in range(5): #0 dan başlayarak 4(dahil) e kadar olan elamanları sırasıyla ekrana yazdırır\n",
        "  print(x)"
      ]
    },
    {
      "cell_type": "code",
      "execution_count": null,
      "id": "3ac70cc0",
      "metadata": {
        "id": "3ac70cc0",
        "colab": {
          "base_uri": "https://localhost:8080/"
        },
        "outputId": "0b78d6f7-c385-43fb-a996-1d7004a49947"
      },
      "outputs": [
        {
          "output_type": "stream",
          "name": "stdout",
          "text": [
            "2\n",
            "3\n",
            "4\n"
          ]
        }
      ],
      "source": [
        "for x in range(2,5): #2 den başlayarak 4(dahil) e kadar olan elamanları sırasıyla ekrana yazdırır\n",
        "    print(x)"
      ]
    },
    {
      "cell_type": "code",
      "execution_count": null,
      "id": "b3205503",
      "metadata": {
        "id": "b3205503",
        "colab": {
          "base_uri": "https://localhost:8080/"
        },
        "outputId": "e91452ba-93a0-4e9a-c4a3-a00e2b1b3a13"
      },
      "outputs": [
        {
          "output_type": "stream",
          "name": "stdout",
          "text": [
            "0, 17, 34, 51, 68, "
          ]
        }
      ],
      "source": [
        "for i in range(0, 70, 17): #0 dan başlayarak 70(dahil değil) e kadar olan elamanları 17 elemanda bir sırasıyla ekrana yazdırır\n",
        "    print(i, end=\", \")"
      ]
    },
    {
      "cell_type": "code",
      "execution_count": 105,
      "id": "6a435b56",
      "metadata": {
        "id": "6a435b56",
        "colab": {
          "base_uri": "https://localhost:8080/"
        },
        "outputId": "ee6a5dcf-23f2-46bc-a428-693339b0c426"
      },
      "outputs": [
        {
          "output_type": "stream",
          "name": "stdout",
          "text": [
            "fsc,psc,ossdea,gdg,ibb veri merkezi,"
          ]
        }
      ],
      "source": [
        "liste=[\"fsc\",\"psc\",\"ossdea\",\"gdg\",\"ibb veri merkezi\"]\n",
        "for i in range(5): #0,1,2,3,4\n",
        "    print(liste[i], end=\",\")"
      ]
    },
    {
      "cell_type": "code",
      "execution_count": null,
      "id": "adb56f77",
      "metadata": {
        "id": "adb56f77",
        "colab": {
          "base_uri": "https://localhost:8080/"
        },
        "outputId": "0ea4742f-309c-421b-afde-5de641a03d1e"
      },
      "outputs": [
        {
          "output_type": "stream",
          "name": "stdout",
          "text": [
            "300 (dahil) ve 500(dahil değil) aralığında ve her adımda 100 eklenen sayıların toplamı: 700\n"
          ]
        }
      ],
      "source": [
        "toplam = 0\n",
        "for i in range(300,500,100):\n",
        "    toplam = toplam + i\n",
        "print(\"300 (dahil) ve 500(dahil değil) aralığında ve her adımda 100 eklenen sayıların toplamı:\", toplam)"
      ]
    },
    {
      "cell_type": "code",
      "execution_count": null,
      "id": "a485176e",
      "metadata": {
        "id": "a485176e",
        "colab": {
          "base_uri": "https://localhost:8080/",
          "height": 198
        },
        "outputId": "457ae241-e0c2-4f89-9f32-f1a06a36da8c"
      },
      "outputs": [
        {
          "output_type": "error",
          "ename": "TypeError",
          "evalue": "ignored",
          "traceback": [
            "\u001b[0;31m---------------------------------------------------------------------------\u001b[0m",
            "\u001b[0;31mTypeError\u001b[0m                                 Traceback (most recent call last)",
            "\u001b[0;32m<ipython-input-100-bdd54be4d67c>\u001b[0m in \u001b[0;36m<module>\u001b[0;34m()\u001b[0m\n\u001b[1;32m      1\u001b[0m \u001b[0;31m#python range() fonksiyonu ondalık sayıları desteklememektedir.\u001b[0m\u001b[0;34m\u001b[0m\u001b[0;34m\u001b[0m\u001b[0;34m\u001b[0m\u001b[0m\n\u001b[0;32m----> 2\u001b[0;31m \u001b[0;32mfor\u001b[0m \u001b[0mi\u001b[0m \u001b[0;32min\u001b[0m \u001b[0mrange\u001b[0m\u001b[0;34m(\u001b[0m\u001b[0;36m9.3\u001b[0m\u001b[0;34m)\u001b[0m\u001b[0;34m:\u001b[0m\u001b[0;34m\u001b[0m\u001b[0;34m\u001b[0m\u001b[0m\n\u001b[0m\u001b[1;32m      3\u001b[0m     \u001b[0mprint\u001b[0m\u001b[0;34m(\u001b[0m\u001b[0mi\u001b[0m\u001b[0;34m)\u001b[0m\u001b[0;34m\u001b[0m\u001b[0;34m\u001b[0m\u001b[0m\n",
            "\u001b[0;31mTypeError\u001b[0m: 'float' object cannot be interpreted as an integer"
          ]
        }
      ],
      "source": [
        "#python range() fonksiyonu ondalık sayıları desteklememektedir.\n",
        "for i in range(9.3):\n",
        "    print(i)"
      ]
    },
    {
      "cell_type": "code",
      "execution_count": null,
      "id": "abeb8952",
      "metadata": {
        "id": "abeb8952"
      },
      "outputs": [],
      "source": [
        "for i in range(int(9.3)):\n",
        "  print(i)"
      ]
    },
    {
      "cell_type": "markdown",
      "id": "02dd4c92",
      "metadata": {
        "id": "02dd4c92"
      },
      "source": [
        "## For Döngüsü"
      ]
    },
    {
      "cell_type": "markdown",
      "id": "d2bde075",
      "metadata": {
        "id": "d2bde075"
      },
      "source": [
        "For döngüleri bir dizi üzerinde yineleme yapmak için kullanılır. Bu diziler list, tuple, dictionary, set ya da strinler olabilir.\n",
        "Diğer programlama diller ile karşılaştırdığımız zaman python da daha az anahtar sözcük kullanılır ve herhangi bir indekleme gerektirmez."
      ]
    },
    {
      "cell_type": "code",
      "execution_count": null,
      "id": "afe9ef0d",
      "metadata": {
        "id": "afe9ef0d",
        "colab": {
          "base_uri": "https://localhost:8080/"
        },
        "outputId": "b6a3c01d-4666-4136-a625-aadd9e02193e"
      },
      "outputs": [
        {
          "output_type": "stream",
          "name": "stdout",
          "text": [
            "Java\n",
            "Python\n",
            "Go\n",
            "R\n",
            "C\n",
            "C++\n"
          ]
        }
      ],
      "source": [
        "#listenin içerisindeki her bir elemanı ekrana çıktı olarak yazdırmak istiyoruz\n",
        "lang_list=[\"Java\", \"Python\", \"Go\", \"R\", \"C\", \"C++\"]\n",
        "for lang in lang_list:\n",
        "    print(lang)"
      ]
    },
    {
      "cell_type": "code",
      "execution_count": null,
      "id": "1557eb0e",
      "metadata": {
        "id": "1557eb0e",
        "colab": {
          "base_uri": "https://localhost:8080/"
        },
        "outputId": "e099f070-ee17-4f28-8d7c-766a14e39d85"
      },
      "outputs": [
        {
          "output_type": "stream",
          "name": "stdout",
          "text": [
            "Java\n",
            "Python\n",
            "Go\n",
            "R\n",
            "C\n",
            "C++\n"
          ]
        }
      ],
      "source": [
        "#tuple elemanlarını sırayla görmek için;\n",
        "lang_tuple=(\"Java\", \"Python\", \"Go\", \"R\", \"C\",\"C++\")\n",
        "for i in lang_tuple:\n",
        "    print(i)"
      ]
    },
    {
      "cell_type": "code",
      "execution_count": null,
      "id": "5bd8fcb2",
      "metadata": {
        "id": "5bd8fcb2",
        "colab": {
          "base_uri": "https://localhost:8080/"
        },
        "outputId": "97a094df-08d4-4ddf-c9c3-57c1ab4980db"
      },
      "outputs": [
        {
          "output_type": "stream",
          "name": "stdout",
          "text": [
            "Java\n",
            "Python\n",
            "Go\n",
            "R\n",
            "C\n",
            "C++\n"
          ]
        }
      ],
      "source": [
        "#dictler keyler ve valuelarından oluşmaktadır\n",
        "lang_dict={1:\"Java\", 2:\"Python\", 3:\"Go\", 4:\"R\", 5:\"C\", 6:\"C++\"}\n",
        "lang_dict[1]\n",
        "for y in lang_dict:\n",
        "    print(lang_dict[y]) \n",
        "#Eğer sadece dizinin içerinde yineleme yaparak gezinirsek ve her gezindiğimiz element i yazdırırsak sadece dict'in\n",
        "#keylerine erişebildiğimizi görebiliriz."
      ]
    },
    {
      "cell_type": "code",
      "execution_count": null,
      "id": "b2bfe4da",
      "metadata": {
        "id": "b2bfe4da",
        "colab": {
          "base_uri": "https://localhost:8080/"
        },
        "outputId": "1d1af611-1cec-4a72-ce9e-e571c82faaeb"
      },
      "outputs": [
        {
          "output_type": "stream",
          "name": "stdout",
          "text": [
            "Java\n",
            "Python\n",
            "Go\n",
            "R\n",
            "C\n",
            "C++\n"
          ]
        }
      ],
      "source": [
        "#eğer dict'in value'larına ulaşmak istiyorsak;\n",
        "for lang in lang_dict:\n",
        "    print(lang_dict[lang])"
      ]
    },
    {
      "cell_type": "code",
      "execution_count": null,
      "id": "0ddab19f",
      "metadata": {
        "id": "0ddab19f",
        "colab": {
          "base_uri": "https://localhost:8080/"
        },
        "outputId": "51c24c79-8d7b-4d5e-fb47-710bcfe90353"
      },
      "outputs": [
        {
          "output_type": "stream",
          "name": "stdout",
          "text": [
            "dict_values(['Java', 'Python', 'Go', 'R', 'C', 'C++'])\n",
            "Java\n",
            "Python\n",
            "Go\n",
            "R\n",
            "C\n",
            "C++\n"
          ]
        }
      ],
      "source": [
        "#value'lara ulaşmak için alternatif olarak .values() fonksiyonunu da kullanabiliriz;\n",
        "print(lang_dict.values())\n",
        "for x in lang_dict.values():\n",
        "    print(x)"
      ]
    },
    {
      "cell_type": "code",
      "execution_count": null,
      "id": "4fa7483f",
      "metadata": {
        "id": "4fa7483f",
        "colab": {
          "base_uri": "https://localhost:8080/"
        },
        "outputId": "793121f7-46d0-449d-ab62-3d730e05570c"
      },
      "outputs": [
        {
          "output_type": "stream",
          "name": "stdout",
          "text": [
            "1 Java\n",
            "2 Python\n",
            "3 Go\n",
            "4 R\n",
            "5 C\n",
            "6 C++\n"
          ]
        }
      ],
      "source": [
        "#eğer dict'in hem key'lerine hemde value'larına aynı anda ulaşmak istiyorsak, .items() fonksiyonunu kullanabiliriz;\n",
        "#[(key1,value1), (key2, value2),...]\n",
        "for (key,value) in lang_dict.items():\n",
        "    print(key,value)"
      ]
    },
    {
      "cell_type": "code",
      "execution_count": null,
      "id": "5fd9c90d",
      "metadata": {
        "id": "5fd9c90d"
      },
      "outputs": [],
      "source": [
        "#stringler bir dizi harfden oluştuğu için for loop ile yinelenebilirler;\n",
        "my_string=\"Strings are iterable objects!\"\n",
        "print(list(my_string))\n",
        "for char in my_string:\n",
        "    print(char)"
      ]
    },
    {
      "cell_type": "code",
      "execution_count": null,
      "id": "710cafd5",
      "metadata": {
        "id": "710cafd5",
        "colab": {
          "base_uri": "https://localhost:8080/"
        },
        "outputId": "5ff3fb28-364a-4f3c-c80d-f5181540d8f9"
      },
      "outputs": [
        {
          "output_type": "stream",
          "name": "stdout",
          "text": [
            "Index: 0 has value Java\n",
            "Index: 1 has value Python\n",
            "Index: 2 has value Go\n",
            "Index: 3 has value R\n",
            "Index: 4 has value C\n",
            "Index: 5 has value C++\n"
          ]
        }
      ],
      "source": [
        "#Ayrıca dizin numaralarına bakarak tuple öğeleri arasında geçiş yapabilirsiniz.\n",
        "#Tuple elemanlarının index numaralarına bakarak hepsini teker teker ekrana yazdıracağız.\n",
        "#Yukarıda tanımladığımız lang_tuple'ı kullanabiliriz;\n",
        "lang_tuple=(\"Java\", \"Python\", \"Go\", \"R\", \"C\",\"C++\")\n",
        "for lang in range(6):\n",
        "    print(\"Index: {} has value {}\".format(lang,lang_tuple[lang])) #formatted output"
      ]
    },
    {
      "cell_type": "code",
      "source": [
        "toplam=0\n",
        "#toplam 0\n",
        "# toplam 15\n",
        "\n",
        "for i in range(10): #(0,1,2,3,4,5,6,7,8,9)\n",
        "  toplam=toplam+i\n",
        "  #toplam=10+5\n",
        "\n",
        "print(\"0 ile 10 (dahil değil) arasındaki satıların toplamı {}\".format(toplam))"
      ],
      "metadata": {
        "id": "vXDgqbuESJb1",
        "colab": {
          "base_uri": "https://localhost:8080/"
        },
        "outputId": "5170916f-908c-471d-e842-f6047ce54f69"
      },
      "id": "vXDgqbuESJb1",
      "execution_count": null,
      "outputs": [
        {
          "output_type": "stream",
          "name": "stdout",
          "text": [
            "0 ile 10 (dahil değil) arasındaki satıların toplamı 45\n"
          ]
        }
      ]
    },
    {
      "cell_type": "code",
      "source": [
        "toplam=0;\n",
        "sayi1=input('1. Sayı: ')\n",
        "sayi2=input('2. Sayı: ')\n",
        "for i in range(int(sayi1)+1,int(sayi2)): #(2,6)\n",
        "      toplam+=i\n",
        "print(\"{0} ile {1} arasındaki sayıların toplamı : {2}\".format(sayi1,sayi2,toplam))"
      ],
      "metadata": {
        "id": "GeiFgX-1RrNB",
        "colab": {
          "base_uri": "https://localhost:8080/"
        },
        "outputId": "54e72d2e-c1af-41b4-c3dc-ce54564f73d8"
      },
      "id": "GeiFgX-1RrNB",
      "execution_count": null,
      "outputs": [
        {
          "output_type": "stream",
          "name": "stdout",
          "text": [
            "1. Sayı: 1\n",
            "2. Sayı: 6\n",
            "1 ile 6 arasındaki sayıların toplamı : 14\n"
          ]
        }
      ]
    },
    {
      "cell_type": "markdown",
      "source": [
        "### While Döngüsü"
      ],
      "metadata": {
        "id": "3F1TW4qNOg1M"
      },
      "id": "3F1TW4qNOg1M"
    },
    {
      "cell_type": "code",
      "source": [
        "i = 1\n",
        "while i < 6: #i 1den başlayarak 5 (dahil)'e kadar her yenilemede i'nin değerini 1 arttırır ve döngünün içini yeni i değerleri için çalıştırır.\n",
        "  print(i)\n",
        "  i += 1"
      ],
      "metadata": {
        "id": "lFobvnAuOmJm",
        "colab": {
          "base_uri": "https://localhost:8080/"
        },
        "outputId": "23166165-0a96-47ce-fb3a-e1c4c4f18beb"
      },
      "id": "lFobvnAuOmJm",
      "execution_count": null,
      "outputs": [
        {
          "output_type": "stream",
          "name": "stdout",
          "text": [
            "1\n",
            "2\n",
            "3\n",
            "4\n",
            "5\n"
          ]
        }
      ]
    },
    {
      "cell_type": "code",
      "source": [
        "i = -1\n",
        "while i < 6:\n",
        "  print(i)\n",
        "  i += 1\n",
        "else: #eğer i 6 olduysa while girmez ve else bloğuna girip içerisindeki kod bloğunu çalıştırır\n",
        "  print(\"i nin son değeri {}\".format(i))"
      ],
      "metadata": {
        "id": "6UtM05uBOmSf",
        "colab": {
          "base_uri": "https://localhost:8080/"
        },
        "outputId": "9fc0160d-e061-428e-e0b6-ff1ca4264937"
      },
      "id": "6UtM05uBOmSf",
      "execution_count": 107,
      "outputs": [
        {
          "output_type": "stream",
          "name": "stdout",
          "text": [
            "-1\n",
            "0\n",
            "1\n",
            "2\n",
            "3\n",
            "4\n",
            "5\n",
            "i nin son değeri 6\n"
          ]
        }
      ]
    },
    {
      "cell_type": "code",
      "source": [
        "print(\"\"\"\n",
        "*********************\n",
        "Hesap Makinesi Örneği\n",
        "*********************\n",
        "1- Toplama\n",
        "2- Çıkartma\n",
        "3- Çarpma\n",
        "4- Bölme\n",
        "5- Üs Bulma\n",
        "6- Kalan Bulma\n",
        "7- Tam Sayı Bölmesi\n",
        "*********************\n",
        "\"\"\")\n",
        "\n",
        "while True:\n",
        "  x = int(input(\"işlem seçiniz\"))\n",
        "  y = int(input(\"Birinci sayıyı giriniz\"))\n",
        "  z = int(input(\"İkinci sayıyı giriniz\"))\n",
        "\n",
        "\n",
        "  if x == 1:\n",
        "    print(y+z)\n",
        "  elif x == 2:\n",
        "    print(y-z)\n",
        "  elif x == 3:\n",
        "    print(y*z)\n",
        "  elif x == 4:\n",
        "    print(y/z)\n",
        "  elif x == 5:\n",
        "    print(y**z)\n",
        "  elif x == 6:\n",
        "    print(y%z)\n",
        "  elif x == 7:\n",
        "    print(y//z)\n",
        "  else:\n",
        "    print(\"Hatalı işlem yaptınız!\")"
      ],
      "metadata": {
        "id": "pJ3iI3VYTvH0"
      },
      "id": "pJ3iI3VYTvH0",
      "execution_count": null,
      "outputs": []
    },
    {
      "cell_type": "code",
      "source": [
        "print(\"\"\"\n",
        "--------------------------------\n",
        "Python Students Club Kayıt Formu\n",
        "--------------------------------\n",
        "\"\"\")\n",
        "\n",
        "uyeler = {}\n",
        "while True: #biz programı interrupt edene kadar devam edecektir.\n",
        "  ad = input(\"Adınızı giriniz\")\n",
        "  uyeler[\"Ad\"] = ad #uyeler sözlüğüne \"Ad\":ad  itemını ekler (ad-kullanıcıdan alınan değeri)\n",
        "\n",
        "  soyad = input(\"Soyadınızı giriniz\")\n",
        "  uyeler[\"Soyad\"] = soyad #uyeler sözlüğüne \"Soyad\":soyad  itemını ekler (soyad-kullanıcıdan alınan değeri)\n",
        "\n",
        "  \n",
        "  print(uyeler) #her üye ekleme sonunda da sözlüğün son halini ekrana bastırır"
      ],
      "metadata": {
        "id": "zIuQnRdv9-S0"
      },
      "id": "zIuQnRdv9-S0",
      "execution_count": null,
      "outputs": []
    },
    {
      "cell_type": "code",
      "source": [
        "print(\"\"\"\n",
        "--------------------------------\n",
        "Python Students Club Kayıt Formu\n",
        "--------------------------------\n",
        "\"\"\")\n",
        "#her üyemizi bir sözlük içerisine yerleştiriyoruz ve bu sözlükleri de uyeData listesine append methodu ile ekliyoruz\n",
        "uyeData = []\n",
        "while True:\n",
        "  uyeler = {}\n",
        "  ad = input(\"Adınızı giriniz\")\n",
        "  uyeler[\"Ad\"] = ad\n",
        "\n",
        "  soyad = input(\"Soyadınızı giriniz\")\n",
        "  uyeler[\"Soyad\"] = soyad\n",
        "  \n",
        "  uyeData.append(uyeler)\n",
        "  print(uyeData)\n"
      ],
      "metadata": {
        "id": "j6Fk8veDAcDP"
      },
      "id": "j6Fk8veDAcDP",
      "execution_count": null,
      "outputs": []
    },
    {
      "cell_type": "code",
      "source": [
        "print(\"\"\"\n",
        "--------------------------------\n",
        "Python Students Club Kayıt Formu\n",
        "--------------------------------\n",
        "\"\"\")\n",
        "\n",
        "uyeData = []\n",
        "while True:\n",
        "  uyeler = {}\n",
        "  teknolojiler = []\n",
        "\n",
        "  ad = input(\"Adınızı giriniz\")\n",
        "  uyeler[\"Ad\"] = ad\n",
        "\n",
        "  soyad = input(\"Soyadınızı giriniz\")\n",
        "  uyeler[\"Soyad\"] = soyad\n",
        "\n",
        "  teknolojiSayisi = int(input(\"Kaç teknoloji ile ilgilendiyorsunuz\"))\n",
        "  for i in range(1, (teknolojiSayisi+1)):\n",
        "    teknoloji = input(f'{i}. teknolojinizi giriniz.')\n",
        "    teknolojiler.append(teknoloji)\n",
        "  \n",
        "  uyeler[\"Teknolojiler\"] = teknolojiler\n",
        "  uyeData.append(uyeler)\n",
        "  print(uyeData)"
      ],
      "metadata": {
        "id": "rOzqST7aBN75"
      },
      "id": "rOzqST7aBN75",
      "execution_count": null,
      "outputs": []
    },
    {
      "cell_type": "code",
      "source": [
        "print(\"\"\"\n",
        "--------------------------------\n",
        "Python Students Club Kayıt Formu\n",
        "--------------------------------\n",
        "\"\"\")\n",
        "\n",
        "uyeData = []\n",
        "while True:\n",
        "  uyeler = {}\n",
        "  teknolojiler = []\n",
        "\n",
        "  ad = input(\"Adınızı giriniz\")\n",
        "  uyeler[\"Ad\"] = ad\n",
        "\n",
        "  soyad = input(\"Soyadınızı giriniz\")\n",
        "  uyeler[\"Soyad\"] = soyad\n",
        "\n",
        "  teknolojiSayisi = int(input(\"Kaç teknoloji ile ilgilendiyorsunuz\"))\n",
        "  for i in range(1, (teknolojiSayisi+1)):\n",
        "    teknoloji = input(f'{i}. teknolojinizi giriniz.')\n",
        "    teknolojiler.append(teknoloji)\n",
        "  \n",
        "  uyeler[\"Teknolojiler\"] = teknolojiler\n",
        "  uyeData.append(uyeler)\n",
        "  print(uyeData)"
      ],
      "metadata": {
        "id": "4queyxjoHR6b"
      },
      "id": "4queyxjoHR6b",
      "execution_count": null,
      "outputs": []
    },
    {
      "cell_type": "markdown",
      "id": "261bc05c",
      "metadata": {
        "id": "261bc05c"
      },
      "source": [
        "### Break  Deyimi"
      ]
    },
    {
      "cell_type": "markdown",
      "id": "78d91322",
      "metadata": {
        "id": "78d91322"
      },
      "source": [
        "Break deyimi ile istediğimiz durumlarda dögünün durmasını sağlayabiliyoruz"
      ]
    },
    {
      "cell_type": "code",
      "execution_count": null,
      "id": "fdf6fc5e",
      "metadata": {
        "id": "fdf6fc5e"
      },
      "outputs": [],
      "source": [
        "i = 1\n",
        "while i < 6:\n",
        "  print(i)\n",
        "  if i == 3:\n",
        "    break\n",
        "  i += 1"
      ]
    },
    {
      "cell_type": "code",
      "execution_count": null,
      "id": "79c5b011",
      "metadata": {
        "id": "79c5b011"
      },
      "outputs": [],
      "source": [
        "liste = [1,2,3,4,5,6,7,8,9,10]\n",
        "for i in liste:\n",
        "    print(i)\n",
        "    if i-7==0:\n",
        "        break"
      ]
    },
    {
      "cell_type": "markdown",
      "id": "db8719b3",
      "metadata": {
        "id": "db8719b3"
      },
      "source": [
        "### Continue Deyimi"
      ]
    },
    {
      "cell_type": "markdown",
      "id": "7659d437",
      "metadata": {
        "id": "7659d437"
      },
      "source": [
        "Continue deyimi ile mevcut yinelemeyi durdurup bir sonraki ile devam etmesini sağlayabiliriz,\n",
        "yukarıda tanımladığımız numbers listesinde 5 ile tam bölünemeyenleri ekrana yazdırmak istiyoruz.."
      ]
    },
    {
      "cell_type": "code",
      "execution_count": null,
      "id": "fad67ae4",
      "metadata": {
        "id": "fad67ae4"
      },
      "outputs": [],
      "source": [
        "for i in liste:\n",
        "    if i%2==0:\n",
        "        continue\n",
        "    print(i)"
      ]
    },
    {
      "cell_type": "markdown",
      "id": "5ea3eefa",
      "metadata": {
        "id": "5ea3eefa"
      },
      "source": [
        "### Pass Deyimi"
      ]
    },
    {
      "cell_type": "markdown",
      "id": "038ef4be",
      "metadata": {
        "id": "038ef4be"
      },
      "source": [
        "Python pass ifadesi boş bir ifadedir. Python'da bir yorum ve bir geçiş ifadesi arasındaki fark, yorumlayıcı bir yorumu tamamen yok sayarken, geçişin de yok sayılmamasıdır. Örneğin bir loop yada bir fonksiyon henüz tamamlanmamışsa ve sonrasında tamamlanacaksa interpreter'ın hata vermemesi için pass ifadesini kullanabiliriz."
      ]
    },
    {
      "cell_type": "code",
      "execution_count": null,
      "id": "148a426e",
      "metadata": {
        "id": "148a426e"
      },
      "outputs": [],
      "source": [
        "#yukarıda tanımladığımız listelerden birini kullanabiliriz ve pass kullandığımzda ve kullanmadığımızda\n",
        "#interpreterdan alacağımız yanıtları karşılaştırabiliriz.\n",
        "for i in liste:\n",
        "    "
      ]
    },
    {
      "cell_type": "code",
      "execution_count": null,
      "id": "68778fd7",
      "metadata": {
        "id": "68778fd7"
      },
      "outputs": [],
      "source": [
        "for i in liste:\n",
        "    pass"
      ]
    },
    {
      "cell_type": "markdown",
      "id": "ad1343d3",
      "metadata": {
        "id": "ad1343d3"
      },
      "source": [
        "## List Comprehension\n",
        "Mevcut bir listenin değerlerine dayalı olarak yeni bir liste oluşturmak istediğinizde daha kısa bir syntax sunar.\n"
      ]
    },
    {
      "cell_type": "code",
      "execution_count": null,
      "id": "53b07805",
      "metadata": {
        "id": "53b07805"
      },
      "outputs": [],
      "source": [
        "letters = []\n",
        "\n",
        "for letter in 'Python for Everybody':\n",
        "    letters.append(letter)\n",
        "\n",
        "print(letters)"
      ]
    },
    {
      "cell_type": "code",
      "execution_count": null,
      "id": "4561a047",
      "metadata": {
        "id": "4561a047"
      },
      "outputs": [],
      "source": [
        "letters=[letter for letter in \"Python for Everybody\"]\n",
        "print(letters)"
      ]
    },
    {
      "cell_type": "code",
      "execution_count": null,
      "id": "b2d65229",
      "metadata": {
        "id": "b2d65229"
      },
      "outputs": [],
      "source": [
        "number_list=[]\n",
        "for x in range(17):\n",
        "    if x%2==0:\n",
        "        number_list.append(x)\n",
        "print(number_list)"
      ]
    },
    {
      "cell_type": "code",
      "execution_count": null,
      "id": "f4a4324f",
      "metadata": {
        "id": "f4a4324f"
      },
      "outputs": [],
      "source": [
        "number_list = [ x for x in range(17) if x % 2 == 0]\n",
        "print(number_list)"
      ]
    },
    {
      "cell_type": "code",
      "execution_count": null,
      "id": "54ccbdde",
      "metadata": {
        "id": "54ccbdde"
      },
      "outputs": [],
      "source": [
        "number_list = [x for x in range(100) if x % 3 == 0 if x % 7 == 0]\n",
        "print(number_list)"
      ]
    },
    {
      "cell_type": "code",
      "execution_count": null,
      "id": "5d65e84a",
      "metadata": {
        "id": "5d65e84a"
      },
      "outputs": [],
      "source": [
        "tek_cift = [\"çift\" if i%2==0 else \"tek\" for i in range(13)]\n",
        "print(tek_cift)"
      ]
    },
    {
      "cell_type": "code",
      "execution_count": null,
      "id": "e44dd062",
      "metadata": {
        "id": "e44dd062"
      },
      "outputs": [],
      "source": [
        ""
      ]
    }
  ],
  "metadata": {
    "kernelspec": {
      "display_name": "Python 3 (ipykernel)",
      "language": "python",
      "name": "python3"
    },
    "language_info": {
      "codemirror_mode": {
        "name": "ipython",
        "version": 3
      },
      "file_extension": ".py",
      "mimetype": "text/x-python",
      "name": "python",
      "nbconvert_exporter": "python",
      "pygments_lexer": "ipython3",
      "version": "3.8.11"
    },
    "colab": {
      "name": "Day2.ipynb",
      "provenance": [],
      "collapsed_sections": [
        "bab3c8ee",
        "02dd4c92",
        "3F1TW4qNOg1M",
        "261bc05c",
        "db8719b3",
        "5ea3eefa",
        "ad1343d3"
      ]
    }
  },
  "nbformat": 4,
  "nbformat_minor": 5
}