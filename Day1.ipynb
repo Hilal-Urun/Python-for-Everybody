{
  "cells": [
    {
      "cell_type": "markdown",
      "metadata": {
        "id": "view-in-github",
        "colab_type": "text"
      },
      "source": [
        "<a href=\"https://colab.research.google.com/github/Hilal-Urun/Python-for-Everybody/blob/main/Day1.ipynb\" target=\"_parent\"><img src=\"https://colab.research.google.com/assets/colab-badge.svg\" alt=\"Open In Colab\"/></a>"
      ]
    },
    {
      "cell_type": "markdown",
      "source": [
        "Prepared by Emirhan Güleç and Hilal Ürün"
      ],
      "metadata": {
        "id": "ROhQacE3VZ_j"
      },
      "id": "ROhQacE3VZ_j"
    },
    {
      "cell_type": "markdown",
      "source": [
        "# Bugün nelerden bahsedeceğiz?\n",
        "* Temel syntax kuralları & Yorum satırları\n",
        "* String & Float & Integer Veri Tipleri\n",
        "* Temel matematik operatörleri\n",
        "* Veri tipi dönüşümü\n",
        "* Değişkenler\n",
        "* Değişken değişimi\n",
        "* Format metodu\n",
        "* list & tuple & dictionary\n",
        "* Input\n",
        "* Kodlama örnekleri"
      ],
      "metadata": {
        "id": "XxF_TBYdqvfa"
      },
      "id": "XxF_TBYdqvfa"
    },
    {
      "cell_type": "markdown",
      "id": "899cfde0-a364-40fc-8be9-da1c5fc13b7d",
      "metadata": {
        "id": "899cfde0-a364-40fc-8be9-da1c5fc13b7d"
      },
      "source": [
        "# **Python Programlama Dili**"
      ]
    },
    {
      "cell_type": "markdown",
      "id": "73bedb69-2b81-4f4c-8d12-ce7b3a4ce7c7",
      "metadata": {
        "tags": [],
        "id": "73bedb69-2b81-4f4c-8d12-ce7b3a4ce7c7"
      },
      "source": [
        "## **Python Nedir?**"
      ]
    },
    {
      "cell_type": "markdown",
      "id": "7b093a2f-7f00-4392-a0fa-986a5e3d7634",
      "metadata": {
        "id": "7b093a2f-7f00-4392-a0fa-986a5e3d7634"
      },
      "source": [
        "* Python Guido Van Rossum tarafından geliştirilmiştir.\n",
        "* Python programlama dilinin ilk versiyonu 1991 yılında 0.9.0 veriyonu olarak yayınlandı, 1994 yılında ise 1.0 versiyonu yayınlandı.\n",
        "* Python, nesne yönelimli, yorumlamalı, birimsel ve etkileşimli yüksek seviyeli bir programlama dilidir.\n",
        "* Python ismi piton yılanından değil ‘Monty Python’s Flying Circus’ adlı komedi programından gelmektedir."
      ]
    },
    {
      "cell_type": "markdown",
      "id": "a0553ea0-befc-4be0-9ea2-e572e4c9d6b0",
      "metadata": {
        "id": "a0553ea0-befc-4be0-9ea2-e572e4c9d6b0"
      },
      "source": [
        "## **Program Nedir?**"
      ]
    },
    {
      "cell_type": "markdown",
      "id": "ce0d5283-6c9f-488c-a06a-2249999833f3",
      "metadata": {
        "jp-MarkdownHeadingCollapsed": true,
        "tags": [],
        "id": "ce0d5283-6c9f-488c-a06a-2249999833f3"
      },
      "source": [
        "##### Program, yapılacak bir işlemi ya da hesaplamayı gerçekleştirmek için birbirini izleyen komut ya da yönergelerden oluşan yapıdır. İşlemler matematiksel ya da mantıksal olabilir."
      ]
    },
    {
      "cell_type": "markdown",
      "id": "ad1afdb7-6d89-42c4-a5f4-9234bf7a474d",
      "metadata": {
        "id": "ad1afdb7-6d89-42c4-a5f4-9234bf7a474d"
      },
      "source": [
        "## **Python Neler Yapabilir?**\n"
      ]
    },
    {
      "cell_type": "markdown",
      "id": "92d0fa16-2708-4bd3-83f3-01d4b82e170d",
      "metadata": {
        "id": "92d0fa16-2708-4bd3-83f3-01d4b82e170d"
      },
      "source": [
        "* Python, web uygulamaları oluşturmak için bir sunucuda kullanılabilir.\n",
        "* Python, iş akışları oluşturmak için yazılımla birlikte kullanılabilir.\n",
        "* Python, veritabanı sistemlerine bağlanabilir. Ayrıca dosyaları okuyabilir ve değiştirebilir.\n",
        "* Python, büyük verileri işlemek ve karmaşık matematik işlemlerini gerçekleştirmek için kullanılabilir.\n",
        "* Python, hızlı prototipleme veya üretime hazır yazılım geliştirme için kullanılabilir.\n",
        "* Python, makine öğreniminde kullanılabilir."
      ]
    },
    {
      "cell_type": "markdown",
      "id": "b0574156-abf6-49c7-8847-ce11cd657560",
      "metadata": {
        "id": "b0574156-abf6-49c7-8847-ce11cd657560"
      },
      "source": [
        "## **Hata Ayıklama Nedir?**"
      ]
    },
    {
      "cell_type": "markdown",
      "id": "94e68a91-01ca-4f8f-934a-aca7b751e0aa",
      "metadata": {
        "id": "94e68a91-01ca-4f8f-934a-aca7b751e0aa"
      },
      "source": [
        "##### Bilgisayar programlarında bug **“hata”**, debug ise **“hata ayıklama”** anlamında kullanılmaktadır.\n",
        "#### Hata Çeşitleri:\n",
        "* Sözdizimsel Hatalar\n",
        "* Çalışma Zamanı Hataları\n",
        "* Mantıksal Hatalar"
      ]
    },
    {
      "cell_type": "markdown",
      "id": "88091bf8-1c8c-4067-9917-a3abc7882262",
      "metadata": {
        "id": "88091bf8-1c8c-4067-9917-a3abc7882262"
      },
      "source": [
        "## **Hello World!**"
      ]
    },
    {
      "cell_type": "code",
      "execution_count": null,
      "id": "c1a59060-2a77-43e8-aca8-30ed9f904db2",
      "metadata": {
        "id": "c1a59060-2a77-43e8-aca8-30ed9f904db2",
        "colab": {
          "base_uri": "https://localhost:8080/"
        },
        "outputId": "ddaa52b5-4423-4597-fe1d-f42ceeb444e4"
      },
      "outputs": [
        {
          "output_type": "stream",
          "name": "stdout",
          "text": [
            "Hello World!\n"
          ]
        }
      ],
      "source": [
        "#print() fonksiyonu ekrana çıktı bastırmak için kullanılır.\n",
        "print(\"Hello World!\")"
      ]
    },
    {
      "cell_type": "code",
      "execution_count": null,
      "id": "aa2eb615-d045-4e8f-9818-c0949e9675b4",
      "metadata": {
        "id": "aa2eb615-d045-4e8f-9818-c0949e9675b4",
        "colab": {
          "base_uri": "https://localhost:8080/"
        },
        "outputId": "40e9590c-49d7-41b3-8c20-bc0cf8418208"
      },
      "outputs": [
        {
          "output_type": "stream",
          "name": "stdout",
          "text": [
            "Hello World!\n"
          ]
        }
      ],
      "source": [
        "print('Hello World!')"
      ]
    },
    {
      "cell_type": "code",
      "execution_count": null,
      "id": "cdf29ad3-043a-4f68-a359-7566c7a90a63",
      "metadata": {
        "id": "cdf29ad3-043a-4f68-a359-7566c7a90a63",
        "colab": {
          "base_uri": "https://localhost:8080/"
        },
        "outputId": "e497741d-dc06-4d45-c175-b2a948f7c94e"
      },
      "outputs": [
        {
          "output_type": "stream",
          "name": "stdout",
          "text": [
            "Hello World!\n"
          ]
        }
      ],
      "source": [
        "print(\"\"\"Hello World!\"\"\")"
      ]
    },
    {
      "cell_type": "code",
      "execution_count": null,
      "id": "42ac2fc8-df2d-4166-a083-6fbfe85a0852",
      "metadata": {
        "id": "42ac2fc8-df2d-4166-a083-6fbfe85a0852",
        "colab": {
          "base_uri": "https://localhost:8080/"
        },
        "outputId": "4c87dbad-92da-4b48-f882-53e316f1cb39"
      },
      "outputs": [
        {
          "output_type": "stream",
          "name": "stdout",
          "text": [
            "Hello World!\n"
          ]
        }
      ],
      "source": [
        "print('''Hello World!''')"
      ]
    },
    {
      "cell_type": "code",
      "execution_count": null,
      "id": "6da034fa-a12b-40d6-b2be-3c9f07f85c42",
      "metadata": {
        "id": "6da034fa-a12b-40d6-b2be-3c9f07f85c42",
        "colab": {
          "base_uri": "https://localhost:8080/",
          "height": 133
        },
        "outputId": "b138fed5-b10b-4736-80d1-cc655bf54905"
      },
      "outputs": [
        {
          "output_type": "error",
          "ename": "SyntaxError",
          "evalue": "ignored",
          "traceback": [
            "\u001b[0;36m  File \u001b[0;32m\"<ipython-input-5-90700430ebea>\"\u001b[0;36m, line \u001b[0;32m1\u001b[0m\n\u001b[0;31m    print(\"Hello World!')\u001b[0m\n\u001b[0m                         ^\u001b[0m\n\u001b[0;31mSyntaxError\u001b[0m\u001b[0;31m:\u001b[0m EOL while scanning string literal\n"
          ]
        }
      ],
      "source": [
        "print(\"Hello World!')"
      ]
    },
    {
      "cell_type": "code",
      "execution_count": null,
      "id": "83ec936c-b8da-4b14-b451-3c4b0acdb7d6",
      "metadata": {
        "id": "83ec936c-b8da-4b14-b451-3c4b0acdb7d6",
        "colab": {
          "base_uri": "https://localhost:8080/",
          "height": 133
        },
        "outputId": "d85b7c80-36e2-40ef-ea40-6a5aad39f69b"
      },
      "outputs": [
        {
          "output_type": "error",
          "ename": "SyntaxError",
          "evalue": "ignored",
          "traceback": [
            "\u001b[0;36m  File \u001b[0;32m\"<ipython-input-6-b03d97b11e51>\"\u001b[0;36m, line \u001b[0;32m1\u001b[0m\n\u001b[0;31m    print(\"\"Hello World!\")\u001b[0m\n\u001b[0m                ^\u001b[0m\n\u001b[0;31mSyntaxError\u001b[0m\u001b[0;31m:\u001b[0m invalid syntax\n"
          ]
        }
      ],
      "source": [
        "print(\"\"Hello World!\")"
      ]
    },
    {
      "cell_type": "code",
      "execution_count": null,
      "id": "5309e8e5-ea5d-4dcb-a10b-342875b131df",
      "metadata": {
        "id": "5309e8e5-ea5d-4dcb-a10b-342875b131df",
        "colab": {
          "base_uri": "https://localhost:8080/"
        },
        "outputId": "639b7b93-1b34-4090-9e9c-69cbfb9b330e"
      },
      "outputs": [
        {
          "output_type": "stream",
          "name": "stdout",
          "text": [
            "Hello\n",
            "World!\n"
          ]
        }
      ],
      "source": [
        "print('''Hello\n",
        "World!''')"
      ]
    },
    {
      "cell_type": "code",
      "execution_count": null,
      "id": "2ba35f08-4949-4388-8599-e2abeb132a1b",
      "metadata": {
        "id": "2ba35f08-4949-4388-8599-e2abeb132a1b",
        "colab": {
          "base_uri": "https://localhost:8080/",
          "height": 133
        },
        "outputId": "19f9e215-452a-4b94-9231-fd7626a501eb"
      },
      "outputs": [
        {
          "output_type": "error",
          "ename": "SyntaxError",
          "evalue": "ignored",
          "traceback": [
            "\u001b[0;36m  File \u001b[0;32m\"<ipython-input-8-74e4082bbd9c>\"\u001b[0;36m, line \u001b[0;32m1\u001b[0m\n\u001b[0;31m    print('Hello\u001b[0m\n\u001b[0m                ^\u001b[0m\n\u001b[0;31mSyntaxError\u001b[0m\u001b[0;31m:\u001b[0m EOL while scanning string literal\n"
          ]
        }
      ],
      "source": [
        "print('Hello\n",
        "World!')"
      ]
    },
    {
      "cell_type": "code",
      "execution_count": null,
      "id": "21fd1f62-8fe2-4dca-87c5-ec3b19617ce2",
      "metadata": {
        "id": "21fd1f62-8fe2-4dca-87c5-ec3b19617ce2",
        "colab": {
          "base_uri": "https://localhost:8080/",
          "height": 133
        },
        "outputId": "5c6c6b90-dffa-47aa-8ccf-6832a627f2aa"
      },
      "outputs": [
        {
          "output_type": "error",
          "ename": "SyntaxError",
          "evalue": "ignored",
          "traceback": [
            "\u001b[0;36m  File \u001b[0;32m\"<ipython-input-9-dea2b3e96277>\"\u001b[0;36m, line \u001b[0;32m1\u001b[0m\n\u001b[0;31m    print('Bugün Antalya'ya geldim')\u001b[0m\n\u001b[0m                          ^\u001b[0m\n\u001b[0;31mSyntaxError\u001b[0m\u001b[0;31m:\u001b[0m invalid syntax\n"
          ]
        }
      ],
      "source": [
        "print('Bugün Antalya'ya geldim') \n",
        "#string ile noktalama işaretini ayırt edemiyor ve sanki 2. ' gördüğü zaman string bitmiş gibi düşünüyor, o yüzden stringin devamını \n",
        "#tanımlayamadığı için hata veriyor"
      ]
    },
    {
      "cell_type": "code",
      "execution_count": null,
      "id": "650236d4-174b-4091-b709-19548b5fa81f",
      "metadata": {
        "id": "650236d4-174b-4091-b709-19548b5fa81f",
        "colab": {
          "base_uri": "https://localhost:8080/"
        },
        "outputId": "042e9ed2-1c26-46fe-ab2a-4c906a897858"
      },
      "outputs": [
        {
          "output_type": "stream",
          "name": "stdout",
          "text": [
            "Bugün Antalya'ya geldim\n"
          ]
        }
      ],
      "source": [
        "print(\"Bugün Antalya'ya geldim\")\n",
        "#stringimizi belirtmek için noktalama işaretinden farklı olan \"...\" syntaxımızı çözüm olarak kullanabiliriz"
      ]
    },
    {
      "cell_type": "code",
      "execution_count": null,
      "id": "65aef819-983c-43fc-96c9-75dbe551316a",
      "metadata": {
        "id": "65aef819-983c-43fc-96c9-75dbe551316a",
        "colab": {
          "base_uri": "https://localhost:8080/"
        },
        "outputId": "ed43fe1e-1ba9-4649-d2f5-3f59e5333c76"
      },
      "outputs": [
        {
          "output_type": "stream",
          "name": "stdout",
          "text": [
            "Bugün Antalya'ya geldim\n"
          ]
        }
      ],
      "source": [
        "print('Bugün Antalya\\'ya geldim')\n",
        "#eğer '...' ifasesini string olarak kullanmak istiyorsan ve içeride noktalama olarak da kesme işaretini kullanmak istiyorsak\n",
        "# \\' şeklinde kesme işaretinin özel bir ifade olmadığını belirtmemiz gerekiyor"
      ]
    },
    {
      "cell_type": "markdown",
      "id": "e1e87836-1989-48e4-a46b-b96cd5d59008",
      "metadata": {
        "id": "e1e87836-1989-48e4-a46b-b96cd5d59008"
      },
      "source": [
        "## **Yorum Satırları**"
      ]
    },
    {
      "cell_type": "code",
      "execution_count": 165,
      "id": "9ebdcb83-e336-4dfb-ba60-a2b94a7d0273",
      "metadata": {
        "id": "9ebdcb83-e336-4dfb-ba60-a2b94a7d0273",
        "colab": {
          "base_uri": "https://localhost:8080/"
        },
        "outputId": "8b501ffb-d23a-4cb2-af6c-980dbccee86f"
      },
      "outputs": [
        {
          "output_type": "stream",
          "name": "stdout",
          "text": [
            "Hello World!\n"
          ]
        }
      ],
      "source": [
        "#Yorum satırları Python programlama dilinde # ile başlar.\n",
        "print(\"Hello World!\")"
      ]
    },
    {
      "cell_type": "markdown",
      "id": "d45b5a15-3d79-44d7-a884-00439551c17e",
      "metadata": {
        "id": "d45b5a15-3d79-44d7-a884-00439551c17e"
      },
      "source": [
        "## **Print Fonksiyonu**"
      ]
    },
    {
      "cell_type": "code",
      "execution_count": null,
      "id": "a070fd35-08fd-4873-ae33-217e44d0378b",
      "metadata": {
        "id": "a070fd35-08fd-4873-ae33-217e44d0378b",
        "colab": {
          "base_uri": "https://localhost:8080/"
        },
        "outputId": "a9b2d3da-5b6f-4551-93f1-b2a62c369b26"
      },
      "outputs": [
        {
          "output_type": "stream",
          "name": "stdout",
          "text": [
            "Ahmet Emirhan GÜLEÇ 7 16 34\n"
          ]
        }
      ],
      "source": [
        "print(\"Ahmet Emirhan GÜLEÇ\", 7, 16, 34) #print fonksiyonu içerisindeki her şeyi sırasıyla yazdırır."
      ]
    },
    {
      "cell_type": "code",
      "execution_count": null,
      "id": "5a7d229a-e829-4f31-b633-c7a0779e373e",
      "metadata": {
        "id": "5a7d229a-e829-4f31-b633-c7a0779e373e",
        "colab": {
          "base_uri": "https://localhost:8080/"
        },
        "outputId": "190b8b77-75d4-424b-c0ea-a456f53f91df"
      },
      "outputs": [
        {
          "output_type": "stream",
          "name": "stdout",
          "text": [
            "Ahmet Emirhan GÜLEÇ 7 16 34\n"
          ]
        }
      ],
      "source": [
        "print(\"Ahmet Emirhan GÜLEÇ\", 7, 16, 34)"
      ]
    },
    {
      "cell_type": "code",
      "execution_count": null,
      "id": "fdd500b7-5ec1-43c7-bfef-0805f0179ed8",
      "metadata": {
        "id": "fdd500b7-5ec1-43c7-bfef-0805f0179ed8",
        "colab": {
          "base_uri": "https://localhost:8080/"
        },
        "outputId": "adb1d3ca-861d-4e7f-8bb1-ab51e03eae72"
      },
      "outputs": [
        {
          "output_type": "stream",
          "name": "stdout",
          "text": [
            "Antalya Bursa İstanbul 7 16 34\n"
          ]
        }
      ],
      "source": [
        "print(\"Antalya\", \"Bursa\", \"İstanbul\", 7, 16, 34)"
      ]
    },
    {
      "cell_type": "code",
      "execution_count": null,
      "id": "cd93198f-627e-4acb-804d-f374bdda895a",
      "metadata": {
        "id": "cd93198f-627e-4acb-804d-f374bdda895a",
        "colab": {
          "base_uri": "https://localhost:8080/"
        },
        "outputId": "620ed8be-b4cd-4aa6-c26a-46d26f27cc6f"
      },
      "outputs": [
        {
          "output_type": "stream",
          "name": "stdout",
          "text": [
            "Antalya\n",
            "Bursa\n",
            "İstanbul\n"
          ]
        }
      ],
      "source": [
        "print(\"Antalya\\nBursa\\nİstanbul\") #\\n yeni bir satıra geçmek için kullanılır"
      ]
    },
    {
      "cell_type": "code",
      "source": [
        "print(\"\"\"Antalya\n",
        "Bursa\n",
        "İstanbul\"\"\")"
      ],
      "metadata": {
        "colab": {
          "base_uri": "https://localhost:8080/"
        },
        "id": "rPe2UryOTTNB",
        "outputId": "137d1b22-88b2-4c88-f2a6-5e1560c3eb01"
      },
      "id": "rPe2UryOTTNB",
      "execution_count": null,
      "outputs": [
        {
          "output_type": "stream",
          "name": "stdout",
          "text": [
            "Antalya\n",
            "Bursa\n",
            "İstanbul\n"
          ]
        }
      ]
    },
    {
      "cell_type": "code",
      "execution_count": null,
      "id": "2077c814-39f5-40a2-ba8c-143b25b1b786",
      "metadata": {
        "id": "2077c814-39f5-40a2-ba8c-143b25b1b786",
        "colab": {
          "base_uri": "https://localhost:8080/"
        },
        "outputId": "b5069ef9-fea8-421f-8c94-2f8d3e7a9f4d"
      },
      "outputs": [
        {
          "output_type": "stream",
          "name": "stdout",
          "text": [
            "Antalya-Bursa-İstanbul-7-16-34\n"
          ]
        }
      ],
      "source": [
        "#sep parametresi indexlerimizin arasına belirlediğimiz işareti koymamızı sağlar\n",
        "print(\"Antalya\", \"Bursa\", \"İstanbul\", 7, 16, 34, sep=\"-\")"
      ]
    },
    {
      "cell_type": "code",
      "execution_count": null,
      "id": "b83c260d-ef9a-4fa3-8c74-950af008899f",
      "metadata": {
        "id": "b83c260d-ef9a-4fa3-8c74-950af008899f",
        "colab": {
          "base_uri": "https://localhost:8080/"
        },
        "outputId": "9111255f-b403-41ed-a060-6f9f93f52a0f"
      },
      "outputs": [
        {
          "output_type": "stream",
          "name": "stdout",
          "text": [
            "Antalya----Bursa----İstanbul----7----16----34\n"
          ]
        }
      ],
      "source": [
        "print(\"Antalya\", \"Bursa\", \"İstanbul\", 7, 16, 34, sep=\"----\")"
      ]
    },
    {
      "cell_type": "code",
      "execution_count": null,
      "id": "93b412ee-4c8d-4c4d-b40f-774b4b41a4e7",
      "metadata": {
        "id": "93b412ee-4c8d-4c4d-b40f-774b4b41a4e7",
        "colab": {
          "base_uri": "https://localhost:8080/"
        },
        "outputId": "01abc3b0-8990-45b8-ac6a-18a0b23588b9"
      },
      "outputs": [
        {
          "output_type": "stream",
          "name": "stdout",
          "text": [
            "Antalya\n",
            "Bursa\n",
            "İstanbul\n",
            "7\n",
            "16\n",
            "34\n"
          ]
        }
      ],
      "source": [
        "print(\"Antalya\", \"Bursa\", \"İstanbul\", 7, 16, 34, sep=\"\\n\")"
      ]
    },
    {
      "cell_type": "code",
      "execution_count": null,
      "id": "ceffaa17-433b-4038-97ef-4bff196ba41c",
      "metadata": {
        "id": "ceffaa17-433b-4038-97ef-4bff196ba41c",
        "colab": {
          "base_uri": "https://localhost:8080/"
        },
        "outputId": "21a0759e-ea11-4dbd-dedb-cb2369c4d2d9"
      },
      "outputs": [
        {
          "output_type": "stream",
          "name": "stdout",
          "text": [
            "Antalya.Bursa.İstanbul.7.16.34\n"
          ]
        }
      ],
      "source": [
        "print(\"Antalya\", \"Bursa\", \"İstanbul\", 7, 16, 34, sep='.')"
      ]
    },
    {
      "cell_type": "code",
      "execution_count": null,
      "id": "b98634a8-c4cb-49e0-b350-0da53f2ec5c8",
      "metadata": {
        "id": "b98634a8-c4cb-49e0-b350-0da53f2ec5c8",
        "colab": {
          "base_uri": "https://localhost:8080/"
        },
        "outputId": "d21a0ab9-b4b8-46f3-d14c-bf0b86d079fc"
      },
      "outputs": [
        {
          "output_type": "stream",
          "name": "stdout",
          "text": [
            "A h m e t   E m i r h a n   G Ü L E Ç\n"
          ]
        }
      ],
      "source": [
        "#* indexlerimizin tüm elemanlarının arasına boşluk bırakır\n",
        "print(*\"Ahmet Emirhan GÜLEÇ\")"
      ]
    },
    {
      "cell_type": "code",
      "execution_count": null,
      "id": "0b1ec762-3f4c-49c6-864e-a62c4f57cabd",
      "metadata": {
        "id": "0b1ec762-3f4c-49c6-864e-a62c4f57cabd",
        "colab": {
          "base_uri": "https://localhost:8080/"
        },
        "outputId": "5d8b1166-cee3-4639-dd7a-28cdf65fe081"
      },
      "outputs": [
        {
          "output_type": "stream",
          "name": "stdout",
          "text": [
            "A n t a l y a Bursa İstanbul 7 16 34\n"
          ]
        }
      ],
      "source": [
        "print(*\"Antalya\", \"Bursa\", \"İstanbul\", 7, 16, 34)"
      ]
    },
    {
      "cell_type": "markdown",
      "id": "3d28534f-69dd-43ad-bbb6-fab6fde96def",
      "metadata": {
        "id": "3d28534f-69dd-43ad-bbb6-fab6fde96def"
      },
      "source": [
        "## **String, Integer & Float**"
      ]
    },
    {
      "cell_type": "code",
      "execution_count": null,
      "id": "482f8f54-8d97-44c7-baa0-c73fba3ff44b",
      "metadata": {
        "id": "482f8f54-8d97-44c7-baa0-c73fba3ff44b",
        "colab": {
          "base_uri": "https://localhost:8080/"
        },
        "outputId": "c31fe64a-a1bc-41c8-ce6a-deead004a24b"
      },
      "outputs": [
        {
          "output_type": "stream",
          "name": "stdout",
          "text": [
            "<class 'str'>\n"
          ]
        }
      ],
      "source": [
        "print(type(\"Hello World!\")) #eğer herhangi bir verinin türünü öğrenmek istiyorsam bunu type() ile görebiliriz"
      ]
    },
    {
      "cell_type": "code",
      "source": [
        "print(\"Hello World!\")"
      ],
      "metadata": {
        "colab": {
          "base_uri": "https://localhost:8080/"
        },
        "id": "e-LPC-CuUMnN",
        "outputId": "66cf7f89-7eb2-48bc-9fe6-42665fd9afb3"
      },
      "id": "e-LPC-CuUMnN",
      "execution_count": null,
      "outputs": [
        {
          "output_type": "stream",
          "name": "stdout",
          "text": [
            "Hello World!\n"
          ]
        }
      ]
    },
    {
      "cell_type": "code",
      "source": [
        "2"
      ],
      "metadata": {
        "colab": {
          "base_uri": "https://localhost:8080/"
        },
        "id": "3dOl1k0yUMpz",
        "outputId": "28825e1a-cab2-4444-cd51-a73a4401001a"
      },
      "id": "3dOl1k0yUMpz",
      "execution_count": null,
      "outputs": [
        {
          "output_type": "execute_result",
          "data": {
            "text/plain": [
              "2"
            ]
          },
          "metadata": {},
          "execution_count": 29
        }
      ]
    },
    {
      "cell_type": "code",
      "execution_count": null,
      "id": "9e7b710f-b030-4ca8-b8fb-bab0b30b47b4",
      "metadata": {
        "id": "9e7b710f-b030-4ca8-b8fb-bab0b30b47b4",
        "colab": {
          "base_uri": "https://localhost:8080/"
        },
        "outputId": "ac722dc9-3f4a-4771-b2e5-351fecff06bf"
      },
      "outputs": [
        {
          "output_type": "execute_result",
          "data": {
            "text/plain": [
              "int"
            ]
          },
          "metadata": {},
          "execution_count": 30
        }
      ],
      "source": [
        "type(2)"
      ]
    },
    {
      "cell_type": "code",
      "execution_count": null,
      "id": "5e38ebe7-ce42-4ae7-806a-1aa2438ff3f0",
      "metadata": {
        "id": "5e38ebe7-ce42-4ae7-806a-1aa2438ff3f0",
        "colab": {
          "base_uri": "https://localhost:8080/"
        },
        "outputId": "22ebaf62-fe75-4b65-94ba-ff227f23961a"
      },
      "outputs": [
        {
          "output_type": "execute_result",
          "data": {
            "text/plain": [
              "str"
            ]
          },
          "metadata": {},
          "execution_count": 31
        }
      ],
      "source": [
        "type(\"2\")"
      ]
    },
    {
      "cell_type": "code",
      "execution_count": null,
      "id": "2fa06029-33a7-451d-8ddc-6034961a5bfe",
      "metadata": {
        "id": "2fa06029-33a7-451d-8ddc-6034961a5bfe",
        "colab": {
          "base_uri": "https://localhost:8080/"
        },
        "outputId": "edc679c8-1cd6-4c3f-81c4-06548ed91c43"
      },
      "outputs": [
        {
          "output_type": "execute_result",
          "data": {
            "text/plain": [
              "float"
            ]
          },
          "metadata": {},
          "execution_count": 32
        }
      ],
      "source": [
        "type(2.2)"
      ]
    },
    {
      "cell_type": "code",
      "execution_count": null,
      "id": "f4794e1d-f634-4803-92b3-e8556673e0af",
      "metadata": {
        "id": "f4794e1d-f634-4803-92b3-e8556673e0af",
        "colab": {
          "base_uri": "https://localhost:8080/"
        },
        "outputId": "39836a02-c560-49d2-afe5-cad97a2882bd"
      },
      "outputs": [
        {
          "output_type": "execute_result",
          "data": {
            "text/plain": [
              "float"
            ]
          },
          "metadata": {},
          "execution_count": 33
        }
      ],
      "source": [
        "type(2.2)"
      ]
    },
    {
      "cell_type": "code",
      "execution_count": null,
      "id": "ec8a891d",
      "metadata": {
        "id": "ec8a891d",
        "colab": {
          "base_uri": "https://localhost:8080/"
        },
        "outputId": "05fb5e51-5494-4d4c-a73f-63ffdd1e5116"
      },
      "outputs": [
        {
          "output_type": "stream",
          "name": "stdout",
          "text": [
            "4\n"
          ]
        }
      ],
      "source": [
        "print(2+2)"
      ]
    },
    {
      "cell_type": "code",
      "execution_count": null,
      "id": "562fcc26",
      "metadata": {
        "id": "562fcc26",
        "colab": {
          "base_uri": "https://localhost:8080/"
        },
        "outputId": "79e325dd-47ec-4187-c7ce-7d594d25d780"
      },
      "outputs": [
        {
          "output_type": "execute_result",
          "data": {
            "text/plain": [
              "int"
            ]
          },
          "metadata": {},
          "execution_count": 35
        }
      ],
      "source": [
        "type(2+2)"
      ]
    },
    {
      "cell_type": "code",
      "execution_count": null,
      "id": "5cadadf0",
      "metadata": {
        "id": "5cadadf0",
        "colab": {
          "base_uri": "https://localhost:8080/"
        },
        "outputId": "676fe373-179a-4128-8a1a-b1cd7dd8ab60"
      },
      "outputs": [
        {
          "output_type": "execute_result",
          "data": {
            "text/plain": [
              "float"
            ]
          },
          "metadata": {},
          "execution_count": 36
        }
      ],
      "source": [
        "type(2.5+2)"
      ]
    },
    {
      "cell_type": "code",
      "execution_count": null,
      "id": "906fb5cd",
      "metadata": {
        "id": "906fb5cd",
        "colab": {
          "base_uri": "https://localhost:8080/"
        },
        "outputId": "8f1899cc-4620-46b3-dc8d-139c39ec860b"
      },
      "outputs": [
        {
          "output_type": "execute_result",
          "data": {
            "text/plain": [
              "float"
            ]
          },
          "metadata": {},
          "execution_count": 37
        }
      ],
      "source": [
        "type(2.5+1.5)"
      ]
    },
    {
      "cell_type": "code",
      "execution_count": null,
      "id": "ff684d31",
      "metadata": {
        "id": "ff684d31",
        "colab": {
          "base_uri": "https://localhost:8080/"
        },
        "outputId": "84c1388f-6972-4ee0-f54c-dfcda5ada2c5"
      },
      "outputs": [
        {
          "output_type": "stream",
          "name": "stdout",
          "text": [
            "4.0\n"
          ]
        }
      ],
      "source": [
        "print(2.5+1.5)"
      ]
    },
    {
      "cell_type": "code",
      "source": [
        "print(2+2)"
      ],
      "metadata": {
        "colab": {
          "base_uri": "https://localhost:8080/"
        },
        "id": "x8EBnN1cVI0z",
        "outputId": "e84cb6f3-b0e3-4e47-d102-5e34abe760c4"
      },
      "id": "x8EBnN1cVI0z",
      "execution_count": null,
      "outputs": [
        {
          "output_type": "stream",
          "name": "stdout",
          "text": [
            "4\n"
          ]
        }
      ]
    },
    {
      "cell_type": "markdown",
      "id": "568597eb-75e2-4ecb-a599-649a8fa0e57b",
      "metadata": {
        "id": "568597eb-75e2-4ecb-a599-649a8fa0e57b"
      },
      "source": [
        "## **Veri Tipi Dönüşümü**\n"
      ]
    },
    {
      "cell_type": "code",
      "execution_count": null,
      "id": "7db948ef-f70f-4bdd-8b36-5eb6e30ae27d",
      "metadata": {
        "id": "7db948ef-f70f-4bdd-8b36-5eb6e30ae27d",
        "colab": {
          "base_uri": "https://localhost:8080/"
        },
        "outputId": "ec6d39f6-80c4-43b8-d69c-6b83b3a3865d"
      },
      "outputs": [
        {
          "output_type": "execute_result",
          "data": {
            "text/plain": [
              "3"
            ]
          },
          "metadata": {},
          "execution_count": 40
        }
      ],
      "source": [
        "int(3.14)"
      ]
    },
    {
      "cell_type": "code",
      "execution_count": null,
      "id": "9bbdc024-3914-4954-a127-8ee0e387fc40",
      "metadata": {
        "id": "9bbdc024-3914-4954-a127-8ee0e387fc40",
        "colab": {
          "base_uri": "https://localhost:8080/",
          "height": 35
        },
        "outputId": "b796b059-3463-44c6-e587-f35d1d6a6f9e"
      },
      "outputs": [
        {
          "output_type": "execute_result",
          "data": {
            "text/plain": [
              "'3.14'"
            ],
            "application/vnd.google.colaboratory.intrinsic+json": {
              "type": "string"
            }
          },
          "metadata": {},
          "execution_count": 41
        }
      ],
      "source": [
        "str(3.14)"
      ]
    },
    {
      "cell_type": "code",
      "execution_count": null,
      "id": "6e8bb7af-5f0c-4d43-8d49-7c4a49a3fc7f",
      "metadata": {
        "id": "6e8bb7af-5f0c-4d43-8d49-7c4a49a3fc7f",
        "colab": {
          "base_uri": "https://localhost:8080/",
          "height": 168
        },
        "outputId": "b57eb27a-9175-4371-e64b-f51510d8ec15"
      },
      "outputs": [
        {
          "output_type": "error",
          "ename": "ValueError",
          "evalue": "ignored",
          "traceback": [
            "\u001b[0;31m---------------------------------------------------------------------------\u001b[0m",
            "\u001b[0;31mValueError\u001b[0m                                Traceback (most recent call last)",
            "\u001b[0;32m<ipython-input-42-1a2a56b41e82>\u001b[0m in \u001b[0;36m<module>\u001b[0;34m()\u001b[0m\n\u001b[0;32m----> 1\u001b[0;31m \u001b[0mint\u001b[0m\u001b[0;34m(\u001b[0m\u001b[0;34m\"Elma\"\u001b[0m\u001b[0;34m)\u001b[0m\u001b[0;34m\u001b[0m\u001b[0;34m\u001b[0m\u001b[0m\n\u001b[0m",
            "\u001b[0;31mValueError\u001b[0m: invalid literal for int() with base 10: 'Elma'"
          ]
        }
      ],
      "source": [
        "int(\"Elma\") # Elma stringinin herhangi bir integer karşılığı yoktur!"
      ]
    },
    {
      "cell_type": "code",
      "execution_count": null,
      "id": "17d72bc2-6d24-4a46-ab55-d6c48ff972ca",
      "metadata": {
        "id": "17d72bc2-6d24-4a46-ab55-d6c48ff972ca",
        "colab": {
          "base_uri": "https://localhost:8080/"
        },
        "outputId": "83696449-1aa3-4e33-f582-f061825c1387"
      },
      "outputs": [
        {
          "output_type": "execute_result",
          "data": {
            "text/plain": [
              "3"
            ]
          },
          "metadata": {},
          "execution_count": 43
        }
      ],
      "source": [
        "int(\"3\")"
      ]
    },
    {
      "cell_type": "code",
      "execution_count": null,
      "id": "3d902390-eb8c-49a1-98f2-796c40e8923f",
      "metadata": {
        "tags": [],
        "id": "3d902390-eb8c-49a1-98f2-796c40e8923f",
        "colab": {
          "base_uri": "https://localhost:8080/",
          "height": 168
        },
        "outputId": "4931ff4c-dd62-4c8a-9e10-6a8f04352afd"
      },
      "outputs": [
        {
          "output_type": "error",
          "ename": "ValueError",
          "evalue": "ignored",
          "traceback": [
            "\u001b[0;31m---------------------------------------------------------------------------\u001b[0m",
            "\u001b[0;31mValueError\u001b[0m                                Traceback (most recent call last)",
            "\u001b[0;32m<ipython-input-44-7874f0f8dace>\u001b[0m in \u001b[0;36m<module>\u001b[0;34m()\u001b[0m\n\u001b[0;32m----> 1\u001b[0;31m \u001b[0mint\u001b[0m\u001b[0;34m(\u001b[0m\u001b[0;34m\"3.14\"\u001b[0m\u001b[0;34m)\u001b[0m\u001b[0;34m\u001b[0m\u001b[0;34m\u001b[0m\u001b[0m\n\u001b[0m",
            "\u001b[0;31mValueError\u001b[0m: invalid literal for int() with base 10: '3.14'"
          ]
        }
      ],
      "source": [
        "int(\"3.14\") \n",
        "#string 3.14 ün herhangi bir integer karşılığı yoktur. ilk olarak stringi floata çevirmeli elde ettiğimiz\n",
        "#sonucu sonrasında integera çevirmeliyiz."
      ]
    },
    {
      "cell_type": "code",
      "execution_count": null,
      "id": "cd372746-85af-4284-8fe9-63f5903bacd7",
      "metadata": {
        "id": "cd372746-85af-4284-8fe9-63f5903bacd7",
        "colab": {
          "base_uri": "https://localhost:8080/"
        },
        "outputId": "c4ae8bc4-c361-4460-953d-2bae02f24c89"
      },
      "outputs": [
        {
          "output_type": "execute_result",
          "data": {
            "text/plain": [
              "3.14"
            ]
          },
          "metadata": {},
          "execution_count": 45
        }
      ],
      "source": [
        "float(\"3.14\")"
      ]
    },
    {
      "cell_type": "code",
      "execution_count": null,
      "id": "f1855118-9f55-42b3-9572-be650d411957",
      "metadata": {
        "id": "f1855118-9f55-42b3-9572-be650d411957",
        "colab": {
          "base_uri": "https://localhost:8080/"
        },
        "outputId": "f5ae9de4-149b-4612-cb76-0db239fa8200"
      },
      "outputs": [
        {
          "output_type": "execute_result",
          "data": {
            "text/plain": [
              "3"
            ]
          },
          "metadata": {},
          "execution_count": 46
        }
      ],
      "source": [
        "int(float(\"3.14\"))"
      ]
    },
    {
      "cell_type": "markdown",
      "id": "59680d9f-2fef-4728-bee9-279040c36eff",
      "metadata": {
        "id": "59680d9f-2fef-4728-bee9-279040c36eff"
      },
      "source": [
        "## **Temel Matematik Operatörleri**\n",
        "* Toplama (+)\n",
        "* Çıkarma (-)\n",
        "* Çarpma (*)\n",
        "* Bölme (/)\n",
        "* Üs (**)\n",
        "* Tam Sayı Böleni (//)\n",
        "* Kalan Bulma (%)\n"
      ]
    },
    {
      "cell_type": "code",
      "execution_count": null,
      "id": "d4f87374-6d13-4baf-82db-82b47ce701f7",
      "metadata": {
        "id": "d4f87374-6d13-4baf-82db-82b47ce701f7",
        "colab": {
          "base_uri": "https://localhost:8080/"
        },
        "outputId": "e315de8b-52d2-4f92-b16e-0970385f4106"
      },
      "outputs": [
        {
          "output_type": "execute_result",
          "data": {
            "text/plain": [
              "4"
            ]
          },
          "metadata": {},
          "execution_count": 47
        }
      ],
      "source": [
        "2+2"
      ]
    },
    {
      "cell_type": "code",
      "execution_count": null,
      "id": "170da403-920b-4bab-aad4-f28cadd3d45a",
      "metadata": {
        "id": "170da403-920b-4bab-aad4-f28cadd3d45a",
        "colab": {
          "base_uri": "https://localhost:8080/"
        },
        "outputId": "ab21ce87-6008-4b29-f744-3ad9e1d27d30"
      },
      "outputs": [
        {
          "output_type": "execute_result",
          "data": {
            "text/plain": [
              "1"
            ]
          },
          "metadata": {},
          "execution_count": 48
        }
      ],
      "source": [
        "3-2"
      ]
    },
    {
      "cell_type": "code",
      "execution_count": null,
      "id": "312aec57-76d7-4596-b1a4-f5de1672c7c6",
      "metadata": {
        "id": "312aec57-76d7-4596-b1a4-f5de1672c7c6",
        "colab": {
          "base_uri": "https://localhost:8080/"
        },
        "outputId": "6de43952-3b53-4ff5-f7db-8fcf530e1d79"
      },
      "outputs": [
        {
          "output_type": "execute_result",
          "data": {
            "text/plain": [
              "6"
            ]
          },
          "metadata": {},
          "execution_count": 49
        }
      ],
      "source": [
        "2*3"
      ]
    },
    {
      "cell_type": "code",
      "execution_count": null,
      "id": "13fc2bba-3c6a-4059-909f-fd535ccc6e33",
      "metadata": {
        "id": "13fc2bba-3c6a-4059-909f-fd535ccc6e33",
        "colab": {
          "base_uri": "https://localhost:8080/"
        },
        "outputId": "95c16b88-5c27-462c-e887-43c25d4a3cea"
      },
      "outputs": [
        {
          "output_type": "execute_result",
          "data": {
            "text/plain": [
              "2.5"
            ]
          },
          "metadata": {},
          "execution_count": 50
        }
      ],
      "source": [
        "5/2"
      ]
    },
    {
      "cell_type": "code",
      "execution_count": null,
      "id": "20c21bcd-f4f9-4671-98a7-64a0f800d4e3",
      "metadata": {
        "id": "20c21bcd-f4f9-4671-98a7-64a0f800d4e3",
        "colab": {
          "base_uri": "https://localhost:8080/"
        },
        "outputId": "726abd58-afa5-4492-e502-cfd043b756f1"
      },
      "outputs": [
        {
          "output_type": "execute_result",
          "data": {
            "text/plain": [
              "8"
            ]
          },
          "metadata": {},
          "execution_count": 51
        }
      ],
      "source": [
        "2**3"
      ]
    },
    {
      "cell_type": "code",
      "execution_count": null,
      "id": "8f388d6a-c594-42e2-a6b1-7ea778b45d0f",
      "metadata": {
        "id": "8f388d6a-c594-42e2-a6b1-7ea778b45d0f",
        "colab": {
          "base_uri": "https://localhost:8080/"
        },
        "outputId": "ee462814-f0ac-4fd0-9bc6-994d15fef733"
      },
      "outputs": [
        {
          "output_type": "execute_result",
          "data": {
            "text/plain": [
              "2"
            ]
          },
          "metadata": {},
          "execution_count": 52
        }
      ],
      "source": [
        "5//2"
      ]
    },
    {
      "cell_type": "code",
      "execution_count": null,
      "id": "09fcda38-f694-4b7b-a072-06493a851e05",
      "metadata": {
        "id": "09fcda38-f694-4b7b-a072-06493a851e05",
        "colab": {
          "base_uri": "https://localhost:8080/"
        },
        "outputId": "8ece9acf-5db3-4b38-e935-173847280520"
      },
      "outputs": [
        {
          "output_type": "execute_result",
          "data": {
            "text/plain": [
              "1"
            ]
          },
          "metadata": {},
          "execution_count": 53
        }
      ],
      "source": [
        "5%2"
      ]
    },
    {
      "cell_type": "code",
      "source": [
        "2+4*3"
      ],
      "metadata": {
        "colab": {
          "base_uri": "https://localhost:8080/"
        },
        "id": "w20YPsr3WdN5",
        "outputId": "e8d25950-131c-44cf-fad9-a64fa7bf258b"
      },
      "id": "w20YPsr3WdN5",
      "execution_count": null,
      "outputs": [
        {
          "output_type": "execute_result",
          "data": {
            "text/plain": [
              "14"
            ]
          },
          "metadata": {},
          "execution_count": 54
        }
      ]
    },
    {
      "cell_type": "code",
      "source": [
        "(2+4)*3"
      ],
      "metadata": {
        "colab": {
          "base_uri": "https://localhost:8080/"
        },
        "id": "V0e8vLprWdQt",
        "outputId": "7f897184-168d-4435-e453-85f683d8eee4"
      },
      "id": "V0e8vLprWdQt",
      "execution_count": null,
      "outputs": [
        {
          "output_type": "execute_result",
          "data": {
            "text/plain": [
              "18"
            ]
          },
          "metadata": {},
          "execution_count": 55
        }
      ]
    },
    {
      "cell_type": "markdown",
      "id": "5a0e37dc",
      "metadata": {
        "id": "5a0e37dc"
      },
      "source": [
        "## **Değişkenler**"
      ]
    },
    {
      "cell_type": "code",
      "execution_count": null,
      "id": "b8d5295f",
      "metadata": {
        "id": "b8d5295f",
        "colab": {
          "base_uri": "https://localhost:8080/",
          "height": 168
        },
        "outputId": "fe7ea1bb-55c1-47c0-a1fa-f2a534d46899"
      },
      "outputs": [
        {
          "output_type": "error",
          "ename": "NameError",
          "evalue": "ignored",
          "traceback": [
            "\u001b[0;31m---------------------------------------------------------------------------\u001b[0m",
            "\u001b[0;31mNameError\u001b[0m                                 Traceback (most recent call last)",
            "\u001b[0;32m<ipython-input-57-191ea9c3d109>\u001b[0m in \u001b[0;36m<module>\u001b[0;34m()\u001b[0m\n\u001b[0;32m----> 1\u001b[0;31m \u001b[0mtype\u001b[0m\u001b[0;34m(\u001b[0m\u001b[0mx\u001b[0m\u001b[0;34m)\u001b[0m\u001b[0;34m\u001b[0m\u001b[0;34m\u001b[0m\u001b[0m\n\u001b[0m",
            "\u001b[0;31mNameError\u001b[0m: name 'x' is not defined"
          ]
        }
      ],
      "source": [
        "type(x) #x tanımlı olmadığı için türünü bulamaz ve hata mesajı döndürür"
      ]
    },
    {
      "cell_type": "code",
      "execution_count": null,
      "id": "5b42e8d9",
      "metadata": {
        "id": "5b42e8d9",
        "colab": {
          "base_uri": "https://localhost:8080/"
        },
        "outputId": "e7e5d860-76ad-431f-8c28-618f8cd96562"
      },
      "outputs": [
        {
          "output_type": "execute_result",
          "data": {
            "text/plain": [
              "str"
            ]
          },
          "metadata": {},
          "execution_count": 56
        }
      ],
      "source": [
        "type('x') #string x"
      ]
    },
    {
      "cell_type": "code",
      "execution_count": null,
      "id": "5307c01d",
      "metadata": {
        "id": "5307c01d"
      },
      "outputs": [],
      "source": [
        "x = 2"
      ]
    },
    {
      "cell_type": "code",
      "execution_count": null,
      "id": "809e4020",
      "metadata": {
        "id": "809e4020",
        "colab": {
          "base_uri": "https://localhost:8080/"
        },
        "outputId": "cd00abd6-9fca-4cf4-9c1d-447de36d2b5e"
      },
      "outputs": [
        {
          "output_type": "execute_result",
          "data": {
            "text/plain": [
              "int"
            ]
          },
          "metadata": {},
          "execution_count": 59
        }
      ],
      "source": [
        "type(x) "
      ]
    },
    {
      "cell_type": "code",
      "execution_count": null,
      "id": "8d1028c5",
      "metadata": {
        "id": "8d1028c5"
      },
      "outputs": [],
      "source": [
        "pi = 3.14"
      ]
    },
    {
      "cell_type": "code",
      "execution_count": null,
      "id": "939a4fa9",
      "metadata": {
        "id": "939a4fa9",
        "colab": {
          "base_uri": "https://localhost:8080/"
        },
        "outputId": "4f1a6884-d3dd-4236-e584-7cea18de10d4"
      },
      "outputs": [
        {
          "output_type": "execute_result",
          "data": {
            "text/plain": [
              "6.28"
            ]
          },
          "metadata": {},
          "execution_count": 61
        }
      ],
      "source": [
        "pi * x"
      ]
    },
    {
      "cell_type": "code",
      "execution_count": null,
      "id": "505a193e",
      "metadata": {
        "id": "505a193e",
        "colab": {
          "base_uri": "https://localhost:8080/"
        },
        "outputId": "e3f7dec6-82f4-4d9a-fd0b-8844acb9012e"
      },
      "outputs": [
        {
          "output_type": "execute_result",
          "data": {
            "text/plain": [
              "float"
            ]
          },
          "metadata": {},
          "execution_count": 62
        }
      ],
      "source": [
        "type(pi)"
      ]
    },
    {
      "cell_type": "code",
      "execution_count": null,
      "id": "413e5a98",
      "metadata": {
        "id": "413e5a98"
      },
      "outputs": [],
      "source": [
        "ocak = \"Yılın ilk ayı\""
      ]
    },
    {
      "cell_type": "code",
      "execution_count": null,
      "id": "e5d26875",
      "metadata": {
        "id": "e5d26875",
        "colab": {
          "base_uri": "https://localhost:8080/",
          "height": 35
        },
        "outputId": "bb79ae98-69d6-41bc-f9be-137fbf539457"
      },
      "outputs": [
        {
          "output_type": "execute_result",
          "data": {
            "text/plain": [
              "'Yılın ilk ayı'"
            ],
            "application/vnd.google.colaboratory.intrinsic+json": {
              "type": "string"
            }
          },
          "metadata": {},
          "execution_count": 64
        }
      ],
      "source": [
        "ocak"
      ]
    },
    {
      "cell_type": "code",
      "execution_count": null,
      "id": "1fb91551",
      "metadata": {
        "id": "1fb91551",
        "colab": {
          "base_uri": "https://localhost:8080/",
          "height": 133
        },
        "outputId": "ba58fc19-163f-4920-838b-8dd3096722fc"
      },
      "outputs": [
        {
          "output_type": "error",
          "ename": "SyntaxError",
          "evalue": "ignored",
          "traceback": [
            "\u001b[0;36m  File \u001b[0;32m\"<ipython-input-65-7d375eabc665>\"\u001b[0;36m, line \u001b[0;32m2\u001b[0m\n\u001b[0;31m    5 = a\u001b[0m\n\u001b[0m         ^\u001b[0m\n\u001b[0;31mSyntaxError\u001b[0m\u001b[0;31m:\u001b[0m can't assign to literal\n"
          ]
        }
      ],
      "source": [
        "#Değişkenlerimiz rakamla başlayamaz \n",
        "5 = a "
      ]
    },
    {
      "cell_type": "code",
      "execution_count": null,
      "id": "a16882a5",
      "metadata": {
        "id": "a16882a5",
        "colab": {
          "base_uri": "https://localhost:8080/",
          "height": 133
        },
        "outputId": "8320aa2b-49b5-4371-9381-7908b7d4a0d8"
      },
      "outputs": [
        {
          "output_type": "error",
          "ename": "SyntaxError",
          "evalue": "ignored",
          "traceback": [
            "\u001b[0;36m  File \u001b[0;32m\"<ipython-input-66-bee30916b77e>\"\u001b[0;36m, line \u001b[0;32m2\u001b[0m\n\u001b[0;31m    for = 7\u001b[0m\n\u001b[0m        ^\u001b[0m\n\u001b[0;31mSyntaxError\u001b[0m\u001b[0;31m:\u001b[0m invalid syntax\n"
          ]
        }
      ],
      "source": [
        "#bazı değişken isimleri pythonda tanımlı olduğu için kullanılamaz (for, while, if, class, break, pass.. etc)\n",
        "for = 7"
      ]
    },
    {
      "cell_type": "code",
      "execution_count": null,
      "id": "a9d3ab46",
      "metadata": {
        "id": "a9d3ab46",
        "colab": {
          "base_uri": "https://localhost:8080/",
          "height": 133
        },
        "outputId": "7859e446-c409-481f-91a2-0a04a912a823"
      },
      "outputs": [
        {
          "output_type": "error",
          "ename": "SyntaxError",
          "evalue": "ignored",
          "traceback": [
            "\u001b[0;36m  File \u001b[0;32m\"<ipython-input-67-3aef6d86a204>\"\u001b[0;36m, line \u001b[0;32m1\u001b[0m\n\u001b[0;31m    class = 8\u001b[0m\n\u001b[0m          ^\u001b[0m\n\u001b[0;31mSyntaxError\u001b[0m\u001b[0;31m:\u001b[0m invalid syntax\n"
          ]
        }
      ],
      "source": [
        "class = 8"
      ]
    },
    {
      "cell_type": "code",
      "execution_count": null,
      "id": "1b60831b-58c5-4db8-a382-a2639a4a50cc",
      "metadata": {
        "id": "1b60831b-58c5-4db8-a382-a2639a4a50cc"
      },
      "outputs": [],
      "source": [
        "vize = 70\n",
        "final = 100"
      ]
    },
    {
      "cell_type": "code",
      "execution_count": null,
      "id": "fb44e494-969e-45c5-9742-1c44421a9134",
      "metadata": {
        "id": "fb44e494-969e-45c5-9742-1c44421a9134",
        "colab": {
          "base_uri": "https://localhost:8080/"
        },
        "outputId": "b9e5d7e5-8686-4e35-9f60-05d84fdf5e8f"
      },
      "outputs": [
        {
          "output_type": "execute_result",
          "data": {
            "text/plain": [
              "88.0"
            ]
          },
          "metadata": {},
          "execution_count": 69
        }
      ],
      "source": [
        "(vize*0.4)+(final*0.6)"
      ]
    },
    {
      "cell_type": "code",
      "execution_count": null,
      "id": "4824a390-68f5-470e-8826-c613357519f5",
      "metadata": {
        "id": "4824a390-68f5-470e-8826-c613357519f5"
      },
      "outputs": [],
      "source": [
        "x = \"Antalya\"\n",
        "y = \"Bursa\"\n",
        "z = \"İstanbul\""
      ]
    },
    {
      "cell_type": "code",
      "execution_count": null,
      "id": "2cb0d2b9-184a-46ef-9fdc-dee6f662340b",
      "metadata": {
        "id": "2cb0d2b9-184a-46ef-9fdc-dee6f662340b",
        "colab": {
          "base_uri": "https://localhost:8080/",
          "height": 35
        },
        "outputId": "8f699e4b-b82a-442c-fd1c-ae1a2ee800a9"
      },
      "outputs": [
        {
          "output_type": "execute_result",
          "data": {
            "text/plain": [
              "'AntalyaBursaİstanbul'"
            ],
            "application/vnd.google.colaboratory.intrinsic+json": {
              "type": "string"
            }
          },
          "metadata": {},
          "execution_count": 77
        }
      ],
      "source": [
        "x + y + z #stringleri yan yana birbirine ekler "
      ]
    },
    {
      "cell_type": "code",
      "source": [
        "x=2"
      ],
      "metadata": {
        "id": "LNYMrCT4X5JA"
      },
      "id": "LNYMrCT4X5JA",
      "execution_count": null,
      "outputs": []
    },
    {
      "cell_type": "code",
      "execution_count": null,
      "id": "19257ab9-63e4-48b9-ac4e-caccdc86eac4",
      "metadata": {
        "id": "19257ab9-63e4-48b9-ac4e-caccdc86eac4",
        "colab": {
          "base_uri": "https://localhost:8080/"
        },
        "outputId": "6474553d-7f8c-4013-e7d5-54daf85261e5"
      },
      "outputs": [
        {
          "output_type": "execute_result",
          "data": {
            "text/plain": [
              "72"
            ]
          },
          "metadata": {},
          "execution_count": 74
        }
      ],
      "source": [
        "#str ve int değerler toplanamaz\n",
        "vize + x"
      ]
    },
    {
      "cell_type": "code",
      "execution_count": null,
      "id": "e5d53315-64d5-4e0d-ae10-c085194e2495",
      "metadata": {
        "id": "e5d53315-64d5-4e0d-ae10-c085194e2495",
        "colab": {
          "base_uri": "https://localhost:8080/",
          "height": 35
        },
        "outputId": "bb9e4b83-b9f8-4b6a-a16f-be9c8ce45890"
      },
      "outputs": [
        {
          "output_type": "execute_result",
          "data": {
            "text/plain": [
              "'70Bursa '"
            ],
            "application/vnd.google.colaboratory.intrinsic+json": {
              "type": "string"
            }
          },
          "metadata": {},
          "execution_count": 75
        }
      ],
      "source": [
        "str(vize) + y"
      ]
    },
    {
      "cell_type": "code",
      "source": [
        "'5'+'5'"
      ],
      "metadata": {
        "colab": {
          "base_uri": "https://localhost:8080/",
          "height": 35
        },
        "id": "bx9zojG3YSHc",
        "outputId": "39e2f794-94d2-42ca-b4f4-a60d028bb6a3"
      },
      "id": "bx9zojG3YSHc",
      "execution_count": null,
      "outputs": [
        {
          "output_type": "execute_result",
          "data": {
            "text/plain": [
              "'55'"
            ],
            "application/vnd.google.colaboratory.intrinsic+json": {
              "type": "string"
            }
          },
          "metadata": {},
          "execution_count": 78
        }
      ]
    },
    {
      "cell_type": "markdown",
      "id": "316cd6c1-3f9c-4902-b777-1b9a71fa2c48",
      "metadata": {
        "id": "316cd6c1-3f9c-4902-b777-1b9a71fa2c48"
      },
      "source": [
        "## **Değişken Değişimi**"
      ]
    },
    {
      "cell_type": "code",
      "execution_count": null,
      "id": "7eea7fb3-09a7-4e10-ac0e-d4ed56264634",
      "metadata": {
        "id": "7eea7fb3-09a7-4e10-ac0e-d4ed56264634"
      },
      "outputs": [],
      "source": [
        "a = 22\n",
        "b = 33"
      ]
    },
    {
      "cell_type": "code",
      "execution_count": null,
      "id": "797a54a8-38aa-4182-a060-84d1f25e4b50",
      "metadata": {
        "id": "797a54a8-38aa-4182-a060-84d1f25e4b50",
        "colab": {
          "base_uri": "https://localhost:8080/"
        },
        "outputId": "aa516a3a-6de3-44d0-e2de-42d778006f17"
      },
      "outputs": [
        {
          "output_type": "execute_result",
          "data": {
            "text/plain": [
              "22"
            ]
          },
          "metadata": {},
          "execution_count": 2
        }
      ],
      "source": [
        "a"
      ]
    },
    {
      "cell_type": "code",
      "execution_count": null,
      "id": "05f61bb2-ca1f-4a18-b2b4-7035f9405236",
      "metadata": {
        "id": "05f61bb2-ca1f-4a18-b2b4-7035f9405236",
        "colab": {
          "base_uri": "https://localhost:8080/"
        },
        "outputId": "fba5ed6e-1d8e-47fe-8b7a-e31554ec7fea"
      },
      "outputs": [
        {
          "output_type": "execute_result",
          "data": {
            "text/plain": [
              "33"
            ]
          },
          "metadata": {},
          "execution_count": 3
        }
      ],
      "source": [
        "b"
      ]
    },
    {
      "cell_type": "code",
      "execution_count": null,
      "id": "931c9909-f5e4-46f5-bfa1-b105754ed455",
      "metadata": {
        "id": "931c9909-f5e4-46f5-bfa1-b105754ed455"
      },
      "outputs": [],
      "source": [
        "a = b"
      ]
    },
    {
      "cell_type": "code",
      "execution_count": null,
      "id": "518e3707-c412-417e-8476-0222fe1be9d0",
      "metadata": {
        "id": "518e3707-c412-417e-8476-0222fe1be9d0",
        "colab": {
          "base_uri": "https://localhost:8080/"
        },
        "outputId": "6e68d475-6cef-4a10-b85b-f7d0bac8f36b"
      },
      "outputs": [
        {
          "output_type": "execute_result",
          "data": {
            "text/plain": [
              "33"
            ]
          },
          "metadata": {},
          "execution_count": 5
        }
      ],
      "source": [
        "a"
      ]
    },
    {
      "cell_type": "code",
      "execution_count": null,
      "id": "773d1094-8647-40c0-9bb7-b071b234fed7",
      "metadata": {
        "id": "773d1094-8647-40c0-9bb7-b071b234fed7",
        "colab": {
          "base_uri": "https://localhost:8080/"
        },
        "outputId": "2829247d-45e1-47f3-dbcd-cc04573d80fb"
      },
      "outputs": [
        {
          "output_type": "execute_result",
          "data": {
            "text/plain": [
              "33"
            ]
          },
          "metadata": {},
          "execution_count": 6
        }
      ],
      "source": [
        "b"
      ]
    },
    {
      "cell_type": "code",
      "execution_count": 174,
      "id": "2a48de00-eea2-4111-8ee5-7006e26be8f6",
      "metadata": {
        "id": "2a48de00-eea2-4111-8ee5-7006e26be8f6"
      },
      "outputs": [],
      "source": [
        "a = 22\n",
        "b = 33"
      ]
    },
    {
      "cell_type": "code",
      "execution_count": 175,
      "id": "ee45997d-7c8e-4eb3-ab97-5e3792e7fc87",
      "metadata": {
        "id": "ee45997d-7c8e-4eb3-ab97-5e3792e7fc87"
      },
      "outputs": [],
      "source": [
        "a,b=b,a"
      ]
    },
    {
      "cell_type": "code",
      "execution_count": 176,
      "id": "dccb0708-5c92-4597-b19c-120841fa3f91",
      "metadata": {
        "id": "dccb0708-5c92-4597-b19c-120841fa3f91",
        "colab": {
          "base_uri": "https://localhost:8080/"
        },
        "outputId": "d057684d-cf85-4581-ceef-2d1daee980ba"
      },
      "outputs": [
        {
          "output_type": "execute_result",
          "data": {
            "text/plain": [
              "33"
            ]
          },
          "metadata": {},
          "execution_count": 176
        }
      ],
      "source": [
        "a"
      ]
    },
    {
      "cell_type": "code",
      "execution_count": 177,
      "id": "c71a66ff-1421-4ccd-a661-ac48031812e2",
      "metadata": {
        "id": "c71a66ff-1421-4ccd-a661-ac48031812e2",
        "colab": {
          "base_uri": "https://localhost:8080/"
        },
        "outputId": "2a911dd2-1e4e-4b03-b16a-fe320b056e56"
      },
      "outputs": [
        {
          "output_type": "execute_result",
          "data": {
            "text/plain": [
              "22"
            ]
          },
          "metadata": {},
          "execution_count": 177
        }
      ],
      "source": [
        "b"
      ]
    },
    {
      "cell_type": "markdown",
      "id": "08720fab-aeb6-4624-94d8-dcf079102248",
      "metadata": {
        "id": "08720fab-aeb6-4624-94d8-dcf079102248"
      },
      "source": [
        "## **Format Metodu**"
      ]
    },
    {
      "cell_type": "code",
      "execution_count": null,
      "id": "cb8f3514-7cc7-432d-994b-7f437afc16e5",
      "metadata": {
        "tags": [],
        "id": "cb8f3514-7cc7-432d-994b-7f437afc16e5",
        "colab": {
          "base_uri": "https://localhost:8080/",
          "height": 37
        },
        "outputId": "5f6ad4b1-ab5e-48e8-c920-55c797425257"
      },
      "outputs": [
        {
          "output_type": "execute_result",
          "data": {
            "text/plain": [
              "'Merhaba'"
            ],
            "application/vnd.google.colaboratory.intrinsic+json": {
              "type": "string"
            }
          },
          "metadata": {},
          "execution_count": 11
        }
      ],
      "source": [
        "\"{}\".format(\"Merhaba\") "
      ]
    },
    {
      "cell_type": "code",
      "source": [
        "\"{} {}\".format(\"Merhaba\", \"Dünya!\")"
      ],
      "metadata": {
        "colab": {
          "base_uri": "https://localhost:8080/",
          "height": 37
        },
        "id": "kH4pDOu7dq6-",
        "outputId": "1a482a52-edc9-466e-f4f3-87893d808709"
      },
      "id": "kH4pDOu7dq6-",
      "execution_count": null,
      "outputs": [
        {
          "output_type": "execute_result",
          "data": {
            "text/plain": [
              "'Merhaba Dünya!'"
            ],
            "application/vnd.google.colaboratory.intrinsic+json": {
              "type": "string"
            }
          },
          "metadata": {},
          "execution_count": 12
        }
      ]
    },
    {
      "cell_type": "code",
      "execution_count": null,
      "id": "0efc8624-3461-4c1f-9bc5-7550ef55cba1",
      "metadata": {
        "id": "0efc8624-3461-4c1f-9bc5-7550ef55cba1",
        "colab": {
          "base_uri": "https://localhost:8080/"
        },
        "outputId": "a17b24fa-24f6-4ff3-ce9d-6560a989f1bf"
      },
      "outputs": [
        {
          "output_type": "stream",
          "name": "stdout",
          "text": [
            "2 + 3 eşittir 5 \n"
          ]
        }
      ],
      "source": [
        "a = 2\n",
        "b = 3\n",
        "print(\"{} + {} eşittir {} \".format(a,b,a+b))"
      ]
    },
    {
      "cell_type": "code",
      "execution_count": null,
      "id": "5f5a23bb-48cf-4823-b5ef-9181c642e6b3",
      "metadata": {
        "id": "5f5a23bb-48cf-4823-b5ef-9181c642e6b3"
      },
      "outputs": [],
      "source": [
        "vize = 55\n",
        "final = 80"
      ]
    },
    {
      "cell_type": "code",
      "execution_count": null,
      "id": "f9ea0c41-f971-462b-b40e-84f296c9c0a2",
      "metadata": {
        "id": "f9ea0c41-f971-462b-b40e-84f296c9c0a2",
        "colab": {
          "base_uri": "https://localhost:8080/",
          "height": 37
        },
        "outputId": "a8e6e51c-7b74-497f-da43-8a05a19f7bad"
      },
      "outputs": [
        {
          "output_type": "execute_result",
          "data": {
            "text/plain": [
              "'Vize notu 55 ve final notu 80'"
            ],
            "application/vnd.google.colaboratory.intrinsic+json": {
              "type": "string"
            }
          },
          "metadata": {},
          "execution_count": 15
        }
      ],
      "source": [
        "f'Vize notu {vize} ve final notu {final}'"
      ]
    },
    {
      "cell_type": "code",
      "execution_count": null,
      "id": "6493207f-3f77-42d2-bb18-6d21710b06f6",
      "metadata": {
        "id": "6493207f-3f77-42d2-bb18-6d21710b06f6",
        "colab": {
          "base_uri": "https://localhost:8080/",
          "height": 164
        },
        "outputId": "38ff4205-41ba-454d-a7f2-54e74cf17eb1"
      },
      "outputs": [
        {
          "output_type": "error",
          "ename": "TypeError",
          "evalue": "ignored",
          "traceback": [
            "\u001b[0;31m---------------------------------------------------------------------------\u001b[0m",
            "\u001b[0;31mTypeError\u001b[0m                                 Traceback (most recent call last)",
            "\u001b[0;32m<ipython-input-18-9a4bf951d114>\u001b[0m in \u001b[0;36m<module>\u001b[0;34m()\u001b[0m\n\u001b[0;32m----> 1\u001b[0;31m \u001b[0;34m'Vize notu '\u001b[0m \u001b[0;34m+\u001b[0m \u001b[0mvize\u001b[0m \u001b[0;34m+\u001b[0m \u001b[0;34m' ve final notu '\u001b[0m \u001b[0;34m+\u001b[0m \u001b[0mfinal\u001b[0m\u001b[0;34m\u001b[0m\u001b[0;34m\u001b[0m\u001b[0m\n\u001b[0m",
            "\u001b[0;31mTypeError\u001b[0m: can only concatenate str (not \"int\") to str"
          ]
        }
      ],
      "source": [
        "'Vize notu ' + vize + ' ve final notu ' + final #string ve int toplanamaz "
      ]
    },
    {
      "cell_type": "code",
      "execution_count": null,
      "id": "34e0739a-fe31-4e03-991c-2fbae9f69f38",
      "metadata": {
        "id": "34e0739a-fe31-4e03-991c-2fbae9f69f38",
        "colab": {
          "base_uri": "https://localhost:8080/",
          "height": 37
        },
        "outputId": "3e0dd530-8437-4b7e-ccb3-44b10a259344"
      },
      "outputs": [
        {
          "output_type": "execute_result",
          "data": {
            "text/plain": [
              "'Vize notu 55 ve final notu 80'"
            ],
            "application/vnd.google.colaboratory.intrinsic+json": {
              "type": "string"
            }
          },
          "metadata": {},
          "execution_count": 19
        }
      ],
      "source": [
        "'Vize notu ' + str(vize) + ' ve final notu ' + str(final)"
      ]
    },
    {
      "cell_type": "code",
      "execution_count": null,
      "id": "d1ea0d37-ada6-40b1-868e-8cf9d1ce0940",
      "metadata": {
        "id": "d1ea0d37-ada6-40b1-868e-8cf9d1ce0940",
        "colab": {
          "base_uri": "https://localhost:8080/"
        },
        "outputId": "79e777b5-1996-4220-90bd-1379d6aba03e"
      },
      "outputs": [
        {
          "output_type": "stream",
          "name": "stdout",
          "text": [
            "3.2346 + 4.3425 eşittir \n"
          ]
        }
      ],
      "source": [
        "x = 3.234552346453634564356\n",
        "y = 4.342543534534534534534\n",
        "print(\"{:.4f} + {:.4f} eşittir\".format(x,y,x+y))"
      ]
    },
    {
      "cell_type": "markdown",
      "id": "504b2518-c7d8-42e2-89c2-b66db318e65b",
      "metadata": {
        "id": "504b2518-c7d8-42e2-89c2-b66db318e65b"
      },
      "source": [
        "## **Listeler**"
      ]
    },
    {
      "cell_type": "code",
      "execution_count": null,
      "id": "800579f5-fcff-4f5e-bf23-20a77db6e7a7",
      "metadata": {
        "id": "800579f5-fcff-4f5e-bf23-20a77db6e7a7",
        "colab": {
          "base_uri": "https://localhost:8080/"
        },
        "outputId": "af3bde5f-c35a-478d-ded5-93069a5fa1f0"
      },
      "outputs": [
        {
          "output_type": "execute_result",
          "data": {
            "text/plain": [
              "list"
            ]
          },
          "metadata": {},
          "execution_count": 23
        }
      ],
      "source": [
        "liste = [1,2,3,4,5]\n",
        "type(liste)"
      ]
    },
    {
      "cell_type": "code",
      "execution_count": null,
      "id": "8ba0bafd-b66a-416f-81fa-76bff4ad01ad",
      "metadata": {
        "id": "8ba0bafd-b66a-416f-81fa-76bff4ad01ad",
        "colab": {
          "base_uri": "https://localhost:8080/"
        },
        "outputId": "dd28fd35-0e77-4aaf-9289-276276ef8ff1"
      },
      "outputs": [
        {
          "output_type": "execute_result",
          "data": {
            "text/plain": [
              "[1, 2, 3, 4, 5, 'Antalya', 'Bursa', 'İstanbul']"
            ]
          },
          "metadata": {},
          "execution_count": 24
        }
      ],
      "source": [
        "#Farklı veri tiplerini listeler içinde saklayabiliriz\n",
        "liste2 = [1,2,3,4,5, \"Antalya\", \"Bursa\", \"İstanbul\"]\n",
        "liste2"
      ]
    },
    {
      "cell_type": "code",
      "execution_count": null,
      "id": "8835fdd6-a681-4865-80ec-3585efea061b",
      "metadata": {
        "id": "8835fdd6-a681-4865-80ec-3585efea061b",
        "colab": {
          "base_uri": "https://localhost:8080/"
        },
        "outputId": "72766eb0-3202-4439-a786-63b04c159a55"
      },
      "outputs": [
        {
          "output_type": "execute_result",
          "data": {
            "text/plain": [
              "1"
            ]
          },
          "metadata": {},
          "execution_count": 26
        }
      ],
      "source": [
        "#len() listemizin veya değerlerimizin index uzunluğunu verir\n",
        "liste2[0]"
      ]
    },
    {
      "cell_type": "code",
      "execution_count": null,
      "id": "0490ce88-e07b-4bde-a812-51b26deb8011",
      "metadata": {
        "id": "0490ce88-e07b-4bde-a812-51b26deb8011"
      },
      "outputs": [],
      "source": [
        "bos_liste = []"
      ]
    },
    {
      "cell_type": "code",
      "execution_count": null,
      "id": "77472644-756e-4e80-935b-d6fdf2c03fce",
      "metadata": {
        "id": "77472644-756e-4e80-935b-d6fdf2c03fce",
        "colab": {
          "base_uri": "https://localhost:8080/"
        },
        "outputId": "e1eda062-ee07-4641-d6b9-acbb3ca357fa"
      },
      "outputs": [
        {
          "output_type": "execute_result",
          "data": {
            "text/plain": [
              "[]"
            ]
          },
          "metadata": {},
          "execution_count": 28
        }
      ],
      "source": [
        "bos_liste"
      ]
    },
    {
      "cell_type": "code",
      "execution_count": null,
      "id": "fbfcfb7d-fa3d-4480-9ca0-6557da567fea",
      "metadata": {
        "id": "fbfcfb7d-fa3d-4480-9ca0-6557da567fea"
      },
      "outputs": [],
      "source": [
        "bos_liste2 = list()"
      ]
    },
    {
      "cell_type": "code",
      "execution_count": null,
      "id": "1eb3831c-4417-4b01-8ab0-5ee8ab2f656b",
      "metadata": {
        "id": "1eb3831c-4417-4b01-8ab0-5ee8ab2f656b",
        "colab": {
          "base_uri": "https://localhost:8080/"
        },
        "outputId": "13ee44be-1336-4080-ca81-725c5241bf66"
      },
      "outputs": [
        {
          "output_type": "execute_result",
          "data": {
            "text/plain": [
              "[]"
            ]
          },
          "metadata": {},
          "execution_count": 30
        }
      ],
      "source": [
        "bos_liste2"
      ]
    },
    {
      "cell_type": "code",
      "execution_count": null,
      "id": "b8f5d218-e050-45a9-8971-c7900c99a25a",
      "metadata": {
        "id": "b8f5d218-e050-45a9-8971-c7900c99a25a"
      },
      "outputs": [],
      "source": [
        "a = \"Antalya\"\n",
        "b = \"Bursa\"\n",
        "i = \"İstanbul\""
      ]
    },
    {
      "cell_type": "code",
      "execution_count": null,
      "id": "0d27e8b5-8dee-4666-a07a-8fe6fbf8010a",
      "metadata": {
        "id": "0d27e8b5-8dee-4666-a07a-8fe6fbf8010a"
      },
      "outputs": [],
      "source": [
        "#Stringleri listeye çevirebiliriz\n",
        "x = list(a)"
      ]
    },
    {
      "cell_type": "code",
      "execution_count": null,
      "id": "8b8fa31f-eb9a-4b45-a42f-f542530493fa",
      "metadata": {
        "id": "8b8fa31f-eb9a-4b45-a42f-f542530493fa",
        "colab": {
          "base_uri": "https://localhost:8080/"
        },
        "outputId": "275a8acf-cb4f-4bbd-ce2c-55b12014f78a"
      },
      "outputs": [
        {
          "output_type": "execute_result",
          "data": {
            "text/plain": [
              "['A', 'n', 't', 'a', 'l', 'y', 'a']"
            ]
          },
          "metadata": {},
          "execution_count": 33
        }
      ],
      "source": [
        "x"
      ]
    },
    {
      "cell_type": "code",
      "execution_count": null,
      "id": "1a332e25-ed1d-45d3-99d3-29a193d3e0eb",
      "metadata": {
        "id": "1a332e25-ed1d-45d3-99d3-29a193d3e0eb"
      },
      "outputs": [],
      "source": [
        "a = \"Antalya\"\n",
        "b = \"Bursa\"\n",
        "i = \"İstanbul\""
      ]
    },
    {
      "cell_type": "code",
      "execution_count": null,
      "id": "88207fe9-2aa8-41be-a8e2-67e8a383f457",
      "metadata": {
        "id": "88207fe9-2aa8-41be-a8e2-67e8a383f457"
      },
      "outputs": [],
      "source": [
        "x = list(a+b+i) #stringleri birleştirip harflarinin bulunduğu bir liste oluşturuyoruz"
      ]
    },
    {
      "cell_type": "code",
      "execution_count": null,
      "id": "a3fa05ef-0dc6-49d7-84f1-5ee3f5e62d51",
      "metadata": {
        "id": "a3fa05ef-0dc6-49d7-84f1-5ee3f5e62d51",
        "colab": {
          "base_uri": "https://localhost:8080/"
        },
        "outputId": "ea5a008e-92ca-4eee-8c37-2883b03707c8"
      },
      "outputs": [
        {
          "output_type": "execute_result",
          "data": {
            "text/plain": [
              "['A',\n",
              " 'n',\n",
              " 't',\n",
              " 'a',\n",
              " 'l',\n",
              " 'y',\n",
              " 'a',\n",
              " 'B',\n",
              " 'u',\n",
              " 'r',\n",
              " 's',\n",
              " 'a',\n",
              " 'İ',\n",
              " 's',\n",
              " 't',\n",
              " 'a',\n",
              " 'n',\n",
              " 'b',\n",
              " 'u',\n",
              " 'l']"
            ]
          },
          "metadata": {},
          "execution_count": 36
        }
      ],
      "source": [
        "x"
      ]
    },
    {
      "cell_type": "code",
      "execution_count": null,
      "id": "92f073d8-da53-4c30-93fa-6d8cde747743",
      "metadata": {
        "id": "92f073d8-da53-4c30-93fa-6d8cde747743",
        "colab": {
          "base_uri": "https://localhost:8080/"
        },
        "outputId": "9a350057-08c1-4153-bcd6-2c1dce020ee7"
      },
      "outputs": [
        {
          "output_type": "execute_result",
          "data": {
            "text/plain": [
              "20"
            ]
          },
          "metadata": {},
          "execution_count": 37
        }
      ],
      "source": [
        "len(x) #listenin uzunluğunu bulmak için kullanıyoruz"
      ]
    },
    {
      "cell_type": "code",
      "execution_count": null,
      "id": "0b5925c5-f561-4eb7-a1df-a3a125b8d137",
      "metadata": {
        "id": "0b5925c5-f561-4eb7-a1df-a3a125b8d137",
        "colab": {
          "base_uri": "https://localhost:8080/",
          "height": 37
        },
        "outputId": "e86994f8-d064-4e7e-d292-70ced3d04523"
      },
      "outputs": [
        {
          "output_type": "execute_result",
          "data": {
            "text/plain": [
              "'A'"
            ],
            "application/vnd.google.colaboratory.intrinsic+json": {
              "type": "string"
            }
          },
          "metadata": {},
          "execution_count": 38
        }
      ],
      "source": [
        "x[0] #bildiğimiz üzere listeler 0 dan indexlenmeye başlar ve son indexi len(liste)-1 'dir"
      ]
    },
    {
      "cell_type": "code",
      "execution_count": null,
      "id": "ebe69c1f-a7d5-45ff-9903-08679cba0d44",
      "metadata": {
        "id": "ebe69c1f-a7d5-45ff-9903-08679cba0d44",
        "colab": {
          "base_uri": "https://localhost:8080/",
          "height": 37
        },
        "outputId": "5d430087-83dd-43d5-c2ac-4d916d3eb522"
      },
      "outputs": [
        {
          "output_type": "execute_result",
          "data": {
            "text/plain": [
              "'s'"
            ],
            "application/vnd.google.colaboratory.intrinsic+json": {
              "type": "string"
            }
          },
          "metadata": {},
          "execution_count": 39
        }
      ],
      "source": [
        "x[13] #listenin 13.indexindeki elamanı döndürür"
      ]
    },
    {
      "cell_type": "code",
      "execution_count": null,
      "id": "c478dde5-b8ae-4bd8-80f1-3c6cedc05ad3",
      "metadata": {
        "id": "c478dde5-b8ae-4bd8-80f1-3c6cedc05ad3",
        "colab": {
          "base_uri": "https://localhost:8080/",
          "height": 37
        },
        "outputId": "f2cba01d-5ee0-48e1-f9c7-ee2ba2a98ece"
      },
      "outputs": [
        {
          "output_type": "execute_result",
          "data": {
            "text/plain": [
              "'l'"
            ],
            "application/vnd.google.colaboratory.intrinsic+json": {
              "type": "string"
            }
          },
          "metadata": {},
          "execution_count": 40
        }
      ],
      "source": [
        "x[-1] #x[len[x]-1] 'i yazdımakla aynı şeydir. Listenin en son elamanını döndürür."
      ]
    },
    {
      "cell_type": "code",
      "execution_count": null,
      "id": "a164e2ce-d932-4b14-891b-05737f975b49",
      "metadata": {
        "id": "a164e2ce-d932-4b14-891b-05737f975b49",
        "colab": {
          "base_uri": "https://localhost:8080/"
        },
        "outputId": "a0b35b43-14a7-4033-fb1e-41b69e9d2011"
      },
      "outputs": [
        {
          "output_type": "execute_result",
          "data": {
            "text/plain": [
              "['A', 'n', 't', 'a', 'l', 'y', 'a']"
            ]
          },
          "metadata": {},
          "execution_count": 41
        }
      ],
      "source": [
        "x[0:7] #listenin ilk elemanından başlayarak 7.indexteki elamanına kadar olan elamanlarını döndürür ancak 7.index dahil değildir."
      ]
    },
    {
      "cell_type": "code",
      "execution_count": null,
      "id": "91790a79-2e9e-4d22-a324-7eb410819f33",
      "metadata": {
        "id": "91790a79-2e9e-4d22-a324-7eb410819f33",
        "colab": {
          "base_uri": "https://localhost:8080/"
        },
        "outputId": "5f5f8219-3de1-44c0-fe88-7a3ab798328a"
      },
      "outputs": [
        {
          "output_type": "execute_result",
          "data": {
            "text/plain": [
              "['B', 'u', 'r', 's', 'a']"
            ]
          },
          "metadata": {},
          "execution_count": 42
        }
      ],
      "source": [
        "x[7:12] #listenin 7.indexinden başlayarak 12.indexine kadar olan elamanlarını döndürür ancak 12.index dahil değildir."
      ]
    },
    {
      "cell_type": "code",
      "execution_count": null,
      "id": "44cb0315-928a-4d20-853d-4aed1b163a3c",
      "metadata": {
        "id": "44cb0315-928a-4d20-853d-4aed1b163a3c",
        "colab": {
          "base_uri": "https://localhost:8080/"
        },
        "outputId": "f45ef768-89ef-4aea-e5a3-47b022bfc147"
      },
      "outputs": [
        {
          "output_type": "execute_result",
          "data": {
            "text/plain": [
              "['İ', 's', 't', 'a', 'n', 'b', 'u', 'l']"
            ]
          },
          "metadata": {},
          "execution_count": 43
        }
      ],
      "source": [
        "x[12:20] "
      ]
    },
    {
      "cell_type": "code",
      "execution_count": null,
      "id": "6c7b8558-87e2-4136-b04e-043e740a8e93",
      "metadata": {
        "id": "6c7b8558-87e2-4136-b04e-043e740a8e93",
        "colab": {
          "base_uri": "https://localhost:8080/"
        },
        "outputId": "320d8d59-a455-4ea7-8d19-a1e909df2d6c"
      },
      "outputs": [
        {
          "output_type": "execute_result",
          "data": {
            "text/plain": [
              "['y', 'a', 'B', 'u', 'r', 's', 'a', 'İ', 's', 't', 'a', 'n', 'b', 'u', 'l']"
            ]
          },
          "metadata": {},
          "execution_count": 45
        }
      ],
      "source": [
        "x[5:] #listenin 5.indexinden başlayarak listenin sonuna kadar olan elemanlarını döndürür"
      ]
    },
    {
      "cell_type": "code",
      "execution_count": null,
      "id": "b3dd201b-4139-4c72-b070-1c6af8d23259",
      "metadata": {
        "id": "b3dd201b-4139-4c72-b070-1c6af8d23259",
        "colab": {
          "base_uri": "https://localhost:8080/"
        },
        "outputId": "e4d460c2-91c4-41b7-b4a2-abbc54cc355c"
      },
      "outputs": [
        {
          "output_type": "execute_result",
          "data": {
            "text/plain": [
              "['A', 'n', 't', 'a', 'l', 'y', 'a']"
            ]
          },
          "metadata": {},
          "execution_count": 46
        }
      ],
      "source": [
        "x[:7] #listenin başından başlayarak 7.indexe kadar olan elamanları döndürür, 7.index dahil değildir"
      ]
    },
    {
      "cell_type": "code",
      "execution_count": null,
      "id": "51319d32-ad55-4ee6-8dda-48051bcde954",
      "metadata": {
        "id": "51319d32-ad55-4ee6-8dda-48051bcde954",
        "colab": {
          "base_uri": "https://localhost:8080/"
        },
        "outputId": "e60a3e16-5d75-406d-99fa-bcb2289d2709"
      },
      "outputs": [
        {
          "output_type": "execute_result",
          "data": {
            "text/plain": [
              "['t', 'y', 'u', 'a', 't']"
            ]
          },
          "metadata": {},
          "execution_count": 48
        }
      ],
      "source": [
        "x[2:15:3] #2.indexden başlayarak 3 indexte bir olan elamanları 15.indexe kadar döndürür, 15.index dahil değildir.\n",
        "#2.index, 5.index, 8.index, 11.index, 14.index değerleri çıktı olarak ekrana basılacaktır."
      ]
    },
    {
      "cell_type": "code",
      "execution_count": null,
      "id": "23826f14-dc31-47ba-a8ef-93489772b791",
      "metadata": {
        "id": "23826f14-dc31-47ba-a8ef-93489772b791"
      },
      "outputs": [],
      "source": [
        "a = list(\"Antalya\") #stringin harflerinden oluşan bir liste oluşturur\n",
        "b = list(\"Bursa\")\n",
        "i = list(\"İstanbul\")"
      ]
    },
    {
      "cell_type": "code",
      "execution_count": null,
      "id": "dc451382-b372-44be-b248-956dd328b22e",
      "metadata": {
        "id": "dc451382-b372-44be-b248-956dd328b22e",
        "colab": {
          "base_uri": "https://localhost:8080/"
        },
        "outputId": "5441697f-49e1-4d1c-9a98-6baecb9de282"
      },
      "outputs": [
        {
          "output_type": "execute_result",
          "data": {
            "text/plain": [
              "['A', 'n', 't', 'a', 'l', 'y', 'a']"
            ]
          },
          "metadata": {},
          "execution_count": 50
        }
      ],
      "source": [
        "a "
      ]
    },
    {
      "cell_type": "code",
      "execution_count": null,
      "id": "823dfbc5-933a-4af8-81ae-0bb5ecf782b9",
      "metadata": {
        "id": "823dfbc5-933a-4af8-81ae-0bb5ecf782b9",
        "colab": {
          "base_uri": "https://localhost:8080/"
        },
        "outputId": "ee9609b1-064c-49d1-b4d4-fcb1060dad88"
      },
      "outputs": [
        {
          "output_type": "execute_result",
          "data": {
            "text/plain": [
              "['B', 'u', 'r', 's', 'a']"
            ]
          },
          "metadata": {},
          "execution_count": 51
        }
      ],
      "source": [
        "b"
      ]
    },
    {
      "cell_type": "code",
      "execution_count": null,
      "id": "e269f4fc-b8da-43c4-9d75-36d8f5d855e1",
      "metadata": {
        "id": "e269f4fc-b8da-43c4-9d75-36d8f5d855e1",
        "colab": {
          "base_uri": "https://localhost:8080/"
        },
        "outputId": "8900f353-ebef-49b5-8426-bd50f4db184f"
      },
      "outputs": [
        {
          "output_type": "execute_result",
          "data": {
            "text/plain": [
              "['İ', 's', 't', 'a', 'n', 'b', 'u', 'l']"
            ]
          },
          "metadata": {},
          "execution_count": 52
        }
      ],
      "source": [
        "i"
      ]
    },
    {
      "cell_type": "code",
      "execution_count": null,
      "id": "e06c13cf-147f-45e8-b9a0-08536b6499d7",
      "metadata": {
        "id": "e06c13cf-147f-45e8-b9a0-08536b6499d7",
        "colab": {
          "base_uri": "https://localhost:8080/"
        },
        "outputId": "eb82d807-3dc7-4e77-a57d-b659b4a86bd2"
      },
      "outputs": [
        {
          "output_type": "execute_result",
          "data": {
            "text/plain": [
              "list"
            ]
          },
          "metadata": {},
          "execution_count": 53
        }
      ],
      "source": [
        "type(a)"
      ]
    },
    {
      "cell_type": "code",
      "execution_count": null,
      "id": "07ebb7fd-5366-4e8a-8026-113b75db2da3",
      "metadata": {
        "id": "07ebb7fd-5366-4e8a-8026-113b75db2da3",
        "colab": {
          "base_uri": "https://localhost:8080/"
        },
        "outputId": "ecb6c0fe-5cae-44ee-bc0e-9ea04e1ba381"
      },
      "outputs": [
        {
          "output_type": "execute_result",
          "data": {
            "text/plain": [
              "['A', 'n', 't', 'a', 'l', 'y', 'a', 'B', 'u', 'r', 's', 'a']"
            ]
          },
          "metadata": {},
          "execution_count": 54
        }
      ],
      "source": [
        "a+b #2 liste birbirine eklenir"
      ]
    },
    {
      "cell_type": "code",
      "execution_count": null,
      "id": "3cab47d7-d0c6-47c9-8394-daccc165c9ff",
      "metadata": {
        "id": "3cab47d7-d0c6-47c9-8394-daccc165c9ff",
        "colab": {
          "base_uri": "https://localhost:8080/"
        },
        "outputId": "690997e6-80c7-4300-9664-a241605f8ea2"
      },
      "outputs": [
        {
          "output_type": "execute_result",
          "data": {
            "text/plain": [
              "['A', 'n', 't', 'a', 'l', 'y', 'a']"
            ]
          },
          "metadata": {},
          "execution_count": 55
        }
      ],
      "source": [
        "a"
      ]
    },
    {
      "cell_type": "code",
      "source": [
        "a=a+b"
      ],
      "metadata": {
        "id": "5oKvmwQQjoOC"
      },
      "id": "5oKvmwQQjoOC",
      "execution_count": null,
      "outputs": []
    },
    {
      "cell_type": "code",
      "execution_count": null,
      "id": "afc7bd57-82bd-49dd-a108-e88c573d433d",
      "metadata": {
        "id": "afc7bd57-82bd-49dd-a108-e88c573d433d"
      },
      "outputs": [],
      "source": [
        "a += b"
      ]
    },
    {
      "cell_type": "code",
      "execution_count": null,
      "id": "3bc5f50f-1ed3-441c-aab1-fb73a2117092",
      "metadata": {
        "id": "3bc5f50f-1ed3-441c-aab1-fb73a2117092",
        "colab": {
          "base_uri": "https://localhost:8080/"
        },
        "outputId": "4e7f3c66-d607-49ef-afe1-83bcb956b7ce"
      },
      "outputs": [
        {
          "output_type": "execute_result",
          "data": {
            "text/plain": [
              "['A', 'n', 't', 'a', 'l', 'y', 'a', 'B', 'u', 'r', 's', 'a']"
            ]
          },
          "metadata": {},
          "execution_count": 57
        }
      ],
      "source": [
        "a"
      ]
    },
    {
      "cell_type": "code",
      "execution_count": null,
      "id": "aa58d916-5890-41e6-82b8-c81d9c8c45d3",
      "metadata": {
        "id": "aa58d916-5890-41e6-82b8-c81d9c8c45d3",
        "colab": {
          "base_uri": "https://localhost:8080/"
        },
        "outputId": "45824663-de37-4a93-c2f7-1963127e5d6d"
      },
      "outputs": [
        {
          "output_type": "execute_result",
          "data": {
            "text/plain": [
              "['A',\n",
              " 'n',\n",
              " 't',\n",
              " 'a',\n",
              " 'l',\n",
              " 'y',\n",
              " 'a',\n",
              " 'B',\n",
              " 'u',\n",
              " 'r',\n",
              " 's',\n",
              " 'a',\n",
              " 'A',\n",
              " 'n',\n",
              " 't',\n",
              " 'a',\n",
              " 'l',\n",
              " 'y',\n",
              " 'a',\n",
              " 'B',\n",
              " 'u',\n",
              " 'r',\n",
              " 's',\n",
              " 'a']"
            ]
          },
          "metadata": {},
          "execution_count": 58
        }
      ],
      "source": [
        "a * 2 # a+a ile aynı sonucu verir"
      ]
    },
    {
      "cell_type": "code",
      "execution_count": null,
      "id": "988b7489-b30b-4f70-a92a-887b15970b32",
      "metadata": {
        "id": "988b7489-b30b-4f70-a92a-887b15970b32"
      },
      "outputs": [],
      "source": [
        "a += \"İstanbul\" #listeye stringin harflerini ekler"
      ]
    },
    {
      "cell_type": "code",
      "source": [
        "a"
      ],
      "metadata": {
        "colab": {
          "base_uri": "https://localhost:8080/"
        },
        "id": "JayaakuPkQoo",
        "outputId": "5680effe-67ff-4aba-9686-b888850c90aa"
      },
      "id": "JayaakuPkQoo",
      "execution_count": null,
      "outputs": [
        {
          "output_type": "execute_result",
          "data": {
            "text/plain": [
              "['A',\n",
              " 'n',\n",
              " 't',\n",
              " 'a',\n",
              " 'l',\n",
              " 'y',\n",
              " 'a',\n",
              " 'B',\n",
              " 'u',\n",
              " 'r',\n",
              " 's',\n",
              " 'a',\n",
              " 'İ',\n",
              " 's',\n",
              " 't',\n",
              " 'a',\n",
              " 'n',\n",
              " 'b',\n",
              " 'u',\n",
              " 'l']"
            ]
          },
          "metadata": {},
          "execution_count": 60
        }
      ]
    },
    {
      "cell_type": "code",
      "execution_count": null,
      "id": "9488358a-59a0-4361-8729-f3d7695aa040",
      "metadata": {
        "id": "9488358a-59a0-4361-8729-f3d7695aa040",
        "colab": {
          "base_uri": "https://localhost:8080/"
        },
        "outputId": "809a65d6-5dc3-443d-b267-5403726c5d82"
      },
      "outputs": [
        {
          "output_type": "execute_result",
          "data": {
            "text/plain": [
              "20"
            ]
          },
          "metadata": {},
          "execution_count": 61
        }
      ],
      "source": [
        "len(a)"
      ]
    },
    {
      "cell_type": "code",
      "execution_count": null,
      "id": "f7c0cc00-008e-40e3-aaa9-643499f7dc9f",
      "metadata": {
        "id": "f7c0cc00-008e-40e3-aaa9-643499f7dc9f"
      },
      "outputs": [],
      "source": [
        "a += [\"Ankara\"] #listeye Ankara kelimesini ekler, append() ile aynı görevi görür"
      ]
    },
    {
      "cell_type": "code",
      "execution_count": null,
      "id": "aba82d38-35e4-407b-8944-22249deb3adf",
      "metadata": {
        "id": "aba82d38-35e4-407b-8944-22249deb3adf",
        "colab": {
          "base_uri": "https://localhost:8080/"
        },
        "outputId": "124e2ff4-694f-4bd1-afb1-663de0f5788f"
      },
      "outputs": [
        {
          "output_type": "execute_result",
          "data": {
            "text/plain": [
              "['A',\n",
              " 'n',\n",
              " 't',\n",
              " 'a',\n",
              " 'l',\n",
              " 'y',\n",
              " 'a',\n",
              " 'B',\n",
              " 'u',\n",
              " 'r',\n",
              " 's',\n",
              " 'a',\n",
              " 'İ',\n",
              " 's',\n",
              " 't',\n",
              " 'a',\n",
              " 'n',\n",
              " 'b',\n",
              " 'u',\n",
              " 'l',\n",
              " 'Ankara']"
            ]
          },
          "metadata": {},
          "execution_count": 63
        }
      ],
      "source": [
        "a"
      ]
    },
    {
      "cell_type": "code",
      "execution_count": null,
      "id": "ba234fa7-c743-4457-9b12-8582ecd06d2d",
      "metadata": {
        "id": "ba234fa7-c743-4457-9b12-8582ecd06d2d"
      },
      "outputs": [],
      "source": [
        "a.append(\"Emirhan\") #listeye eleman ekleme"
      ]
    },
    {
      "cell_type": "code",
      "execution_count": null,
      "id": "fa311ceb-e11a-4e73-ae8f-7148ea26c9a3",
      "metadata": {
        "id": "fa311ceb-e11a-4e73-ae8f-7148ea26c9a3",
        "colab": {
          "base_uri": "https://localhost:8080/"
        },
        "outputId": "fdec60a0-7d83-4311-e10f-fb494d4ce13f"
      },
      "outputs": [
        {
          "output_type": "execute_result",
          "data": {
            "text/plain": [
              "['A',\n",
              " 'n',\n",
              " 't',\n",
              " 'a',\n",
              " 'l',\n",
              " 'y',\n",
              " 'a',\n",
              " 'B',\n",
              " 'u',\n",
              " 'r',\n",
              " 's',\n",
              " 'a',\n",
              " 'İ',\n",
              " 's',\n",
              " 't',\n",
              " 'a',\n",
              " 'n',\n",
              " 'b',\n",
              " 'u',\n",
              " 'l',\n",
              " 'Ankara',\n",
              " 'Emirhan']"
            ]
          },
          "metadata": {},
          "execution_count": 65
        }
      ],
      "source": [
        "a"
      ]
    },
    {
      "cell_type": "code",
      "execution_count": null,
      "id": "328c115a-cef2-41cf-bc96-cb992a90ae69",
      "metadata": {
        "id": "328c115a-cef2-41cf-bc96-cb992a90ae69",
        "colab": {
          "base_uri": "https://localhost:8080/",
          "height": 37
        },
        "outputId": "f9a75771-711a-408f-b6ef-9dd97c55d59b"
      },
      "outputs": [
        {
          "output_type": "execute_result",
          "data": {
            "text/plain": [
              "'Emirhan'"
            ],
            "application/vnd.google.colaboratory.intrinsic+json": {
              "type": "string"
            }
          },
          "metadata": {},
          "execution_count": 66
        }
      ],
      "source": [
        "a.pop() #listenin son elamanını listeden çıkartır"
      ]
    },
    {
      "cell_type": "code",
      "execution_count": null,
      "id": "ff4ccce3-e0d1-48ef-8c5d-8599e6429791",
      "metadata": {
        "id": "ff4ccce3-e0d1-48ef-8c5d-8599e6429791",
        "colab": {
          "base_uri": "https://localhost:8080/"
        },
        "outputId": "29f3b430-6ad0-4045-8db4-2fb16a663e13"
      },
      "outputs": [
        {
          "output_type": "execute_result",
          "data": {
            "text/plain": [
              "['A',\n",
              " 'n',\n",
              " 't',\n",
              " 'a',\n",
              " 'l',\n",
              " 'y',\n",
              " 'a',\n",
              " 'B',\n",
              " 'u',\n",
              " 'r',\n",
              " 's',\n",
              " 'a',\n",
              " 'İ',\n",
              " 's',\n",
              " 't',\n",
              " 'a',\n",
              " 'n',\n",
              " 'b',\n",
              " 'u',\n",
              " 'l',\n",
              " 'Ankara']"
            ]
          },
          "metadata": {},
          "execution_count": 67
        }
      ],
      "source": [
        "a"
      ]
    },
    {
      "cell_type": "code",
      "execution_count": null,
      "id": "321aaffe-6991-4888-9aa2-94bcf06194dd",
      "metadata": {
        "id": "321aaffe-6991-4888-9aa2-94bcf06194dd",
        "colab": {
          "base_uri": "https://localhost:8080/",
          "height": 181
        },
        "outputId": "49a788d5-2718-4cd4-c3b0-f28d6883d44e"
      },
      "outputs": [
        {
          "output_type": "error",
          "ename": "TypeError",
          "evalue": "ignored",
          "traceback": [
            "\u001b[0;31m---------------------------------------------------------------------------\u001b[0m",
            "\u001b[0;31mTypeError\u001b[0m                                 Traceback (most recent call last)",
            "\u001b[0;32m<ipython-input-68-15f2726d8753>\u001b[0m in \u001b[0;36m<module>\u001b[0;34m()\u001b[0m\n\u001b[1;32m      1\u001b[0m \u001b[0;31m#pop metodunu indexler üzerinde kullanabiliriz\u001b[0m\u001b[0;34m\u001b[0m\u001b[0;34m\u001b[0m\u001b[0;34m\u001b[0m\u001b[0m\n\u001b[0;32m----> 2\u001b[0;31m \u001b[0ma\u001b[0m\u001b[0;34m.\u001b[0m\u001b[0mpop\u001b[0m\u001b[0;34m(\u001b[0m\u001b[0;34m\"Antalya\"\u001b[0m\u001b[0;34m)\u001b[0m\u001b[0;34m\u001b[0m\u001b[0;34m\u001b[0m\u001b[0m\n\u001b[0m",
            "\u001b[0;31mTypeError\u001b[0m: 'str' object cannot be interpreted as an integer"
          ]
        }
      ],
      "source": [
        "#pop metodunu indexler üzerinde kullanabiliriz\n",
        "a.pop(\"Antalya\")"
      ]
    },
    {
      "cell_type": "code",
      "execution_count": null,
      "id": "5b2307eb-78c7-4bbe-9c0d-807320dd5625",
      "metadata": {
        "id": "5b2307eb-78c7-4bbe-9c0d-807320dd5625",
        "colab": {
          "base_uri": "https://localhost:8080/",
          "height": 164
        },
        "outputId": "74b17bbd-fa49-495a-9463-cd2c5f9a5878"
      },
      "outputs": [
        {
          "output_type": "error",
          "ename": "TypeError",
          "evalue": "ignored",
          "traceback": [
            "\u001b[0;31m---------------------------------------------------------------------------\u001b[0m",
            "\u001b[0;31mTypeError\u001b[0m                                 Traceback (most recent call last)",
            "\u001b[0;32m<ipython-input-69-9f49cb5f91e6>\u001b[0m in \u001b[0;36m<module>\u001b[0;34m()\u001b[0m\n\u001b[0;32m----> 1\u001b[0;31m \u001b[0ma\u001b[0m\u001b[0;34m.\u001b[0m\u001b[0mpop\u001b[0m\u001b[0;34m(\u001b[0m\u001b[0;34m\"A\"\u001b[0m\u001b[0;34m)\u001b[0m\u001b[0;34m\u001b[0m\u001b[0;34m\u001b[0m\u001b[0m\n\u001b[0m",
            "\u001b[0;31mTypeError\u001b[0m: 'str' object cannot be interpreted as an integer"
          ]
        }
      ],
      "source": [
        "a.pop(\"A\")"
      ]
    },
    {
      "cell_type": "code",
      "execution_count": null,
      "id": "ef0c01c9-d74e-4673-b864-361360971c6d",
      "metadata": {
        "id": "ef0c01c9-d74e-4673-b864-361360971c6d",
        "colab": {
          "base_uri": "https://localhost:8080/",
          "height": 37
        },
        "outputId": "7645a893-a2b5-46a8-8584-11d5a4b9fb4b"
      },
      "outputs": [
        {
          "output_type": "execute_result",
          "data": {
            "text/plain": [
              "'A'"
            ],
            "application/vnd.google.colaboratory.intrinsic+json": {
              "type": "string"
            }
          },
          "metadata": {},
          "execution_count": 70
        }
      ],
      "source": [
        "a.pop(0) #listenin 0.indexini listeden çıkartır"
      ]
    },
    {
      "cell_type": "code",
      "source": [
        "a"
      ],
      "metadata": {
        "colab": {
          "base_uri": "https://localhost:8080/"
        },
        "id": "N1BE03DllfmM",
        "outputId": "aa2c2314-ba64-405d-f00e-6013a93e1ccb"
      },
      "id": "N1BE03DllfmM",
      "execution_count": null,
      "outputs": [
        {
          "output_type": "execute_result",
          "data": {
            "text/plain": [
              "['n',\n",
              " 't',\n",
              " 'a',\n",
              " 'l',\n",
              " 'y',\n",
              " 'a',\n",
              " 'B',\n",
              " 'u',\n",
              " 'r',\n",
              " 's',\n",
              " 'a',\n",
              " 'İ',\n",
              " 's',\n",
              " 't',\n",
              " 'a',\n",
              " 'n',\n",
              " 'b',\n",
              " 'u',\n",
              " 'l',\n",
              " 'Ankara']"
            ]
          },
          "metadata": {},
          "execution_count": 71
        }
      ]
    },
    {
      "cell_type": "code",
      "execution_count": null,
      "id": "2e6adaef-7ccb-423d-a0e2-5446628caa3e",
      "metadata": {
        "id": "2e6adaef-7ccb-423d-a0e2-5446628caa3e"
      },
      "outputs": [],
      "source": [
        "a.remove(\"B\") # \"B\" stringini bulup listeden çıkartır"
      ]
    },
    {
      "cell_type": "code",
      "execution_count": null,
      "id": "14f1aecd-cddb-4a68-bfc5-705add8dd402",
      "metadata": {
        "id": "14f1aecd-cddb-4a68-bfc5-705add8dd402",
        "colab": {
          "base_uri": "https://localhost:8080/"
        },
        "outputId": "c0be2ff3-ce99-4939-c8bb-a49bf6ac96ba"
      },
      "outputs": [
        {
          "output_type": "execute_result",
          "data": {
            "text/plain": [
              "['n',\n",
              " 't',\n",
              " 'a',\n",
              " 'l',\n",
              " 'y',\n",
              " 'a',\n",
              " 'u',\n",
              " 'r',\n",
              " 's',\n",
              " 'a',\n",
              " 'İ',\n",
              " 's',\n",
              " 't',\n",
              " 'a',\n",
              " 'n',\n",
              " 'b',\n",
              " 'u',\n",
              " 'l',\n",
              " 'Ankara']"
            ]
          },
          "metadata": {},
          "execution_count": 73
        }
      ],
      "source": [
        "a"
      ]
    },
    {
      "cell_type": "code",
      "execution_count": null,
      "id": "e8d20c46-a600-46ed-be9c-adf041e7d6ac",
      "metadata": {
        "id": "e8d20c46-a600-46ed-be9c-adf041e7d6ac"
      },
      "outputs": [],
      "source": [
        "#Küçükten büyüğe doğru sıralar\n",
        "a.sort()"
      ]
    },
    {
      "cell_type": "code",
      "execution_count": null,
      "id": "f1777154-6d80-4967-838a-47bda77de413",
      "metadata": {
        "id": "f1777154-6d80-4967-838a-47bda77de413",
        "colab": {
          "base_uri": "https://localhost:8080/"
        },
        "outputId": "41b98d3b-6a7a-4349-e36b-abf427359d99"
      },
      "outputs": [
        {
          "output_type": "execute_result",
          "data": {
            "text/plain": [
              "['İ',\n",
              " 'y',\n",
              " 'u',\n",
              " 'u',\n",
              " 't',\n",
              " 't',\n",
              " 's',\n",
              " 's',\n",
              " 'r',\n",
              " 'r',\n",
              " 'n',\n",
              " 'n',\n",
              " 'n',\n",
              " 'm',\n",
              " 'l',\n",
              " 'l',\n",
              " 'i',\n",
              " 'h',\n",
              " 'b',\n",
              " 'a',\n",
              " 'a',\n",
              " 'a',\n",
              " 'a',\n",
              " 'a',\n",
              " 'E',\n",
              " 'Ankara',\n",
              " 'E',\n",
              " 'm',\n",
              " 'i',\n",
              " 'r',\n",
              " 'h',\n",
              " 'a',\n",
              " 'n',\n",
              " 'Emirhan',\n",
              " 'Bursa']"
            ]
          },
          "metadata": {},
          "execution_count": 88
        }
      ],
      "source": [
        "a+=[\"Emirhan\"]\n",
        "a"
      ]
    },
    {
      "cell_type": "code",
      "execution_count": null,
      "id": "ad8c2eab-c5c3-49df-bc46-3fe25578053c",
      "metadata": {
        "id": "ad8c2eab-c5c3-49df-bc46-3fe25578053c"
      },
      "outputs": [],
      "source": [
        "#Büyükten küçüğe doğru sıralar\n",
        "a.sort(reverse = True)"
      ]
    },
    {
      "cell_type": "code",
      "execution_count": null,
      "id": "0d0e3fe8-d3e6-4209-b662-31b4840b317e",
      "metadata": {
        "id": "0d0e3fe8-d3e6-4209-b662-31b4840b317e",
        "colab": {
          "base_uri": "https://localhost:8080/"
        },
        "outputId": "d3e62b6d-65b2-48d7-9ca5-fc23a1c3cc75"
      },
      "outputs": [
        {
          "output_type": "execute_result",
          "data": {
            "text/plain": [
              "['İ',\n",
              " 'y',\n",
              " 'u',\n",
              " 'u',\n",
              " 't',\n",
              " 't',\n",
              " 's',\n",
              " 's',\n",
              " 'r',\n",
              " 'n',\n",
              " 'n',\n",
              " 'l',\n",
              " 'l',\n",
              " 'b',\n",
              " 'a',\n",
              " 'a',\n",
              " 'a',\n",
              " 'a',\n",
              " 'Ankara']"
            ]
          },
          "metadata": {},
          "execution_count": 77
        }
      ],
      "source": [
        "a"
      ]
    },
    {
      "cell_type": "code",
      "execution_count": null,
      "id": "da8112e6-08e5-4f4f-826f-c9c4770b987b",
      "metadata": {
        "id": "da8112e6-08e5-4f4f-826f-c9c4770b987b",
        "colab": {
          "base_uri": "https://localhost:8080/"
        },
        "outputId": "202e8beb-ce16-4bef-d607-342183e8b7d5"
      },
      "outputs": [
        {
          "output_type": "execute_result",
          "data": {
            "text/plain": [
              "4"
            ]
          },
          "metadata": {},
          "execution_count": 78
        }
      ],
      "source": [
        "#count yazmış olduğumuz değerin liste içerisinde kaç defa tekrarladığını görmemizi sağlar\n",
        "a.count(\"a\")"
      ]
    },
    {
      "cell_type": "code",
      "execution_count": 178,
      "id": "e279cf3a-693e-410c-936c-52fc0cf481fd",
      "metadata": {
        "id": "e279cf3a-693e-410c-936c-52fc0cf481fd"
      },
      "outputs": [],
      "source": [
        "x = [0,1,2,3]\n",
        "y = [4,5,6,7]\n",
        "z = [8,9,10,11]"
      ]
    },
    {
      "cell_type": "code",
      "execution_count": null,
      "id": "c5eb28f6-b919-47fe-ab72-bf29aaa59024",
      "metadata": {
        "id": "c5eb28f6-b919-47fe-ab72-bf29aaa59024",
        "colab": {
          "base_uri": "https://localhost:8080/"
        },
        "outputId": "669fab8b-4e40-4ab3-9118-b93b72de5390"
      },
      "outputs": [
        {
          "output_type": "execute_result",
          "data": {
            "text/plain": [
              "([0, 1, 2, 3], [4, 5, 6, 7], [8, 9, 10, 11])"
            ]
          },
          "metadata": {},
          "execution_count": 80
        }
      ],
      "source": [
        "x,y,z "
      ]
    },
    {
      "cell_type": "code",
      "execution_count": 182,
      "id": "a525517c-947a-4c4d-8fa8-3a197cd227d3",
      "metadata": {
        "id": "a525517c-947a-4c4d-8fa8-3a197cd227d3"
      },
      "outputs": [],
      "source": [
        "liste = x,y,z #3 listeyi bir tuple oluşturup liste variable'ına atadık"
      ]
    },
    {
      "cell_type": "code",
      "execution_count": 181,
      "id": "4a082e9f-7ce4-4113-8640-3517bf3534ea",
      "metadata": {
        "id": "4a082e9f-7ce4-4113-8640-3517bf3534ea",
        "colab": {
          "base_uri": "https://localhost:8080/"
        },
        "outputId": "2c5683af-60a9-4720-976b-9c82a65dba47"
      },
      "outputs": [
        {
          "output_type": "execute_result",
          "data": {
            "text/plain": [
              "3"
            ]
          },
          "metadata": {},
          "execution_count": 181
        }
      ],
      "source": [
        "  len(liste)"
      ]
    },
    {
      "cell_type": "markdown",
      "id": "d7196201-0fad-44b8-8db3-a008344d1594",
      "metadata": {
        "id": "d7196201-0fad-44b8-8db3-a008344d1594"
      },
      "source": [
        "## **Tuple**"
      ]
    },
    {
      "cell_type": "code",
      "execution_count": null,
      "id": "394c31be-113c-4f46-8d53-c4a17cd75cbb",
      "metadata": {
        "id": "394c31be-113c-4f46-8d53-c4a17cd75cbb"
      },
      "outputs": [],
      "source": [
        "x = (1,2,3)"
      ]
    },
    {
      "cell_type": "code",
      "execution_count": null,
      "id": "6c5a338b-4daf-44e3-a519-d9ec6c2a2a68",
      "metadata": {
        "id": "6c5a338b-4daf-44e3-a519-d9ec6c2a2a68",
        "colab": {
          "base_uri": "https://localhost:8080/"
        },
        "outputId": "0fca9999-41dc-4ad9-f956-b1db52966042"
      },
      "outputs": [
        {
          "output_type": "execute_result",
          "data": {
            "text/plain": [
              "tuple"
            ]
          },
          "metadata": {},
          "execution_count": 90
        }
      ],
      "source": [
        "type(x)"
      ]
    },
    {
      "cell_type": "code",
      "execution_count": 184,
      "id": "2937c9c7-9173-4e94-82e1-ad2ed3cf8ae4",
      "metadata": {
        "id": "2937c9c7-9173-4e94-82e1-ad2ed3cf8ae4"
      },
      "outputs": [],
      "source": [
        "y = (1,2,3,\"Antalya\",\"Bursa\", \"İstanbul\")"
      ]
    },
    {
      "cell_type": "code",
      "execution_count": null,
      "id": "aa592769-3127-4f41-86a9-aa65e723c412",
      "metadata": {
        "id": "aa592769-3127-4f41-86a9-aa65e723c412",
        "colab": {
          "base_uri": "https://localhost:8080/"
        },
        "outputId": "b5b6d7be-5952-43b6-97c0-49764d819c8d"
      },
      "outputs": [
        {
          "output_type": "execute_result",
          "data": {
            "text/plain": [
              "(1, 2, 3, 'Antalya', 'Bursa', 'İstanbul')"
            ]
          },
          "metadata": {},
          "execution_count": 92
        }
      ],
      "source": [
        "y"
      ]
    },
    {
      "cell_type": "code",
      "execution_count": null,
      "id": "1588fd25-2f9b-4d85-9c9a-53181e8d8ddd",
      "metadata": {
        "id": "1588fd25-2f9b-4d85-9c9a-53181e8d8ddd",
        "colab": {
          "base_uri": "https://localhost:8080/",
          "height": 37
        },
        "outputId": "14eb38f5-5c8e-4893-f1d3-537865a404bd"
      },
      "outputs": [
        {
          "output_type": "execute_result",
          "data": {
            "text/plain": [
              "'Antalya'"
            ],
            "application/vnd.google.colaboratory.intrinsic+json": {
              "type": "string"
            }
          },
          "metadata": {},
          "execution_count": 93
        }
      ],
      "source": [
        "y[3]"
      ]
    },
    {
      "cell_type": "code",
      "execution_count": null,
      "id": "816bcb11-f41a-4685-bfb4-65cb15b9f3f0",
      "metadata": {
        "id": "816bcb11-f41a-4685-bfb4-65cb15b9f3f0",
        "colab": {
          "base_uri": "https://localhost:8080/"
        },
        "outputId": "dee6c8d6-6b81-44cd-a2b2-bafb6741fb42"
      },
      "outputs": [
        {
          "output_type": "execute_result",
          "data": {
            "text/plain": [
              "2"
            ]
          },
          "metadata": {},
          "execution_count": 94
        }
      ],
      "source": [
        "y.index(3) #integer 3 'ün tuple içerisindeki konumunu(indexini) bulmak için kullanıyoruz"
      ]
    },
    {
      "cell_type": "code",
      "execution_count": null,
      "id": "809dffe5-4767-4f9a-a7f4-78b48c8c4cb7",
      "metadata": {
        "id": "809dffe5-4767-4f9a-a7f4-78b48c8c4cb7",
        "colab": {
          "base_uri": "https://localhost:8080/"
        },
        "outputId": "e1448734-b819-4991-e69f-76156de6353d"
      },
      "outputs": [
        {
          "output_type": "execute_result",
          "data": {
            "text/plain": [
              "3"
            ]
          },
          "metadata": {},
          "execution_count": 95
        }
      ],
      "source": [
        "y.index(\"Antalya\") #String Antalya kelimesinin tuple içerisindeki konumunu(indexini) bulmak için kullanıyoruz"
      ]
    },
    {
      "cell_type": "code",
      "execution_count": null,
      "id": "956149be-7099-488c-a5c4-48ab69fe0afb",
      "metadata": {
        "id": "956149be-7099-488c-a5c4-48ab69fe0afb",
        "colab": {
          "base_uri": "https://localhost:8080/",
          "height": 164
        },
        "outputId": "b5c451d7-a66d-42b4-8362-30bdccf8a3e3"
      },
      "outputs": [
        {
          "output_type": "error",
          "ename": "ValueError",
          "evalue": "ignored",
          "traceback": [
            "\u001b[0;31m---------------------------------------------------------------------------\u001b[0m",
            "\u001b[0;31mValueError\u001b[0m                                Traceback (most recent call last)",
            "\u001b[0;32m<ipython-input-96-c8a6e893dc90>\u001b[0m in \u001b[0;36m<module>\u001b[0;34m()\u001b[0m\n\u001b[0;32m----> 1\u001b[0;31m \u001b[0my\u001b[0m\u001b[0;34m.\u001b[0m\u001b[0mindex\u001b[0m\u001b[0;34m(\u001b[0m\u001b[0;34m\"İzmir\"\u001b[0m\u001b[0;34m)\u001b[0m\u001b[0;34m\u001b[0m\u001b[0;34m\u001b[0m\u001b[0m\n\u001b[0m",
            "\u001b[0;31mValueError\u001b[0m: tuple.index(x): x not in tuple"
          ]
        }
      ],
      "source": [
        "y.index(\"İzmir\") #İzmir stringi tuple'ımızın içerisinde olmadığı için hata verecektir"
      ]
    },
    {
      "cell_type": "code",
      "execution_count": null,
      "id": "18a03022-1b3b-459b-acbc-f367541d91de",
      "metadata": {
        "id": "18a03022-1b3b-459b-acbc-f367541d91de",
        "colab": {
          "base_uri": "https://localhost:8080/",
          "height": 164
        },
        "outputId": "ef058f2b-bfbc-4cf8-f27c-d4840ed8ed82"
      },
      "outputs": [
        {
          "output_type": "error",
          "ename": "AttributeError",
          "evalue": "ignored",
          "traceback": [
            "\u001b[0;31m---------------------------------------------------------------------------\u001b[0m",
            "\u001b[0;31mAttributeError\u001b[0m                            Traceback (most recent call last)",
            "\u001b[0;32m<ipython-input-97-f29b138929b6>\u001b[0m in \u001b[0;36m<module>\u001b[0;34m()\u001b[0m\n\u001b[0;32m----> 1\u001b[0;31m \u001b[0my\u001b[0m\u001b[0;34m.\u001b[0m\u001b[0mremove\u001b[0m\u001b[0;34m(\u001b[0m\u001b[0;34m\"Antalya\"\u001b[0m\u001b[0;34m)\u001b[0m\u001b[0;34m\u001b[0m\u001b[0;34m\u001b[0m\u001b[0m\n\u001b[0m",
            "\u001b[0;31mAttributeError\u001b[0m: 'tuple' object has no attribute 'remove'"
          ]
        }
      ],
      "source": [
        "y.remove(\"Antalya\") #tuple'ın remove özelliği yoktur!!!"
      ]
    },
    {
      "cell_type": "code",
      "source": [
        "y.pop() #gördüğümüz gibi tupleların listelerden farkı, herhangi bir elemanı silemiyoruz"
      ],
      "metadata": {
        "colab": {
          "base_uri": "https://localhost:8080/",
          "height": 164
        },
        "id": "T-UAc32DOJ0X",
        "outputId": "50589387-c9f1-4de6-840e-5f03932953f5"
      },
      "id": "T-UAc32DOJ0X",
      "execution_count": 185,
      "outputs": [
        {
          "output_type": "error",
          "ename": "AttributeError",
          "evalue": "ignored",
          "traceback": [
            "\u001b[0;31m---------------------------------------------------------------------------\u001b[0m",
            "\u001b[0;31mAttributeError\u001b[0m                            Traceback (most recent call last)",
            "\u001b[0;32m<ipython-input-185-0dece3cea1d5>\u001b[0m in \u001b[0;36m<module>\u001b[0;34m()\u001b[0m\n\u001b[0;32m----> 1\u001b[0;31m \u001b[0my\u001b[0m\u001b[0;34m.\u001b[0m\u001b[0mpop\u001b[0m\u001b[0;34m(\u001b[0m\u001b[0;34m)\u001b[0m\u001b[0;34m\u001b[0m\u001b[0;34m\u001b[0m\u001b[0m\n\u001b[0m",
            "\u001b[0;31mAttributeError\u001b[0m: 'tuple' object has no attribute 'pop'"
          ]
        }
      ]
    },
    {
      "cell_type": "markdown",
      "id": "671b8367-3f38-485c-bd5f-24102544f615",
      "metadata": {
        "id": "671b8367-3f38-485c-bd5f-24102544f615"
      },
      "source": [
        "## **Dictionary**"
      ]
    },
    {
      "cell_type": "code",
      "execution_count": 186,
      "id": "d588b365-906d-4944-8919-7e7b216543f6",
      "metadata": {
        "id": "d588b365-906d-4944-8919-7e7b216543f6"
      },
      "outputs": [],
      "source": [
        "city = {\"Hilal\": \"Antalya\", \"Emirhan\": \"Bursa\", \"Gürkan\":\"İstanbul\"} #my_dict={key:value}"
      ]
    },
    {
      "cell_type": "code",
      "source": [
        "my_dict={1:\"python\",2:\"Java\",\"Hilal\":\"Antalya\"}"
      ],
      "metadata": {
        "id": "OULoQ6QIp4UF"
      },
      "id": "OULoQ6QIp4UF",
      "execution_count": 187,
      "outputs": []
    },
    {
      "cell_type": "code",
      "execution_count": 188,
      "id": "b582b9f0-0c43-43d1-9d2e-0e1127a4b0bb",
      "metadata": {
        "id": "b582b9f0-0c43-43d1-9d2e-0e1127a4b0bb",
        "colab": {
          "base_uri": "https://localhost:8080/"
        },
        "outputId": "39e1e5be-452f-4b37-8833-2a8d6d608c61"
      },
      "outputs": [
        {
          "output_type": "execute_result",
          "data": {
            "text/plain": [
              "{'Emirhan': 'Bursa', 'Gürkan': 'İstanbul', 'Hilal': 'Antalya'}"
            ]
          },
          "metadata": {},
          "execution_count": 188
        }
      ],
      "source": [
        "city"
      ]
    },
    {
      "cell_type": "code",
      "execution_count": 189,
      "id": "dd261ca0-3846-41ac-b15b-8cee372447b8",
      "metadata": {
        "id": "dd261ca0-3846-41ac-b15b-8cee372447b8"
      },
      "outputs": [],
      "source": [
        "city2 = {\n",
        "    \"Hilal\": \"Antalya\", \n",
        "    \"Emirhan\": \"Bursa\", \n",
        "    \"Gürkan\":\"İstanbul\"\n",
        "}"
      ]
    },
    {
      "cell_type": "code",
      "execution_count": 190,
      "id": "72203151-6fdb-4524-9e76-eaf2484cf891",
      "metadata": {
        "id": "72203151-6fdb-4524-9e76-eaf2484cf891",
        "colab": {
          "base_uri": "https://localhost:8080/"
        },
        "outputId": "712b44c2-7fc9-4bb1-c7c6-090e994733d9"
      },
      "outputs": [
        {
          "output_type": "execute_result",
          "data": {
            "text/plain": [
              "{'Emirhan': 'Bursa', 'Gürkan': 'İstanbul', 'Hilal': 'Antalya'}"
            ]
          },
          "metadata": {},
          "execution_count": 190
        }
      ],
      "source": [
        "city2"
      ]
    },
    {
      "cell_type": "code",
      "execution_count": 192,
      "id": "606e5902-3c88-4a8a-8c91-fea30c845a8f",
      "metadata": {
        "id": "606e5902-3c88-4a8a-8c91-fea30c845a8f",
        "colab": {
          "base_uri": "https://localhost:8080/"
        },
        "outputId": "894cff52-2743-4c38-cc40-5508bb398afe"
      },
      "outputs": [
        {
          "output_type": "stream",
          "name": "stdout",
          "text": [
            "Antalya\n"
          ]
        }
      ],
      "source": [
        "print(city[\"Hilal\"]) #dictionary içerisinde Hilal (key), aldığı değeri (value) döndürür"
      ]
    },
    {
      "cell_type": "code",
      "execution_count": 193,
      "id": "a9f3df81-b736-4dc2-bf4e-cf0fb63fb375",
      "metadata": {
        "id": "a9f3df81-b736-4dc2-bf4e-cf0fb63fb375",
        "colab": {
          "base_uri": "https://localhost:8080/"
        },
        "outputId": "be3d3f99-78d2-49be-ff86-0f49c2ca5367"
      },
      "outputs": [
        {
          "output_type": "stream",
          "name": "stdout",
          "text": [
            "Bursa\n"
          ]
        }
      ],
      "source": [
        "print(city[\"Emirhan\"]) #dictionary içerisinde Emirhan (key), aldığı değeri (value) döndürür"
      ]
    },
    {
      "cell_type": "code",
      "execution_count": 194,
      "id": "320732c1-55bf-4c37-b662-5ca5a6601a0c",
      "metadata": {
        "id": "320732c1-55bf-4c37-b662-5ca5a6601a0c"
      },
      "outputs": [],
      "source": [
        "city3 = {\"Hilal\": 7, \"Emirhan\":16, \"Gürkan\":34}"
      ]
    },
    {
      "cell_type": "code",
      "execution_count": 195,
      "id": "51e32397-b1d1-4a35-970d-c2c1df55f341",
      "metadata": {
        "id": "51e32397-b1d1-4a35-970d-c2c1df55f341",
        "colab": {
          "base_uri": "https://localhost:8080/"
        },
        "outputId": "e9cade64-d33e-4e6c-c0bd-f979aa11ca8c"
      },
      "outputs": [
        {
          "output_type": "execute_result",
          "data": {
            "text/plain": [
              "34"
            ]
          },
          "metadata": {},
          "execution_count": 195
        }
      ],
      "source": [
        "city3[\"Gürkan\"] #dictionary içerisinde Gürkan'ın (key), aldığı değeri (value) döndürür"
      ]
    },
    {
      "cell_type": "code",
      "execution_count": null,
      "id": "a8c1e984-c1f4-498c-a994-cd5a10111666",
      "metadata": {
        "id": "a8c1e984-c1f4-498c-a994-cd5a10111666",
        "colab": {
          "base_uri": "https://localhost:8080/"
        },
        "outputId": "9677437c-8d3d-46cc-c129-e3b8754c2572"
      },
      "outputs": [
        {
          "output_type": "execute_result",
          "data": {
            "text/plain": [
              "3"
            ]
          },
          "metadata": {},
          "execution_count": 108
        }
      ],
      "source": [
        "len(city3) #sözlüğün uzunluğunu döndürür"
      ]
    },
    {
      "cell_type": "code",
      "execution_count": 227,
      "id": "89512ed5-f7ee-4fe4-bb21-5fa19b712f29",
      "metadata": {
        "id": "89512ed5-f7ee-4fe4-bb21-5fa19b712f29"
      },
      "outputs": [],
      "source": [
        "fsc = {\n",
        "    \"Hilal\": \"Antalya\", \n",
        "    \"Emirhan\": \"Bursa\", \n",
        "    \"Gürkan\":[\"Effective\", \"Flutter\", \"Developer\"],\n",
        "    \"FSC\": True\n",
        "}"
      ]
    },
    {
      "cell_type": "code",
      "execution_count": 228,
      "id": "b54a9b81-5b94-4690-b8ce-d8fa36a45071",
      "metadata": {
        "id": "b54a9b81-5b94-4690-b8ce-d8fa36a45071",
        "colab": {
          "base_uri": "https://localhost:8080/"
        },
        "outputId": "dc2595cc-052f-4f5a-eae0-c350e28bfa22"
      },
      "outputs": [
        {
          "output_type": "execute_result",
          "data": {
            "text/plain": [
              "['Effective', 'Flutter', 'Developer']"
            ]
          },
          "metadata": {},
          "execution_count": 228
        }
      ],
      "source": [
        "fsc[\"Gürkan\"] #dictionary içerisinde Gürkan'ın (key), aldığı değeri (value) döndürür"
      ]
    },
    {
      "cell_type": "code",
      "execution_count": 229,
      "id": "3db3980a-a321-43e4-a301-a39d2c36183b",
      "metadata": {
        "id": "3db3980a-a321-43e4-a301-a39d2c36183b",
        "colab": {
          "base_uri": "https://localhost:8080/"
        },
        "outputId": "6c53137e-a644-4b2a-9c6c-9e895badbe21"
      },
      "outputs": [
        {
          "output_type": "execute_result",
          "data": {
            "text/plain": [
              "True"
            ]
          },
          "metadata": {},
          "execution_count": 229
        }
      ],
      "source": [
        "fsc[\"FSC\"]"
      ]
    },
    {
      "cell_type": "code",
      "execution_count": 230,
      "id": "35803f71-5110-43ef-be0f-ae51e595092b",
      "metadata": {
        "id": "35803f71-5110-43ef-be0f-ae51e595092b"
      },
      "outputs": [],
      "source": [
        "y = fsc[\"Hilal\"] #dictionary içerisinde Hilal'in (key), aldığı değeri (value) y değişkenine atadık"
      ]
    },
    {
      "cell_type": "code",
      "execution_count": 231,
      "id": "9a6e9f2e-0540-4229-8d26-f05fd5171130",
      "metadata": {
        "id": "9a6e9f2e-0540-4229-8d26-f05fd5171130",
        "colab": {
          "base_uri": "https://localhost:8080/",
          "height": 37
        },
        "outputId": "908584e8-a1f5-4767-89b2-9a3cbfcc93b4"
      },
      "outputs": [
        {
          "output_type": "execute_result",
          "data": {
            "text/plain": [
              "'Antalya'"
            ],
            "application/vnd.google.colaboratory.intrinsic+json": {
              "type": "string"
            }
          },
          "metadata": {},
          "execution_count": 231
        }
      ],
      "source": [
        "y"
      ]
    },
    {
      "cell_type": "code",
      "execution_count": 232,
      "id": "f69245ff-9ed4-4c84-b1d7-850b2520a292",
      "metadata": {
        "id": "f69245ff-9ed4-4c84-b1d7-850b2520a292",
        "colab": {
          "base_uri": "https://localhost:8080/"
        },
        "outputId": "899a5e40-3e9b-4743-ae85-4f7eb07f609b"
      },
      "outputs": [
        {
          "output_type": "execute_result",
          "data": {
            "text/plain": [
              "str"
            ]
          },
          "metadata": {},
          "execution_count": 232
        }
      ],
      "source": [
        "type(y)"
      ]
    },
    {
      "cell_type": "code",
      "execution_count": 233,
      "id": "b1e9ca53-4eba-4811-8bf7-df0aaa3fb978",
      "metadata": {
        "id": "b1e9ca53-4eba-4811-8bf7-df0aaa3fb978",
        "colab": {
          "base_uri": "https://localhost:8080/"
        },
        "outputId": "468858c7-2a66-4dde-a609-25d37ff1caf2"
      },
      "outputs": [
        {
          "output_type": "execute_result",
          "data": {
            "text/plain": [
              "{'Emirhan': 'Bursa',\n",
              " 'FSC': True,\n",
              " 'Gürkan': ['Effective', 'Flutter', 'Developer'],\n",
              " 'Hilal': 'Antalya'}"
            ]
          },
          "metadata": {},
          "execution_count": 233
        }
      ],
      "source": [
        "fsc"
      ]
    },
    {
      "cell_type": "code",
      "execution_count": 234,
      "id": "7cd220e8-24fb-4250-a4d3-1837a76fdb65",
      "metadata": {
        "id": "7cd220e8-24fb-4250-a4d3-1837a76fdb65"
      },
      "outputs": [],
      "source": [
        "z = fsc.get(\"Emirhan\")#dictionary içerisinde Emirhan'ın (key), aldığı değeri (value) z değişkenine atadık\n",
        "#z=y = fsc[\"Emirhan\"] ile aynı çıktıyı verir"
      ]
    },
    {
      "cell_type": "code",
      "execution_count": 235,
      "id": "4733bbc3-2f99-40e2-9a29-08d72dd2bccf",
      "metadata": {
        "id": "4733bbc3-2f99-40e2-9a29-08d72dd2bccf",
        "colab": {
          "base_uri": "https://localhost:8080/",
          "height": 37
        },
        "outputId": "b39e95ce-1aae-41ae-b176-cebdf3a71b18"
      },
      "outputs": [
        {
          "output_type": "execute_result",
          "data": {
            "text/plain": [
              "'Bursa'"
            ],
            "application/vnd.google.colaboratory.intrinsic+json": {
              "type": "string"
            }
          },
          "metadata": {},
          "execution_count": 235
        }
      ],
      "source": [
        "z"
      ]
    },
    {
      "cell_type": "code",
      "execution_count": 236,
      "id": "5a8f3a7a-3aef-491e-8f6c-3bbe84b630ec",
      "metadata": {
        "id": "5a8f3a7a-3aef-491e-8f6c-3bbe84b630ec",
        "colab": {
          "base_uri": "https://localhost:8080/"
        },
        "outputId": "c312f3e1-3637-4f7f-cef7-a3ab161a3014"
      },
      "outputs": [
        {
          "output_type": "execute_result",
          "data": {
            "text/plain": [
              "str"
            ]
          },
          "metadata": {},
          "execution_count": 236
        }
      ],
      "source": [
        "type(z)"
      ]
    },
    {
      "cell_type": "code",
      "execution_count": 237,
      "id": "7882b7d6-c5dc-4382-9550-889c2a53ab27",
      "metadata": {
        "id": "7882b7d6-c5dc-4382-9550-889c2a53ab27"
      },
      "outputs": [],
      "source": [
        "x = fsc.keys() #sözlük içerisndeki anahtarın (keys) hepsini liste olarak döndürür ve x değişkenine atar."
      ]
    },
    {
      "cell_type": "code",
      "execution_count": 238,
      "id": "4a7c477e-14a3-48c4-a0a1-778a8dfde590",
      "metadata": {
        "id": "4a7c477e-14a3-48c4-a0a1-778a8dfde590",
        "colab": {
          "base_uri": "https://localhost:8080/"
        },
        "outputId": "7f83a9ca-3e61-423b-9e5c-c1c19d020cb5"
      },
      "outputs": [
        {
          "output_type": "execute_result",
          "data": {
            "text/plain": [
              "dict_keys(['Hilal', 'Emirhan', 'Gürkan', 'FSC'])"
            ]
          },
          "metadata": {},
          "execution_count": 238
        }
      ],
      "source": [
        "x"
      ]
    },
    {
      "cell_type": "code",
      "execution_count": 239,
      "id": "857bc8d9-de9c-4487-ab74-05036e601bc0",
      "metadata": {
        "id": "857bc8d9-de9c-4487-ab74-05036e601bc0"
      },
      "outputs": [],
      "source": [
        "fsc[\"Flutter Students Club\"] = \"OSSDEA\" #dictionary'e yeni eleman eklemek için kullanılır, bu işlem sonucunda sözlüğümüze \n",
        "# \"Flutter Students Club\" : \"OSSDEA\" eklenmiş olacaktır. "
      ]
    },
    {
      "cell_type": "code",
      "execution_count": 240,
      "id": "dbe83334-9110-4f6c-95a0-666141d9e92a",
      "metadata": {
        "id": "dbe83334-9110-4f6c-95a0-666141d9e92a",
        "colab": {
          "base_uri": "https://localhost:8080/"
        },
        "outputId": "111e9fad-f73c-430a-8290-d158b90d1c9a"
      },
      "outputs": [
        {
          "output_type": "execute_result",
          "data": {
            "text/plain": [
              "{'Emirhan': 'Bursa',\n",
              " 'FSC': True,\n",
              " 'Flutter Students Club': 'OSSDEA',\n",
              " 'Gürkan': ['Effective', 'Flutter', 'Developer'],\n",
              " 'Hilal': 'Antalya'}"
            ]
          },
          "metadata": {},
          "execution_count": 240
        }
      ],
      "source": [
        "fsc"
      ]
    },
    {
      "cell_type": "code",
      "execution_count": 241,
      "id": "e1f61bf8-fbbe-49cf-b643-7607904376c3",
      "metadata": {
        "id": "e1f61bf8-fbbe-49cf-b643-7607904376c3"
      },
      "outputs": [],
      "source": [
        "a = fsc.values() #sözlük içerisndeki anahtarların değerlerinin (values) hepsini liste olarak döndürür ve a değişkenine atar"
      ]
    },
    {
      "cell_type": "code",
      "execution_count": 242,
      "id": "9c0c0310-235a-44c0-9980-ffe8f5cdb8ed",
      "metadata": {
        "id": "9c0c0310-235a-44c0-9980-ffe8f5cdb8ed",
        "colab": {
          "base_uri": "https://localhost:8080/"
        },
        "outputId": "2a55989e-3a1c-4cda-fc14-ec6b9e1a30ad"
      },
      "outputs": [
        {
          "output_type": "execute_result",
          "data": {
            "text/plain": [
              "dict_values(['Antalya', 'Bursa', ['Effective', 'Flutter', 'Developer'], True, 'OSSDEA'])"
            ]
          },
          "metadata": {},
          "execution_count": 242
        }
      ],
      "source": [
        "a"
      ]
    },
    {
      "cell_type": "code",
      "execution_count": 243,
      "id": "7960e322-74c1-4982-ba48-5396e1ab2d79",
      "metadata": {
        "id": "7960e322-74c1-4982-ba48-5396e1ab2d79"
      },
      "outputs": [],
      "source": [
        "fsc[\"FSC\"] = False #eğer anahtar sözlüğün içerisinde bulunuyorsa onu tekrar eklemez sadece aldığı değeri yenisiyle değiştirir\n",
        "#öncesinde True olan \"FSC\" anahtarımız bu satırı çalıştırdıktan sonra False olarak değişecektir"
      ]
    },
    {
      "cell_type": "code",
      "execution_count": 244,
      "id": "8bbca222-bc16-4c34-abe3-a01b4cbc4c8a",
      "metadata": {
        "id": "8bbca222-bc16-4c34-abe3-a01b4cbc4c8a",
        "colab": {
          "base_uri": "https://localhost:8080/"
        },
        "outputId": "42e8522a-2d27-445c-f772-a2204fe3b464"
      },
      "outputs": [
        {
          "output_type": "execute_result",
          "data": {
            "text/plain": [
              "{'Emirhan': 'Bursa',\n",
              " 'FSC': False,\n",
              " 'Flutter Students Club': 'OSSDEA',\n",
              " 'Gürkan': ['Effective', 'Flutter', 'Developer'],\n",
              " 'Hilal': 'Antalya'}"
            ]
          },
          "metadata": {},
          "execution_count": 244
        }
      ],
      "source": [
        "fsc"
      ]
    },
    {
      "cell_type": "code",
      "execution_count": 245,
      "id": "05cf7c9e-2d29-4907-befd-7e3935fd3c4c",
      "metadata": {
        "id": "05cf7c9e-2d29-4907-befd-7e3935fd3c4c"
      },
      "outputs": [],
      "source": [
        "b = fsc.items() #(key,value) ya da (anahtar, değeri) şeklinde oluşturduğu item tupleları bir liste içerisinde toplar"
      ]
    },
    {
      "cell_type": "code",
      "execution_count": 246,
      "id": "54ce8e49-d7c6-4793-8abf-7978914f4d8f",
      "metadata": {
        "id": "54ce8e49-d7c6-4793-8abf-7978914f4d8f",
        "colab": {
          "base_uri": "https://localhost:8080/"
        },
        "outputId": "4b7bcefb-6d89-4ef1-c76a-d18e7806a045"
      },
      "outputs": [
        {
          "output_type": "execute_result",
          "data": {
            "text/plain": [
              "dict_items([('Hilal', 'Antalya'), ('Emirhan', 'Bursa'), ('Gürkan', ['Effective', 'Flutter', 'Developer']), ('FSC', False), ('Flutter Students Club', 'OSSDEA')])"
            ]
          },
          "metadata": {},
          "execution_count": 246
        }
      ],
      "source": [
        "b"
      ]
    },
    {
      "cell_type": "code",
      "execution_count": 247,
      "id": "8123dced-9dd6-47c4-89eb-e3d9bf3524bf",
      "metadata": {
        "id": "8123dced-9dd6-47c4-89eb-e3d9bf3524bf",
        "colab": {
          "base_uri": "https://localhost:8080/"
        },
        "outputId": "a9688ab8-1c1b-4c06-be05-f0c042a4e60f"
      },
      "outputs": [
        {
          "output_type": "stream",
          "name": "stdout",
          "text": [
            "Hi\n"
          ]
        }
      ],
      "source": [
        "if \"Hilal\" in fsc:\n",
        "    print(\"Hi\") \n",
        "\n",
        "#eğer \"Hilal\" sözlüğün key'leri içerisindeyse ekrana Hi çıktısı verecektir"
      ]
    },
    {
      "cell_type": "code",
      "execution_count": 248,
      "id": "cbd2d2eb-d3b2-412d-bd7b-df4241ef21e3",
      "metadata": {
        "id": "cbd2d2eb-d3b2-412d-bd7b-df4241ef21e3"
      },
      "outputs": [],
      "source": [
        "fsc.update({\"Python for Everybody\": 2022}) #sözlüğe yeni bir eleman eklemenin alternatif yolu"
      ]
    },
    {
      "cell_type": "code",
      "execution_count": 249,
      "id": "81bd5699-2600-4995-af9d-4530315992a6",
      "metadata": {
        "id": "81bd5699-2600-4995-af9d-4530315992a6",
        "colab": {
          "base_uri": "https://localhost:8080/"
        },
        "outputId": "98177edc-4c55-4bbb-fc47-c671f01c3de2"
      },
      "outputs": [
        {
          "output_type": "execute_result",
          "data": {
            "text/plain": [
              "{'Emirhan': 'Bursa',\n",
              " 'FSC': False,\n",
              " 'Flutter Students Club': 'OSSDEA',\n",
              " 'Gürkan': ['Effective', 'Flutter', 'Developer'],\n",
              " 'Hilal': 'Antalya',\n",
              " 'Python for Everybody': 2022}"
            ]
          },
          "metadata": {},
          "execution_count": 249
        }
      ],
      "source": [
        "fsc"
      ]
    },
    {
      "cell_type": "code",
      "execution_count": 250,
      "id": "0f6f652b-3b1b-4997-994b-f5f37745f1fb",
      "metadata": {
        "id": "0f6f652b-3b1b-4997-994b-f5f37745f1fb",
        "colab": {
          "base_uri": "https://localhost:8080/",
          "height": 37
        },
        "outputId": "7086dd6b-45dc-4871-eeb1-ff0594175064"
      },
      "outputs": [
        {
          "output_type": "execute_result",
          "data": {
            "text/plain": [
              "'OSSDEA'"
            ],
            "application/vnd.google.colaboratory.intrinsic+json": {
              "type": "string"
            }
          },
          "metadata": {},
          "execution_count": 250
        }
      ],
      "source": [
        "fsc.pop(\"Flutter Students Club\") #\"Flutter Students Club\" anahtar kelimesini bulur ve değeri ile birlikte sözlükten çıkartır"
      ]
    },
    {
      "cell_type": "code",
      "execution_count": null,
      "id": "c1e83c5f-7ecb-4135-acf1-5a043bfe1ed4",
      "metadata": {
        "id": "c1e83c5f-7ecb-4135-acf1-5a043bfe1ed4",
        "colab": {
          "base_uri": "https://localhost:8080/"
        },
        "outputId": "ebeae056-05f4-4023-f661-b52fe8f7d2aa"
      },
      "outputs": [
        {
          "output_type": "execute_result",
          "data": {
            "text/plain": [
              "{'Emirhan': 'Antalya',\n",
              " 'FSC': False,\n",
              " 'Gürkan': ['Effective', 'Flutter', 'Developer'],\n",
              " 'Hilal': 'Antalya',\n",
              " 'Python for Everybody': 2022}"
            ]
          },
          "metadata": {},
          "execution_count": 135
        }
      ],
      "source": [
        "fsc"
      ]
    },
    {
      "cell_type": "code",
      "execution_count": 251,
      "id": "5ee10baf-d682-4663-ad63-d35abfebfdbb",
      "metadata": {
        "id": "5ee10baf-d682-4663-ad63-d35abfebfdbb",
        "colab": {
          "base_uri": "https://localhost:8080/"
        },
        "outputId": "ba6950c2-84f2-41e4-e9fd-792fbf76e678"
      },
      "outputs": [
        {
          "output_type": "execute_result",
          "data": {
            "text/plain": [
              "('Python for Everybody', 2022)"
            ]
          },
          "metadata": {},
          "execution_count": 251
        }
      ],
      "source": [
        "fsc.popitem() #sözlüğün son itemını sözlükten çıkartır"
      ]
    },
    {
      "cell_type": "code",
      "execution_count": 252,
      "id": "8ebe1562-0f84-4bc6-a6a6-cb23128fb5f7",
      "metadata": {
        "id": "8ebe1562-0f84-4bc6-a6a6-cb23128fb5f7",
        "colab": {
          "base_uri": "https://localhost:8080/"
        },
        "outputId": "819a2885-ef66-4ade-fe71-023d1e1adf39"
      },
      "outputs": [
        {
          "output_type": "execute_result",
          "data": {
            "text/plain": [
              "{'Emirhan': 'Bursa',\n",
              " 'FSC': False,\n",
              " 'Gürkan': ['Effective', 'Flutter', 'Developer'],\n",
              " 'Hilal': 'Antalya'}"
            ]
          },
          "metadata": {},
          "execution_count": 252
        }
      ],
      "source": [
        "fsc"
      ]
    },
    {
      "cell_type": "code",
      "execution_count": 253,
      "id": "571ce657-28f9-4006-84ff-4de7b13f7a03",
      "metadata": {
        "id": "571ce657-28f9-4006-84ff-4de7b13f7a03"
      },
      "outputs": [],
      "source": [
        "del fsc[\"FSC\"] #\"FSC\" keyini value'su ile birlikte sözlükten siler"
      ]
    },
    {
      "cell_type": "code",
      "execution_count": 255,
      "id": "355af8f4-29c1-4933-82c4-c52206964031",
      "metadata": {
        "id": "355af8f4-29c1-4933-82c4-c52206964031",
        "colab": {
          "base_uri": "https://localhost:8080/"
        },
        "outputId": "832a5e5a-043d-4ba8-f6a6-12286a3f2b99"
      },
      "outputs": [
        {
          "output_type": "execute_result",
          "data": {
            "text/plain": [
              "{'Emirhan': 'Bursa',\n",
              " 'Gürkan': ['Effective', 'Flutter', 'Developer'],\n",
              " 'Hilal': 'Antalya'}"
            ]
          },
          "metadata": {},
          "execution_count": 255
        }
      ],
      "source": [
        "fsc"
      ]
    },
    {
      "cell_type": "code",
      "execution_count": 256,
      "id": "04d19b86-37fb-4760-a4a9-a3496cdfb58c",
      "metadata": {
        "id": "04d19b86-37fb-4760-a4a9-a3496cdfb58c"
      },
      "outputs": [],
      "source": [
        "fsc.clear() #sözlüğün içerisindeki tüm itemlerı siler"
      ]
    },
    {
      "cell_type": "code",
      "execution_count": 257,
      "id": "c7480b7f-d579-4df2-b4b4-fde1b69f2f5e",
      "metadata": {
        "id": "c7480b7f-d579-4df2-b4b4-fde1b69f2f5e",
        "colab": {
          "base_uri": "https://localhost:8080/"
        },
        "outputId": "3625bdd3-0860-44b3-808b-2f2d60fd7afc"
      },
      "outputs": [
        {
          "output_type": "execute_result",
          "data": {
            "text/plain": [
              "{}"
            ]
          },
          "metadata": {},
          "execution_count": 257
        }
      ],
      "source": [
        "  fsc"
      ]
    },
    {
      "cell_type": "code",
      "execution_count": 258,
      "id": "535bcd21-d05b-4a11-b16e-6ad6485994bd",
      "metadata": {
        "id": "535bcd21-d05b-4a11-b16e-6ad6485994bd"
      },
      "outputs": [],
      "source": [
        "fsc = {\n",
        "    \"Hilal\": \"Antalya\", \n",
        "    \"Emirhan\": \"Bursa\", \n",
        "    \"Gürkan\":[\"Effective\", \"Flutter\", \"Developer\"],\n",
        "    \"FSC\": True\n",
        "}"
      ]
    },
    {
      "cell_type": "code",
      "execution_count": 259,
      "id": "b9cc0ec6-38e8-494d-9aa3-bc947b2e2383",
      "metadata": {
        "id": "b9cc0ec6-38e8-494d-9aa3-bc947b2e2383",
        "colab": {
          "base_uri": "https://localhost:8080/",
          "height": 37
        },
        "outputId": "dc4c3d16-22d8-4465-f312-5cf1f80d29a3"
      },
      "outputs": [
        {
          "output_type": "execute_result",
          "data": {
            "text/plain": [
              "'Effective'"
            ],
            "application/vnd.google.colaboratory.intrinsic+json": {
              "type": "string"
            }
          },
          "metadata": {},
          "execution_count": 259
        }
      ],
      "source": [
        "fsc.get(\"Gürkan\")[0] #Gürkan anahtarı değer olarak bir listeye sahip, bu kısmında biz de değerin 0.indexine yani valuenun 0.indexine ulaşıyoruz"
      ]
    },
    {
      "cell_type": "code",
      "execution_count": null,
      "id": "d44e7fd1-57e4-4e95-8099-7bf387af39f3",
      "metadata": {
        "id": "d44e7fd1-57e4-4e95-8099-7bf387af39f3",
        "colab": {
          "base_uri": "https://localhost:8080/"
        },
        "outputId": "df382d05-236b-40e2-8899-026a45d79c1b"
      },
      "outputs": [
        {
          "output_type": "stream",
          "name": "stdout",
          "text": [
            "Hilal\n",
            "Emirhan\n",
            "Gürkan\n",
            "FSC\n"
          ]
        }
      ],
      "source": [
        "for x in fsc:\n",
        "    print(x)"
      ]
    },
    {
      "cell_type": "code",
      "execution_count": null,
      "id": "af53c6d9-a338-43fe-9dd3-dc3985522459",
      "metadata": {
        "id": "af53c6d9-a338-43fe-9dd3-dc3985522459",
        "colab": {
          "base_uri": "https://localhost:8080/"
        },
        "outputId": "c964a3c7-7c14-4944-aa13-c13142849787"
      },
      "outputs": [
        {
          "output_type": "stream",
          "name": "stdout",
          "text": [
            "Antalya\n",
            "Bursa\n",
            "['Effective', 'Flutter', 'Developer']\n",
            "True\n"
          ]
        }
      ],
      "source": [
        "for x in fsc:\n",
        "  print(fsc[x]) #eğer x yani key sözlüğün içerisinde ise sırayla değerlerini ekrana yazdırıyoruz"
      ]
    },
    {
      "cell_type": "code",
      "execution_count": null,
      "id": "a12523cf-365e-48e6-9ace-235840731b66",
      "metadata": {
        "id": "a12523cf-365e-48e6-9ace-235840731b66",
        "colab": {
          "base_uri": "https://localhost:8080/"
        },
        "outputId": "36d1564a-c6a0-46df-86d5-ea0dc44ea93b"
      },
      "outputs": [
        {
          "output_type": "stream",
          "name": "stdout",
          "text": [
            "Antalya\n",
            "Bursa\n",
            "['Effective', 'Flutter', 'Developer']\n",
            "True\n"
          ]
        }
      ],
      "source": [
        "for x in fsc.values(): #eğer x yani keylerin değerleri sözlüğün içerisinde ise sırayla ekrana yazdırıyoruz\n",
        "  print(x)\n",
        "\n",
        "#bu kısımda fsc.values() ve fsc.keys() bize sırasıyla anahtarların ve değerlerinin bulunduğu listeler döndürürler \n",
        "#bizde for döngüsüyle bu listenin içerisindeki elamanları sırasıyla ekrana yazdırıyoruz"
      ]
    },
    {
      "cell_type": "code",
      "execution_count": null,
      "id": "6a4fc649-8481-42d8-b618-07daa3f37423",
      "metadata": {
        "id": "6a4fc649-8481-42d8-b618-07daa3f37423",
        "colab": {
          "base_uri": "https://localhost:8080/"
        },
        "outputId": "6c311dbd-7c7f-40c1-dc7f-d7663a35eb70"
      },
      "outputs": [
        {
          "output_type": "stream",
          "name": "stdout",
          "text": [
            "Hilal\n",
            "Emirhan\n",
            "Gürkan\n",
            "FSC\n"
          ]
        }
      ],
      "source": [
        "for x in fsc.keys():\n",
        "  print(x)"
      ]
    },
    {
      "cell_type": "code",
      "execution_count": null,
      "id": "11e54b0e-c420-4330-a8bf-4394ddfac8ab",
      "metadata": {
        "id": "11e54b0e-c420-4330-a8bf-4394ddfac8ab",
        "colab": {
          "base_uri": "https://localhost:8080/"
        },
        "outputId": "b88b7c08-763b-46a9-bc72-cab297020831"
      },
      "outputs": [
        {
          "output_type": "stream",
          "name": "stdout",
          "text": [
            "Hilal Antalya\n",
            "Emirhan Bursa\n",
            "Gürkan ['Effective', 'Flutter', 'Developer']\n",
            "FSC True\n"
          ]
        }
      ],
      "source": [
        "for key, value in fsc.items():\n",
        "  print(key, value) \n",
        "\n",
        "#daha önce de belirtildiği gibi fcs.items() da bize (key,value) tuplelarının bulunduğu bir liste döndürür\n",
        "#yine fordöngüsü ile bu tupleları sırasıyla ekrana yazdırıyoruz"
      ]
    },
    {
      "cell_type": "code",
      "execution_count": 261,
      "id": "be75c744-baaf-43e1-bd81-b3b6ed23d09d",
      "metadata": {
        "id": "be75c744-baaf-43e1-bd81-b3b6ed23d09d",
        "colab": {
          "base_uri": "https://localhost:8080/"
        },
        "outputId": "1408b1ea-759c-4a66-eb4a-96873fd68fd0"
      },
      "outputs": [
        {
          "output_type": "stream",
          "name": "stdout",
          "text": [
            "{'Hilal': 'Antalya', 'Emirhan': 'Bursa', 'Gürkan': ['Effective', 'Flutter', 'Developer']}\n",
            "{'Hilal': 'Antalya', 'Emirhan': 'Bursa', 'Gürkan': ['Effective', 'Flutter', 'Developer']}\n"
          ]
        }
      ],
      "source": [
        "fsc2 = fsc.copy() #fsc2=fsc  kullansaydık fsc de yaptığımız bir değişiklik diğerini etkileyecekti\n",
        "fsc3.popitem()\n",
        "print(fsc3)\n",
        "print(fsc)"
      ]
    },
    {
      "cell_type": "code",
      "source": [
        "type(fsc)"
      ],
      "metadata": {
        "colab": {
          "base_uri": "https://localhost:8080/"
        },
        "id": "2DQh7-OMwQrM",
        "outputId": "3069ff25-2e2d-489d-f0cf-a56b7615c615"
      },
      "id": "2DQh7-OMwQrM",
      "execution_count": 262,
      "outputs": [
        {
          "output_type": "execute_result",
          "data": {
            "text/plain": [
              "dict"
            ]
          },
          "metadata": {},
          "execution_count": 262
        }
      ]
    },
    {
      "cell_type": "code",
      "execution_count": 263,
      "id": "7b7b0858-48b8-4c2c-8fbf-4756182d5c6c",
      "metadata": {
        "id": "7b7b0858-48b8-4c2c-8fbf-4756182d5c6c",
        "colab": {
          "base_uri": "https://localhost:8080/"
        },
        "outputId": "d8351c46-5d4e-44ec-a158-60a00bc38319"
      },
      "outputs": [
        {
          "output_type": "stream",
          "name": "stdout",
          "text": [
            "{'Hilal': 'Antalya', 'Emirhan': 'Bursa', 'Gürkan': ['Effective', 'Flutter', 'Developer']}\n"
          ]
        }
      ],
      "source": [
        "fsc3 = dict(fsc)\n",
        "print(fsc3)"
      ]
    },
    {
      "cell_type": "code",
      "execution_count": 264,
      "id": "4d263522-ef27-440f-a1a1-88eab80c0643",
      "metadata": {
        "id": "4d263522-ef27-440f-a1a1-88eab80c0643"
      },
      "outputs": [],
      "source": [
        "fscfamily = { #dictionary içerisinde dictinary tanımlayabiliriz gördüğümüz gibi bir dict'in valueları farklı bir dict olabiliyor\n",
        "  \"Hilal\" : {\n",
        "    \"name\" : \"Hilal Ürün\",\n",
        "    \"city\" : \"Antalya\"\n",
        "  },\n",
        "  \"Emirhan\" : {\n",
        "    \"name\" : \"Emirhan Güleç\",\n",
        "    \"city\" : \"Antalya\"\n",
        "  },\n",
        "  \"Gürkan\" : {\n",
        "    \"name\" : \"Gürkan Fikret Günak\",\n",
        "    \"city\" : \"Antalya\"\n",
        "  }\n",
        "}"
      ]
    },
    {
      "cell_type": "code",
      "execution_count": 266,
      "id": "06664d9d-812b-4809-875d-b4a3cd3181d9",
      "metadata": {
        "id": "06664d9d-812b-4809-875d-b4a3cd3181d9",
        "colab": {
          "base_uri": "https://localhost:8080/"
        },
        "outputId": "d0ed3f2a-8d1d-44e0-f50e-e0d0ab63f171"
      },
      "outputs": [
        {
          "output_type": "execute_result",
          "data": {
            "text/plain": [
              "{'Emirhan': {'city': 'Antalya', 'name': 'Emirhan Güleç'},\n",
              " 'Gürkan': {'city': 'Antalya', 'name': 'Gürkan Fikret Günak'},\n",
              " 'Hilal': {'city': 'Antalya', 'name': 'Hilal Ürün'}}"
            ]
          },
          "metadata": {},
          "execution_count": 266
        }
      ],
      "source": [
        "fscfamily"
      ]
    },
    {
      "cell_type": "code",
      "execution_count": 267,
      "id": "d3d37cfb-d15a-4deb-b7cc-3d808828bfdf",
      "metadata": {
        "id": "d3d37cfb-d15a-4deb-b7cc-3d808828bfdf"
      },
      "outputs": [],
      "source": [
        "child1 = {\n",
        "  \"name\" : \"Hilal Ürün\",\n",
        "  \"city\" : \"Antalya\"\n",
        "}\n",
        "child2 = {\n",
        "  \"name\" : \"Emirhan Güleç\",\n",
        "  \"city\" : \"Antalya\"\n",
        "}\n",
        "child3 = {\n",
        "  \"name\" : \"Gürkan Fikret Günak\",\n",
        "  \"city\" : \"Antalya\"\n",
        "}\n",
        "\n",
        "fscfamily2 = {\n",
        "  \"Hilal\" : child1,\n",
        "  \"Emirhan\" : child2,\n",
        "  \"Gürkan\" : child3\n",
        "}"
      ]
    },
    {
      "cell_type": "code",
      "execution_count": null,
      "id": "47a70007-5821-41fe-9c72-183a7186fefe",
      "metadata": {
        "id": "47a70007-5821-41fe-9c72-183a7186fefe"
      },
      "outputs": [],
      "source": [
        "fscfamily2"
      ]
    },
    {
      "cell_type": "markdown",
      "id": "773db8cb-636f-4f83-bef0-a47f21d7a887",
      "metadata": {
        "id": "773db8cb-636f-4f83-bef0-a47f21d7a887"
      },
      "source": [
        "## **Input**"
      ]
    },
    {
      "cell_type": "code",
      "execution_count": 268,
      "id": "6062d447-838f-49ee-a5e8-27831386f03e",
      "metadata": {
        "id": "6062d447-838f-49ee-a5e8-27831386f03e",
        "colab": {
          "base_uri": "https://localhost:8080/"
        },
        "outputId": "4b432a39-9171-438c-ee96-560376d72510"
      },
      "outputs": [
        {
          "name": "stdout",
          "output_type": "stream",
          "text": [
            "İsminizi Giriniz: Hilal\n"
          ]
        }
      ],
      "source": [
        "name = input(\"İsminizi Giriniz: \") #kullanıcıdan girdi almak için input() fonksiyonunu kullanıyoruz ve bunu tutmak için \n",
        "#bir değişkene atıyoruz."
      ]
    },
    {
      "cell_type": "code",
      "source": [
        "name"
      ],
      "metadata": {
        "colab": {
          "base_uri": "https://localhost:8080/",
          "height": 37
        },
        "id": "VkNVdM3CU6uv",
        "outputId": "9004b71a-a397-4bcb-cbc7-e3134ece5069"
      },
      "id": "VkNVdM3CU6uv",
      "execution_count": 269,
      "outputs": [
        {
          "output_type": "execute_result",
          "data": {
            "text/plain": [
              "'Hilal'"
            ],
            "application/vnd.google.colaboratory.intrinsic+json": {
              "type": "string"
            }
          },
          "metadata": {},
          "execution_count": 269
        }
      ]
    },
    {
      "cell_type": "code",
      "execution_count": 270,
      "id": "5363237b-bd46-4da2-8488-2d4976770bcf",
      "metadata": {
        "id": "5363237b-bd46-4da2-8488-2d4976770bcf",
        "colab": {
          "base_uri": "https://localhost:8080/"
        },
        "outputId": "4eb8b5f8-109a-4c7a-8771-8bb76cc49217"
      },
      "outputs": [
        {
          "name": "stdout",
          "output_type": "stream",
          "text": [
            "Doğum Yılınızı Giriniz: 1997\n"
          ]
        }
      ],
      "source": [
        "year = int(input(\"Doğum Yılınızı Giriniz: \"))"
      ]
    },
    {
      "cell_type": "code",
      "source": [
        "year"
      ],
      "metadata": {
        "colab": {
          "base_uri": "https://localhost:8080/"
        },
        "id": "0g9CXSyDU-lh",
        "outputId": "ba9eb43b-ce87-4603-f7b6-29076be552c0"
      },
      "id": "0g9CXSyDU-lh",
      "execution_count": 271,
      "outputs": [
        {
          "output_type": "execute_result",
          "data": {
            "text/plain": [
              "1997"
            ]
          },
          "metadata": {},
          "execution_count": 271
        }
      ]
    },
    {
      "cell_type": "code",
      "execution_count": 272,
      "id": "1917f0df-8cea-4c23-92af-2d7026f80c35",
      "metadata": {
        "id": "1917f0df-8cea-4c23-92af-2d7026f80c35",
        "colab": {
          "base_uri": "https://localhost:8080/"
        },
        "outputId": "40fb59f3-50d5-48b3-8f0e-edecd973689f"
      },
      "outputs": [
        {
          "name": "stdout",
          "output_type": "stream",
          "text": [
            "Float bir değer giriniz: 3\n"
          ]
        }
      ],
      "source": [
        "floatDeger = float(input(\"Float bir değer giriniz: \")) #alınan girdinin değişken türünü float olarak değiştiriyoruz"
      ]
    },
    {
      "cell_type": "code",
      "source": [
        "floatDeger"
      ],
      "metadata": {
        "colab": {
          "base_uri": "https://localhost:8080/"
        },
        "id": "UoMTNfTwVCfh",
        "outputId": "8a684052-2d7f-420a-ee18-a7aac7187d44"
      },
      "id": "UoMTNfTwVCfh",
      "execution_count": 273,
      "outputs": [
        {
          "output_type": "execute_result",
          "data": {
            "text/plain": [
              "3.0"
            ]
          },
          "metadata": {},
          "execution_count": 273
        }
      ]
    },
    {
      "cell_type": "code",
      "execution_count": 274,
      "id": "8ffc873c-26be-46af-b2d2-8e19c515ccdb",
      "metadata": {
        "id": "8ffc873c-26be-46af-b2d2-8e19c515ccdb",
        "colab": {
          "base_uri": "https://localhost:8080/"
        },
        "outputId": "c3586375-4f83-4c6e-ae7a-4f1f9afe969e"
      },
      "outputs": [
        {
          "output_type": "execute_result",
          "data": {
            "text/plain": [
              "float"
            ]
          },
          "metadata": {},
          "execution_count": 274
        }
      ],
      "source": [
        "type(floatDeger)"
      ]
    }
  ],
  "metadata": {
    "kernelspec": {
      "display_name": "Python 3 (ipykernel)",
      "language": "python",
      "name": "python3"
    },
    "language_info": {
      "codemirror_mode": {
        "name": "ipython",
        "version": 3
      },
      "file_extension": ".py",
      "mimetype": "text/x-python",
      "name": "python",
      "nbconvert_exporter": "python",
      "pygments_lexer": "ipython3",
      "version": "3.10.0"
    },
    "colab": {
      "name": "Day1.ipynb",
      "provenance": [],
      "collapsed_sections": [
        "773db8cb-636f-4f83-bef0-a47f21d7a887"
      ],
      "include_colab_link": true
    }
  },
  "nbformat": 4,
  "nbformat_minor": 5
}