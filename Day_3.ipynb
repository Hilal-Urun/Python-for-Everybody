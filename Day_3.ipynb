{
  "cells": [
    {
      "cell_type": "markdown",
      "id": "b2fa8177-0835-49dc-ae9d-0e7d35dc447f",
      "metadata": {
        "id": "b2fa8177-0835-49dc-ae9d-0e7d35dc447f"
      },
      "source": [
        "## **Math**\n",
        "\n",
        "math modülü matematiksel fonksiyonlara erişmemizi sağlar."
      ]
    },
    {
      "cell_type": "code",
      "execution_count": 1,
      "id": "6453495d-9ee4-4c6d-8a0a-d8fbc4d6a1a7",
      "metadata": {
        "tags": [],
        "id": "6453495d-9ee4-4c6d-8a0a-d8fbc4d6a1a7",
        "colab": {
          "base_uri": "https://localhost:8080/"
        },
        "outputId": "6771ff1a-e328-466e-ed2b-93cb2da72e02"
      },
      "outputs": [
        {
          "output_type": "stream",
          "name": "stdout",
          "text": [
            "5\n",
            "25\n"
          ]
        }
      ],
      "source": [
        "#min() en küçük değeri döndürür.\n",
        "#max() en büyük değeri döndürür.\n",
        "x = min(5, 10, 25)\n",
        "y = max(5, 10, 25)\n",
        "\n",
        "print(x)\n",
        "print(y)"
      ]
    },
    {
      "cell_type": "code",
      "execution_count": 2,
      "id": "1744b27a-4f01-4029-93ee-c0f208fc43cf",
      "metadata": {
        "tags": [],
        "id": "1744b27a-4f01-4029-93ee-c0f208fc43cf",
        "colab": {
          "base_uri": "https://localhost:8080/"
        },
        "outputId": "549583bf-6313-4cab-9225-0f1efd675cf0"
      },
      "outputs": [
        {
          "output_type": "stream",
          "name": "stdout",
          "text": [
            "7.25\n"
          ]
        }
      ],
      "source": [
        "#abs() mutlak değeri döndürür\n",
        "x = abs(-7.25)\n",
        "\n",
        "print(x)"
      ]
    },
    {
      "cell_type": "code",
      "execution_count": 3,
      "id": "b2a556e8-84d3-43f2-91e1-759103a498a6",
      "metadata": {
        "tags": [],
        "id": "b2a556e8-84d3-43f2-91e1-759103a498a6",
        "colab": {
          "base_uri": "https://localhost:8080/"
        },
        "outputId": "17eb7877-209c-4c4d-f11b-296a7fec61ee"
      },
      "outputs": [
        {
          "output_type": "stream",
          "name": "stdout",
          "text": [
            "64\n"
          ]
        }
      ],
      "source": [
        "#pow() x üzeri y işlemini gerçekleştirir. x**y ile aynı sonucu döndürür.\n",
        "x = pow(4, 3)\n",
        "\n",
        "print(x)"
      ]
    },
    {
      "cell_type": "code",
      "execution_count": 5,
      "id": "fa224577-0828-4ad4-bf13-6f17938b26f8",
      "metadata": {
        "tags": [],
        "id": "fa224577-0828-4ad4-bf13-6f17938b26f8"
      },
      "outputs": [],
      "source": [
        "import math"
      ]
    },
    {
      "cell_type": "code",
      "source": [
        "x = math.pow(4, 3)"
      ],
      "metadata": {
        "id": "x-RUZl_YoeIH"
      },
      "id": "x-RUZl_YoeIH",
      "execution_count": 6,
      "outputs": []
    },
    {
      "cell_type": "code",
      "source": [
        "x"
      ],
      "metadata": {
        "colab": {
          "base_uri": "https://localhost:8080/"
        },
        "id": "JdluVO7kQTC6",
        "outputId": "b5f0ccc7-b12a-411e-8c3c-f31123b25921"
      },
      "id": "JdluVO7kQTC6",
      "execution_count": 7,
      "outputs": [
        {
          "output_type": "execute_result",
          "data": {
            "text/plain": [
              "64.0"
            ]
          },
          "metadata": {},
          "execution_count": 7
        }
      ]
    },
    {
      "cell_type": "code",
      "execution_count": null,
      "id": "97098611-08cd-425a-997d-5918a35dc98c",
      "metadata": {
        "tags": [],
        "id": "97098611-08cd-425a-997d-5918a35dc98c"
      },
      "outputs": [],
      "source": [
        "#Math kütüphanesinde sqrt() karekök bulmamıza yardımcı olur\n",
        "x = math.sqrt(64)\n",
        "print(x)"
      ]
    },
    {
      "cell_type": "code",
      "execution_count": null,
      "id": "890efd8c-d1a4-4320-af7c-a214de994ece",
      "metadata": {
        "tags": [],
        "id": "890efd8c-d1a4-4320-af7c-a214de994ece"
      },
      "outputs": [],
      "source": [
        "#ceil() yukarı yuvarlama işlemi gerçekleştirir\n",
        "#floor()\n",
        "x = math.ceil(1.4)\n",
        "y = math.floor(1.4)\n",
        "\n",
        "print(x) # returns 2\n",
        "print(y) # returns 1"
      ]
    },
    {
      "cell_type": "code",
      "execution_count": null,
      "id": "83273a6b-083f-4b54-8c3d-ef4e73cc3dbe",
      "metadata": {
        "tags": [],
        "id": "83273a6b-083f-4b54-8c3d-ef4e73cc3dbe"
      },
      "outputs": [],
      "source": [
        "#pi() ppi sayısını döndürür\n",
        "x = math.pi\n",
        "\n",
        "print(x)"
      ]
    },
    {
      "cell_type": "code",
      "execution_count": null,
      "id": "2559d37c-8618-4aa3-a83d-63f4260a0d9f",
      "metadata": {
        "tags": [],
        "id": "2559d37c-8618-4aa3-a83d-63f4260a0d9f"
      },
      "outputs": [],
      "source": [
        "#cos() yazmış olduğumuz sayının\n",
        "x = math.cos(45)\n",
        "\n",
        "print(x)"
      ]
    },
    {
      "cell_type": "markdown",
      "id": "30e04a12-84b8-48d8-97ff-d92114c95ad6",
      "metadata": {
        "id": "30e04a12-84b8-48d8-97ff-d92114c95ad6"
      },
      "source": [
        "## **Random**"
      ]
    },
    {
      "cell_type": "code",
      "execution_count": 8,
      "id": "0a137a79-5d01-4631-9db2-ab28c4d868fa",
      "metadata": {
        "tags": [],
        "id": "0a137a79-5d01-4631-9db2-ab28c4d868fa"
      },
      "outputs": [],
      "source": [
        "import random"
      ]
    },
    {
      "cell_type": "code",
      "execution_count": null,
      "id": "d560161f-de2f-4ff4-bb16-559d46cc3bf6",
      "metadata": {
        "tags": [],
        "id": "d560161f-de2f-4ff4-bb16-559d46cc3bf6"
      },
      "outputs": [],
      "source": [
        "#random() bize 0 ve 1 arasında rastgele float bir değer döndürür\n",
        "random.random()"
      ]
    },
    {
      "cell_type": "code",
      "execution_count": null,
      "id": "280f60c4-548f-4bf1-ad7d-fbb0a436cbe7",
      "metadata": {
        "tags": [],
        "id": "280f60c4-548f-4bf1-ad7d-fbb0a436cbe7"
      },
      "outputs": [],
      "source": [
        "for i in range(10):\n",
        "    print(random.random())"
      ]
    },
    {
      "cell_type": "code",
      "execution_count": null,
      "id": "aa43e30b-736b-4ce4-97e4-a6838c0e0e44",
      "metadata": {
        "tags": [],
        "id": "aa43e30b-736b-4ce4-97e4-a6838c0e0e44"
      },
      "outputs": [],
      "source": [
        "#uniform(x,y) bize x ve y arasında rastgele bir float değer döndürür.\n",
        "random.uniform(1, 10)"
      ]
    },
    {
      "cell_type": "code",
      "execution_count": null,
      "id": "e7504103-3363-4752-9ee0-711350aae4fc",
      "metadata": {
        "tags": [],
        "id": "e7504103-3363-4752-9ee0-711350aae4fc"
      },
      "outputs": [],
      "source": [
        "for i in range(10):\n",
        "    print(random.uniform(1, 10))"
      ]
    },
    {
      "cell_type": "code",
      "execution_count": null,
      "id": "149081b4-cf54-4833-9984-3c2fb319f9c1",
      "metadata": {
        "tags": [],
        "id": "149081b4-cf54-4833-9984-3c2fb319f9c1"
      },
      "outputs": [],
      "source": [
        "#random.randint() bize x ve y arasında bir integer değer döndürür.\n",
        "random.randint(1, 10)"
      ]
    },
    {
      "cell_type": "code",
      "execution_count": null,
      "id": "be9b4f58-c88d-481e-8d9d-c6d389fb936f",
      "metadata": {
        "tags": [],
        "id": "be9b4f58-c88d-481e-8d9d-c6d389fb936f"
      },
      "outputs": [],
      "source": [
        "#random.randrange() bize x ve y arasında bir integer değer döndürür.\n",
        "#randint'ten farklı olarak range fonksiyonu gibi çalışır. İçinde bir değer veya üç değer barındırabiliriz.\n",
        "random.randrange(1, 10)"
      ]
    },
    {
      "cell_type": "code",
      "execution_count": null,
      "id": "7969a31a-104b-4f07-9d51-78ca2a3e6c19",
      "metadata": {
        "tags": [],
        "id": "7969a31a-104b-4f07-9d51-78ca2a3e6c19"
      },
      "outputs": [],
      "source": [
        "import random\n",
        "random.randint(10)"
      ]
    },
    {
      "cell_type": "code",
      "execution_count": null,
      "id": "8f0d1819-cb1d-41c4-93ec-dbe91650a80b",
      "metadata": {
        "tags": [],
        "id": "8f0d1819-cb1d-41c4-93ec-dbe91650a80b"
      },
      "outputs": [],
      "source": [
        "random.randrange(10)"
      ]
    },
    {
      "cell_type": "code",
      "execution_count": null,
      "id": "a5aa5006-a5f4-42ec-975b-ac970e33ca14",
      "metadata": {
        "tags": [],
        "id": "a5aa5006-a5f4-42ec-975b-ac970e33ca14"
      },
      "outputs": [],
      "source": [
        "#1'den başlayarak 10'a kadar 2şer 2şer gezinerek [1,3,5,7,9] sayılarından birini döndürür.\n",
        "random.randrange(1, 10, 2)"
      ]
    },
    {
      "cell_type": "code",
      "source": [
        "random.randrange(1, 15, 2)"
      ],
      "metadata": {
        "id": "wmNrn4YnjBL9"
      },
      "id": "wmNrn4YnjBL9",
      "execution_count": null,
      "outputs": []
    },
    {
      "cell_type": "code",
      "execution_count": null,
      "id": "c36e0101-79f9-4506-aab8-e6c4d2ea881c",
      "metadata": {
        "tags": [],
        "id": "c36e0101-79f9-4506-aab8-e6c4d2ea881c"
      },
      "outputs": [],
      "source": [
        "for i in range(10):\n",
        "    print(random.randrange(0, 100, 5))"
      ]
    },
    {
      "cell_type": "code",
      "execution_count": null,
      "id": "4d98a740-227c-4788-a3be-839d14f6ab20",
      "metadata": {
        "tags": [],
        "id": "4d98a740-227c-4788-a3be-839d14f6ab20"
      },
      "outputs": [],
      "source": [
        "#random.choice() rastgele bir eleman seçmemizi sağlar\n",
        "psc = ['Hilal', 'Emirhan', 'Gürkan']\n",
        "random.choice(psc)"
      ]
    },
    {
      "cell_type": "code",
      "execution_count": null,
      "id": "6645c73e-9a62-40b1-a00c-dd5f23b7e02b",
      "metadata": {
        "tags": [],
        "id": "6645c73e-9a62-40b1-a00c-dd5f23b7e02b"
      },
      "outputs": [],
      "source": [
        "random.choice(range(10)) #random.randrange(10)"
      ]
    },
    {
      "cell_type": "code",
      "source": [
        ""
      ],
      "metadata": {
        "id": "2HO-jyOsS379"
      },
      "id": "2HO-jyOsS379",
      "execution_count": null,
      "outputs": []
    },
    {
      "cell_type": "code",
      "execution_count": null,
      "id": "e77271a5-cd34-4aa8-bd16-ad3293278765",
      "metadata": {
        "tags": [],
        "id": "e77271a5-cd34-4aa8-bd16-ad3293278765"
      },
      "outputs": [],
      "source": [
        "psc2 = \"Python Students Club\"\n",
        "random.choice(psc2)"
      ]
    },
    {
      "cell_type": "code",
      "execution_count": 27,
      "id": "ce22e8c3-0d78-4e8c-b542-52a163a13037",
      "metadata": {
        "tags": [],
        "id": "ce22e8c3-0d78-4e8c-b542-52a163a13037"
      },
      "outputs": [],
      "source": [
        "x = list(range(20))"
      ]
    },
    {
      "cell_type": "code",
      "execution_count": null,
      "id": "4664efe6-5a9d-4c7c-a5d4-a245667e05b5",
      "metadata": {
        "tags": [],
        "id": "4664efe6-5a9d-4c7c-a5d4-a245667e05b5"
      },
      "outputs": [],
      "source": [
        "x"
      ]
    },
    {
      "cell_type": "code",
      "execution_count": 29,
      "id": "a603fe91-b7d4-41c7-82c5-1acf5041fc0c",
      "metadata": {
        "tags": [],
        "id": "a603fe91-b7d4-41c7-82c5-1acf5041fc0c"
      },
      "outputs": [],
      "source": [
        "#random.shuffle değerlerimizi karıştırmamızı sağlar.\n",
        "random.shuffle(x)"
      ]
    },
    {
      "cell_type": "code",
      "execution_count": null,
      "id": "5d74c44a-a3f3-484a-83cb-0d0ac17878ef",
      "metadata": {
        "tags": [],
        "id": "5d74c44a-a3f3-484a-83cb-0d0ac17878ef"
      },
      "outputs": [],
      "source": [
        "x"
      ]
    },
    {
      "cell_type": "code",
      "execution_count": null,
      "id": "d52c4ef9-23dc-4861-8116-bd7d19ca53c5",
      "metadata": {
        "tags": [],
        "id": "d52c4ef9-23dc-4861-8116-bd7d19ca53c5"
      },
      "outputs": [],
      "source": [
        "y = [\"Hilal\", \"Emirhan\", \"PSC\"]\n",
        "for i in range(5):\n",
        "    random.shuffle(y)\n",
        "    print(y)"
      ]
    },
    {
      "cell_type": "code",
      "execution_count": null,
      "id": "122d077f-12a3-4523-9749-d228ca9f8400",
      "metadata": {
        "tags": [],
        "id": "122d077f-12a3-4523-9749-d228ca9f8400"
      },
      "outputs": [],
      "source": [
        "#Tupple'lar değiştirilemez :)\n",
        "z = (\"Hilal\", \"Emirhan\", \"PSC\")\n",
        "random.shuffle(z)\n",
        "print(z)"
      ]
    },
    {
      "cell_type": "code",
      "execution_count": 32,
      "id": "86d4f6ab-62d6-4d3c-b534-c4e6c046211a",
      "metadata": {
        "tags": [],
        "id": "86d4f6ab-62d6-4d3c-b534-c4e6c046211a"
      },
      "outputs": [],
      "source": [
        "x = range(0,100)"
      ]
    },
    {
      "cell_type": "code",
      "source": [
        ""
      ],
      "metadata": {
        "id": "LJFAxvp2TMCr"
      },
      "id": "LJFAxvp2TMCr",
      "execution_count": null,
      "outputs": []
    },
    {
      "cell_type": "code",
      "execution_count": null,
      "id": "ede5f381-e058-4634-900b-59a34ec774f3",
      "metadata": {
        "tags": [],
        "id": "ede5f381-e058-4634-900b-59a34ec774f3"
      },
      "outputs": [],
      "source": [
        "#random.sample() belirlediğimiz listemizden rastgele elemanlar seçmemize olanak sağlar ve bir liste döndürür\n",
        "random.sample(x, 5)"
      ]
    },
    {
      "cell_type": "code",
      "execution_count": null,
      "id": "72e08be7-8581-4138-8b2f-e0ec23a480dc",
      "metadata": {
        "tags": [],
        "id": "72e08be7-8581-4138-8b2f-e0ec23a480dc"
      },
      "outputs": [],
      "source": [
        "for i in range(5):\n",
        "    print(random.sample(x, 5))"
      ]
    },
    {
      "cell_type": "markdown",
      "id": "9fff6f0d-e290-4ab4-a8f7-faefce54222a",
      "metadata": {
        "id": "9fff6f0d-e290-4ab4-a8f7-faefce54222a"
      },
      "source": [
        "## **Fonksiyonlar**"
      ]
    },
    {
      "cell_type": "code",
      "execution_count": 1,
      "id": "c773918b-0160-48b5-89b1-c1311c0d8738",
      "metadata": {
        "tags": [],
        "id": "c773918b-0160-48b5-89b1-c1311c0d8738",
        "colab": {
          "base_uri": "https://localhost:8080/",
          "height": 181
        },
        "outputId": "319a6fb0-cc27-460d-ad94-a80b08d53f2b"
      },
      "outputs": [
        {
          "output_type": "error",
          "ename": "NameError",
          "evalue": "ignored",
          "traceback": [
            "\u001b[0;31m---------------------------------------------------------------------------\u001b[0m",
            "\u001b[0;31mNameError\u001b[0m                                 Traceback (most recent call last)",
            "\u001b[0;32m<ipython-input-1-a15136e56619>\u001b[0m in \u001b[0;36m<module>\u001b[0;34m()\u001b[0m\n\u001b[1;32m      1\u001b[0m \u001b[0;31m#Henüz bir fonksiyon tanımlamadığımız için hata alırız\u001b[0m\u001b[0;34m\u001b[0m\u001b[0;34m\u001b[0m\u001b[0;34m\u001b[0m\u001b[0m\n\u001b[0;32m----> 2\u001b[0;31m \u001b[0mpsc\u001b[0m\u001b[0;34m(\u001b[0m\u001b[0;34m)\u001b[0m\u001b[0;34m\u001b[0m\u001b[0;34m\u001b[0m\u001b[0m\n\u001b[0m",
            "\u001b[0;31mNameError\u001b[0m: name 'psc' is not defined"
          ]
        }
      ],
      "source": [
        "#Henüz bir fonksiyon tanımlamadığımız için hata alırız\n",
        "psc()"
      ]
    },
    {
      "cell_type": "code",
      "execution_count": 2,
      "id": "891b4256-7623-43a0-a699-a9ce95838a82",
      "metadata": {
        "tags": [],
        "id": "891b4256-7623-43a0-a699-a9ce95838a82"
      },
      "outputs": [],
      "source": [
        "#psc() isimli bir fonksiyon tanımlıyoruz\n",
        "def psc():\n",
        "    print(\"Python Students Club\")"
      ]
    },
    {
      "cell_type": "code",
      "execution_count": 3,
      "id": "0319b3cb-e545-45c5-8c94-7b3c478769da",
      "metadata": {
        "tags": [],
        "id": "0319b3cb-e545-45c5-8c94-7b3c478769da",
        "colab": {
          "base_uri": "https://localhost:8080/"
        },
        "outputId": "370824b3-5630-426a-b46f-40ec96dbcadc"
      },
      "outputs": [
        {
          "output_type": "stream",
          "name": "stdout",
          "text": [
            "Python Students Club\n"
          ]
        }
      ],
      "source": [
        "psc()"
      ]
    },
    {
      "cell_type": "code",
      "execution_count": 5,
      "id": "6a9a45fb-f01e-4db3-a39a-646a288711a1",
      "metadata": {
        "tags": [],
        "id": "6a9a45fb-f01e-4db3-a39a-646a288711a1"
      },
      "outputs": [],
      "source": [
        "def psc(x):\n",
        "  print(x + \" Python Students Club\")"
      ]
    },
    {
      "cell_type": "code",
      "execution_count": 6,
      "id": "59626b80-fc5c-41ca-a3aa-0e4c09dd2ff7",
      "metadata": {
        "tags": [],
        "id": "59626b80-fc5c-41ca-a3aa-0e4c09dd2ff7",
        "colab": {
          "base_uri": "https://localhost:8080/"
        },
        "outputId": "d4a5d631-e8bb-4d65-b818-17d0d33fded1"
      },
      "outputs": [
        {
          "output_type": "stream",
          "name": "stdout",
          "text": [
            "Hilal Python Students Club\n",
            "Emirhan Python Students Club\n"
          ]
        }
      ],
      "source": [
        "psc(\"Hilal\")\n",
        "psc(\"Emirhan\")"
      ]
    },
    {
      "cell_type": "code",
      "execution_count": 8,
      "id": "6d8de642-7afe-4b1a-b707-b684aaebb696",
      "metadata": {
        "tags": [],
        "id": "6d8de642-7afe-4b1a-b707-b684aaebb696",
        "colab": {
          "base_uri": "https://localhost:8080/"
        },
        "outputId": "95d8e4bd-01e3-4682-f4a3-30b212f74333"
      },
      "outputs": [
        {
          "output_type": "stream",
          "name": "stdout",
          "text": [
            "Emirhan ve Hilal\n"
          ]
        }
      ],
      "source": [
        "#Fonksiyonumuzda birden fazla değer kullanılabilir.\n",
        "def psc(x, y):\n",
        "  print(y + \" ve \" + x)\n",
        "\n",
        "psc(\"Hilal\", \"Emirhan\")"
      ]
    },
    {
      "cell_type": "code",
      "execution_count": 9,
      "id": "8a5f0cb0-ad11-492d-8f64-c719d6f9f547",
      "metadata": {
        "tags": [],
        "id": "8a5f0cb0-ad11-492d-8f64-c719d6f9f547",
        "colab": {
          "base_uri": "https://localhost:8080/",
          "height": 181
        },
        "outputId": "b2b8f965-2871-4c94-d120-b38c55fbfbce"
      },
      "outputs": [
        {
          "output_type": "error",
          "ename": "TypeError",
          "evalue": "ignored",
          "traceback": [
            "\u001b[0;31m---------------------------------------------------------------------------\u001b[0m",
            "\u001b[0;31mTypeError\u001b[0m                                 Traceback (most recent call last)",
            "\u001b[0;32m<ipython-input-9-69863eec5dd1>\u001b[0m in \u001b[0;36m<module>\u001b[0;34m()\u001b[0m\n\u001b[1;32m      1\u001b[0m \u001b[0;31m#Fonksiyonumuz bizden iki değer beklediği için hata verir.\u001b[0m\u001b[0;34m\u001b[0m\u001b[0;34m\u001b[0m\u001b[0;34m\u001b[0m\u001b[0m\n\u001b[0;32m----> 2\u001b[0;31m \u001b[0mpsc\u001b[0m\u001b[0;34m(\u001b[0m\u001b[0;34m\"Hilal\"\u001b[0m\u001b[0;34m)\u001b[0m\u001b[0;34m\u001b[0m\u001b[0;34m\u001b[0m\u001b[0m\n\u001b[0m",
            "\u001b[0;31mTypeError\u001b[0m: psc() missing 1 required positional argument: 'y'"
          ]
        }
      ],
      "source": [
        "#Fonksiyonumuz bizden iki değer beklediği için hata verir.\n",
        "psc(\"Hilal\")"
      ]
    },
    {
      "cell_type": "code",
      "execution_count": 13,
      "id": "d6000f51-cd59-43a5-a881-95a20d1e869d",
      "metadata": {
        "tags": [],
        "id": "d6000f51-cd59-43a5-a881-95a20d1e869d"
      },
      "outputs": [],
      "source": [
        "import math\n",
        "#dairenin alanını hesaplayan bir fonksiyon. x=yarıçap\n",
        "def alan(r):\n",
        "    y = (3.14)*math.pow(r,2) #math.pi*(r**2)\n",
        "    print(y)"
      ]
    },
    {
      "cell_type": "code",
      "execution_count": 14,
      "id": "9e3d8b5f-ad43-43f2-b99d-41dc14b603c1",
      "metadata": {
        "tags": [],
        "id": "9e3d8b5f-ad43-43f2-b99d-41dc14b603c1",
        "colab": {
          "base_uri": "https://localhost:8080/"
        },
        "outputId": "b7c299c1-ddcb-4880-ee7b-8a50ab8737b3"
      },
      "outputs": [
        {
          "output_type": "stream",
          "name": "stdout",
          "text": [
            "28.26\n"
          ]
        }
      ],
      "source": [
        "alan(3)"
      ]
    },
    {
      "cell_type": "code",
      "execution_count": 15,
      "id": "37fb7117-214f-4ebf-a1ec-ada3f419949c",
      "metadata": {
        "tags": [],
        "id": "37fb7117-214f-4ebf-a1ec-ada3f419949c"
      },
      "outputs": [],
      "source": [
        "#return elde ettiğimiz değerleri fonksiyonun dışında da döndürmemize olanak sağlar\n",
        "def alan2(x):\n",
        "    y = (3.14)*(x**2)\n",
        "    return y"
      ]
    },
    {
      "cell_type": "code",
      "execution_count": 16,
      "id": "337aa081-b21d-4413-9554-0338c58b5123",
      "metadata": {
        "tags": [],
        "id": "337aa081-b21d-4413-9554-0338c58b5123",
        "colab": {
          "base_uri": "https://localhost:8080/"
        },
        "outputId": "e0ea68a8-72a0-4cec-9618-0056f159329d"
      },
      "outputs": [
        {
          "output_type": "execute_result",
          "data": {
            "text/plain": [
              "314.0"
            ]
          },
          "metadata": {},
          "execution_count": 16
        }
      ],
      "source": [
        "alan2(10)"
      ]
    },
    {
      "cell_type": "code",
      "execution_count": 17,
      "id": "8f139be3-92cb-468b-9130-867d1496e6f0",
      "metadata": {
        "tags": [],
        "id": "8f139be3-92cb-468b-9130-867d1496e6f0",
        "colab": {
          "base_uri": "https://localhost:8080/"
        },
        "outputId": "cda19a09-aae4-4b89-8b49-d08466cd2581"
      },
      "outputs": [
        {
          "output_type": "stream",
          "name": "stdout",
          "text": [
            "314.0\n"
          ]
        }
      ],
      "source": [
        "a = alan(10)"
      ]
    },
    {
      "cell_type": "code",
      "execution_count": 18,
      "id": "4925184c-f71b-4b1e-b468-11ef5fb625a4",
      "metadata": {
        "tags": [],
        "id": "4925184c-f71b-4b1e-b468-11ef5fb625a4",
        "colab": {
          "base_uri": "https://localhost:8080/"
        },
        "outputId": "be69bfd9-d25c-415b-881e-db87498cc001"
      },
      "outputs": [
        {
          "output_type": "stream",
          "name": "stdout",
          "text": [
            "None\n"
          ]
        }
      ],
      "source": [
        "#İlk fonksiyonumuzda return kullanmadığımız için değerimiz None olarak döner.\n",
        "print(a)"
      ]
    },
    {
      "cell_type": "code",
      "execution_count": 19,
      "id": "0b328fca-8e92-4075-8e61-b7c97c38cb8f",
      "metadata": {
        "tags": [],
        "id": "0b328fca-8e92-4075-8e61-b7c97c38cb8f"
      },
      "outputs": [],
      "source": [
        "#İkinci fonksiyonumuzda return kullandığımız için elde ettiğimiz değeri fonksiyonumuzun dışında da kullanabiliriz.\n",
        "b = alan2(10)"
      ]
    },
    {
      "cell_type": "code",
      "execution_count": 20,
      "id": "e2302548-7f96-43a4-b5fa-927d009ed6d1",
      "metadata": {
        "tags": [],
        "id": "e2302548-7f96-43a4-b5fa-927d009ed6d1",
        "colab": {
          "base_uri": "https://localhost:8080/"
        },
        "outputId": "49ccb8e9-082a-4c67-abb5-c4b3ed949d2f"
      },
      "outputs": [
        {
          "output_type": "stream",
          "name": "stdout",
          "text": [
            "314.0\n"
          ]
        }
      ],
      "source": [
        "print(b)"
      ]
    },
    {
      "cell_type": "code",
      "execution_count": 22,
      "id": "3043fa50-3741-43b7-b273-c1bb1ddc629e",
      "metadata": {
        "tags": [],
        "id": "3043fa50-3741-43b7-b273-c1bb1ddc629e",
        "colab": {
          "base_uri": "https://localhost:8080/"
        },
        "outputId": "155ce4f3-5e8e-4714-8d37-b8928a2a3901"
      },
      "outputs": [
        {
          "output_type": "stream",
          "name": "stdout",
          "text": [
            "Python Students Club Emirhan\n"
          ]
        }
      ],
      "source": [
        "#Değişken sayımız belirsiz ise * koyarak args ile fonkiyonumuzun sınırsız değer almasını sağlayabiliriz.\n",
        "def psc(*x):\n",
        "  print(\"Python Students Club \" + x[1])\n",
        "\n",
        "psc(\"Hilal\", \"Emirhan\")"
      ]
    },
    {
      "cell_type": "code",
      "execution_count": 23,
      "id": "3453a90d-774e-436d-8cc7-92df53420595",
      "metadata": {
        "tags": [],
        "id": "3453a90d-774e-436d-8cc7-92df53420595",
        "colab": {
          "base_uri": "https://localhost:8080/"
        },
        "outputId": "310d823d-a6a7-444c-9658-ea642f870467"
      },
      "outputs": [
        {
          "output_type": "stream",
          "name": "stdout",
          "text": [
            "Python Students Club Berkin\n"
          ]
        }
      ],
      "source": [
        "def psc(*x):\n",
        "  print(\"Python Students Club \" + x[4])\n",
        "\n",
        "psc(\"Hilal\", \"Emirhan\", \"Gürkan\", \"Sude\", \"Berkin\", \"Alper\")"
      ]
    },
    {
      "cell_type": "code",
      "source": [
        "#Yazdığımız tüm değerleri toplayacak, değer kısıtı olmayan bir fonksiyon\n",
        "def psc(*x):\n",
        "    toplam = 0\n",
        "    for y in x:\n",
        "        toplam += y\n",
        "    return toplam\n",
        "a=psc(1, 2, 3)\n",
        "print(a)"
      ],
      "metadata": {
        "id": "Y2llleZUY4U_",
        "colab": {
          "base_uri": "https://localhost:8080/"
        },
        "outputId": "f14222b6-ba00-4a58-9a4b-cff1b7ef602c"
      },
      "id": "Y2llleZUY4U_",
      "execution_count": 24,
      "outputs": [
        {
          "output_type": "stream",
          "name": "stdout",
          "text": [
            "6\n"
          ]
        }
      ]
    },
    {
      "cell_type": "code",
      "execution_count": 25,
      "id": "f8a2b4da-4ebd-4668-9518-dab00e75f002",
      "metadata": {
        "tags": [],
        "id": "f8a2b4da-4ebd-4668-9518-dab00e75f002",
        "colab": {
          "base_uri": "https://localhost:8080/"
        },
        "outputId": "5e68c75f-fb20-47f8-c4be-cdcbb0509a6f"
      },
      "outputs": [
        {
          "output_type": "stream",
          "name": "stdout",
          "text": [
            "Sıfırncı index Emirhan\n",
            "Birinci index Hilal\n"
          ]
        }
      ],
      "source": [
        "#Kwargs ifadelerimizde key:value ilişkisi söz konusudur\n",
        "def psc(**a):\n",
        "  print(\"Sıfırncı index \" + a[\"x\"])\n",
        "  print(\"Birinci index \" + a[\"y\"])\n",
        "  \n",
        "\n",
        "psc(x = \"Emirhan\", y = \"Hilal\")"
      ]
    },
    {
      "cell_type": "code",
      "execution_count": 44,
      "id": "8df9fe74-6688-4143-97c9-c073c3706636",
      "metadata": {
        "tags": [],
        "id": "8df9fe74-6688-4143-97c9-c073c3706636",
        "colab": {
          "base_uri": "https://localhost:8080/"
        },
        "outputId": "d9727a67-8e06-4b25-9e59-9715021bac45"
      },
      "outputs": [
        {
          "output_type": "stream",
          "name": "stdout",
          "text": [
            "PSC Python\n",
            "PSC Club\n"
          ]
        }
      ],
      "source": [
        "def psc(z, y, x):\n",
        "  print(\"PSC \" + z)\n",
        "  \n",
        "psc(\"Python\",\"Club\",\"Students\")\n",
        "psc(x = \"Python\", z = \"Club\", y = \"Students\")"
      ]
    },
    {
      "cell_type": "code",
      "execution_count": 26,
      "id": "cc5f7276-6bea-4ee2-8c7c-add125234a2e",
      "metadata": {
        "tags": [],
        "id": "cc5f7276-6bea-4ee2-8c7c-add125234a2e",
        "colab": {
          "base_uri": "https://localhost:8080/"
        },
        "outputId": "afd20618-9bea-47b8-afc9-dc6ec208c598"
      },
      "outputs": [
        {
          "output_type": "stream",
          "name": "stdout",
          "text": [
            "Hilal\n",
            "Emirhan\n",
            "Python Students Club\n"
          ]
        }
      ],
      "source": [
        "def psc(default = \"Python Students Club\"):\n",
        "  print(default)\n",
        "\n",
        "psc(\"Hilal\")\n",
        "psc(\"Emirhan\")\n",
        "psc()"
      ]
    },
    {
      "cell_type": "code",
      "execution_count": 28,
      "id": "8dae2f7c-6a7e-42e4-9c97-f7fb421f282f",
      "metadata": {
        "tags": [],
        "id": "8dae2f7c-6a7e-42e4-9c97-f7fb421f282f",
        "colab": {
          "base_uri": "https://localhost:8080/"
        },
        "outputId": "e7652c68-89d1-4838-dfff-888fc020fe0e"
      },
      "outputs": [
        {
          "output_type": "stream",
          "name": "stdout",
          "text": [
            "P\n",
            "y\n",
            "t\n",
            "h\n",
            "o\n",
            "n\n",
            " \n",
            "S\n",
            "t\n",
            "u\n",
            "d\n",
            "e\n",
            "n\n",
            "t\n",
            "s\n",
            " \n",
            "C\n",
            "l\n",
            "u\n",
            "b\n"
          ]
        }
      ],
      "source": [
        "def my_function(food):\n",
        "  for x in food:\n",
        "    print(x)\n",
        "\n",
        "fruits = \"Python Students Club\"\n",
        "\n",
        "my_function(fruits)"
      ]
    },
    {
      "cell_type": "code",
      "execution_count": 41,
      "id": "bcf6bb9a-c838-4501-9c7d-a136e379963a",
      "metadata": {
        "tags": [],
        "id": "bcf6bb9a-c838-4501-9c7d-a136e379963a",
        "colab": {
          "base_uri": "https://localhost:8080/"
        },
        "outputId": "f06c83a5-0eed-4878-c923-1ee987099ef4"
      },
      "outputs": [
        {
          "output_type": "stream",
          "name": "stdout",
          "text": [
            "banana\n",
            "banana\n",
            "banana\n"
          ]
        }
      ],
      "source": [
        "def my_function(food):\n",
        "  for x in food:\n",
        "    if x==\"apple\" or x==\"cherry\":\n",
        "      continue\n",
        "    else:\n",
        "      print(x)\n",
        "\n",
        "fruits = [\"apple\", \"banana\", \"cherry\", \"banana\", \"cherry\", \"banana\", \"cherry\"]\n",
        "\n",
        "my_function(fruits)"
      ]
    },
    {
      "cell_type": "code",
      "execution_count": 30,
      "id": "1d862651-f7b0-4283-964e-8b27473efc59",
      "metadata": {
        "tags": [],
        "id": "1d862651-f7b0-4283-964e-8b27473efc59",
        "colab": {
          "base_uri": "https://localhost:8080/"
        },
        "outputId": "772e6c72-004a-4618-a58e-bcc8012af8d3"
      },
      "outputs": [
        {
          "output_type": "stream",
          "name": "stdout",
          "text": [
            "['apple', 'banana', 'cherry']\n"
          ]
        }
      ],
      "source": [
        "def my_function(food):\n",
        "    print(food)\n",
        "    \n",
        "fruits = [\"apple\", \"banana\", \"cherry\"]\n",
        "my_function(fruits)"
      ]
    },
    {
      "cell_type": "code",
      "execution_count": 32,
      "id": "e25751c7-abcd-4d94-bfc7-d070264df3ae",
      "metadata": {
        "tags": [],
        "id": "e25751c7-abcd-4d94-bfc7-d070264df3ae"
      },
      "outputs": [],
      "source": [
        "def psc():\n",
        "  pass"
      ]
    },
    {
      "cell_type": "code",
      "source": [
        ""
      ],
      "metadata": {
        "id": "jHsjSgt3Cqye"
      },
      "id": "jHsjSgt3Cqye",
      "execution_count": null,
      "outputs": []
    },
    {
      "cell_type": "code",
      "execution_count": 34,
      "id": "8ed837e8-5891-49e5-b4a8-45a10347d04a",
      "metadata": {
        "tags": [],
        "id": "8ed837e8-5891-49e5-b4a8-45a10347d04a",
        "colab": {
          "base_uri": "https://localhost:8080/"
        },
        "outputId": "afdc5d4d-391a-43e8-84a3-887b908d88c1"
      },
      "outputs": [
        {
          "output_type": "execute_result",
          "data": {
            "text/plain": [
              "21"
            ]
          },
          "metadata": {},
          "execution_count": 34
        }
      ],
      "source": [
        "#Recursion \n",
        "def psc(x):\n",
        "  if(x > 0):\n",
        "    result = x + psc(x - 1)\n",
        "  else:\n",
        "    result = 0\n",
        "  return result\n",
        "\n",
        "psc(6)\n",
        "\n",
        "# result = 6 + psc(5)\n",
        "# result = 5 + psc(4)\n",
        "# result = 4 + psc(3)\n",
        "# result = 3 + psc(2)\n",
        "# result = 2 + psc(1)\n",
        "# result = 1 + psc(0)\n",
        "# result = 0"
      ]
    },
    {
      "cell_type": "code",
      "source": [
        "def toplam(x):\n",
        "  toplam = 0\n",
        "  for i in range(1, x+1): #[1,2,3,4,5,6]\n",
        "    toplam += i\n",
        "  return toplam"
      ],
      "metadata": {
        "id": "OeORA7vrluE9"
      },
      "id": "OeORA7vrluE9",
      "execution_count": 39,
      "outputs": []
    },
    {
      "cell_type": "code",
      "source": [
        "x=toplam(56)\n",
        "print(x)"
      ],
      "metadata": {
        "id": "VP4hmhXnBuDY",
        "outputId": "e27ac856-6594-47a9-b236-b0b5f8163783",
        "colab": {
          "base_uri": "https://localhost:8080/"
        }
      },
      "id": "VP4hmhXnBuDY",
      "execution_count": 40,
      "outputs": [
        {
          "output_type": "stream",
          "name": "stdout",
          "text": [
            "1596\n"
          ]
        }
      ]
    },
    {
      "cell_type": "markdown",
      "id": "2f6d26a7-8d70-4ef2-979e-712297f22edb",
      "metadata": {
        "id": "2f6d26a7-8d70-4ef2-979e-712297f22edb"
      },
      "source": [
        "## **Lambda**"
      ]
    },
    {
      "cell_type": "code",
      "source": [
        "#def kullanarak üslü sayı hesaplama fonksiyonu oluşturuyoruz\n",
        "def usluSayi(x,y):\n",
        "  z = x**y\n",
        "  return z\n",
        "print(usluSayi(3,4))"
      ],
      "metadata": {
        "id": "ycD7VjPWbtUG"
      },
      "id": "ycD7VjPWbtUG",
      "execution_count": null,
      "outputs": []
    },
    {
      "cell_type": "code",
      "source": [
        "#Yukarıda gerçekleştirdiğimiz işlemi Lambda yardımı ile daha hızlı bir şekilde gerçekleştiriyoruz.\n",
        "usluSayi2 = lambda x,y: x**y\n",
        "print(usluSayi(3,4))"
      ],
      "metadata": {
        "id": "VYz1xfFxcBVJ"
      },
      "id": "VYz1xfFxcBVJ",
      "execution_count": null,
      "outputs": []
    },
    {
      "cell_type": "code",
      "execution_count": null,
      "id": "11d7d353-4591-4afc-8466-97a5f5b947f4",
      "metadata": {
        "tags": [],
        "id": "11d7d353-4591-4afc-8466-97a5f5b947f4"
      },
      "outputs": [],
      "source": [
        "x = lambda a : a + 10\n",
        "print(x(5))"
      ]
    },
    {
      "cell_type": "code",
      "execution_count": null,
      "id": "33ccecf6-f132-438a-9d9c-32dbbe0a5e4c",
      "metadata": {
        "tags": [],
        "id": "33ccecf6-f132-438a-9d9c-32dbbe0a5e4c"
      },
      "outputs": [],
      "source": [
        "x = lambda a, b : a * b\n",
        "print(x(5, 6))"
      ]
    },
    {
      "cell_type": "code",
      "source": [
        "#Lambda içerisinde if&else gibi yapıları da kullanabiliriz\n",
        "test = lambda x : \"Pozitif\" if (x > 0) else \"Negatif\"\n",
        "print(test(3))\n",
        "print(test(-3))\n",
        "print(test(0))"
      ],
      "metadata": {
        "id": "evYr00OtffNg"
      },
      "id": "evYr00OtffNg",
      "execution_count": null,
      "outputs": []
    },
    {
      "cell_type": "code",
      "execution_count": null,
      "id": "c6d8ce92-fc90-4da2-9c28-d6843d34944a",
      "metadata": {
        "tags": [],
        "id": "c6d8ce92-fc90-4da2-9c28-d6843d34944a"
      },
      "outputs": [],
      "source": [
        "#Lambda fonksiyonu içinde elif kullanmamız gerekirse, else durumunda yeni bir if oluşturmamız gerekiyor\n",
        "test = lambda x : \"Pozitif\" if (x > 0) else (\"Nötr\" if (x==0) else \"Negatif\")\n",
        "print(test(3))\n",
        "print(test(-3))\n",
        "print(test(0))"
      ]
    },
    {
      "cell_type": "code",
      "execution_count": null,
      "id": "f12e9378-a3cd-4f84-b0df-a3e136a6059b",
      "metadata": {
        "tags": [],
        "id": "f12e9378-a3cd-4f84-b0df-a3e136a6059b"
      },
      "outputs": [],
      "source": [
        "def psc(n):\n",
        "  return lambda a : a * n\n",
        "\n",
        "x = psc(2) # x= lambda a:a*2\n",
        "\n",
        "print(x(11)) # a=11 olarak verildi o yüzden a*2 =22 olarak ekrana çıktı verecektir"
      ]
    }
  ],
  "metadata": {
    "kernelspec": {
      "display_name": "Python 3 (ipykernel)",
      "language": "python",
      "name": "python3"
    },
    "language_info": {
      "codemirror_mode": {
        "name": "ipython",
        "version": 3
      },
      "file_extension": ".py",
      "mimetype": "text/x-python",
      "name": "python",
      "nbconvert_exporter": "python",
      "pygments_lexer": "ipython3",
      "version": "3.10.0"
    },
    "colab": {
      "name": "Day_3.ipynb",
      "provenance": []
    }
  },
  "nbformat": 4,
  "nbformat_minor": 5
}