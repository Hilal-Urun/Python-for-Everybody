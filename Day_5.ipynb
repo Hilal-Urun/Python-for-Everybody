{
  "nbformat": 4,
  "nbformat_minor": 0,
  "metadata": {
    "colab": {
      "name": "Day_5",
      "provenance": []
    },
    "kernelspec": {
      "name": "python3",
      "display_name": "Python 3"
    },
    "language_info": {
      "name": "python"
    }
  },
  "cells": [
    {
      "cell_type": "markdown",
      "source": [
        "# Class"
      ],
      "metadata": {
        "id": "i27e3z5ffva5"
      }
    },
    {
      "cell_type": "code",
      "source": [
        "class Psc:\n",
        "  x = \"Python Students Club\""
      ],
      "metadata": {
        "id": "8Gp5HeTrf1wp"
      },
      "execution_count": null,
      "outputs": []
    },
    {
      "cell_type": "code",
      "source": [
        "class Psc():\n",
        "  x = \"Python Students Club\""
      ],
      "metadata": {
        "id": "pWukFui3gHLT"
      },
      "execution_count": null,
      "outputs": []
    },
    {
      "cell_type": "code",
      "source": [
        "class PscMember():\n",
        "  isim = \"Emirhan GÜLEÇ\"\n",
        "  yas = 25\n",
        "  teknolojiler = [\"Vue\", \"React\", \"Next\"]\n",
        "\n",
        "  print(isim,yas)"
      ],
      "metadata": {
        "id": "AYV-eNbXgJnN"
      },
      "execution_count": null,
      "outputs": []
    },
    {
      "cell_type": "code",
      "source": [
        "class PscMember():\n",
        "  isim = \"Emirhan GÜLEÇ\"\n",
        "  yas = 25\n",
        "  teknolojiler = [\"Vue\", \"React\", \"Next\"]\n",
        "\n",
        "print(PscMember.isim)\n",
        "print(PscMember.teknolojiler)"
      ],
      "metadata": {
        "id": "N_BXwmI5guWS"
      },
      "execution_count": null,
      "outputs": []
    },
    {
      "cell_type": "code",
      "source": [
        "PscMember.sehir = \"Antalya\""
      ],
      "metadata": {
        "id": "ar5kvS2ghvQH"
      },
      "execution_count": null,
      "outputs": []
    },
    {
      "cell_type": "code",
      "source": [
        "print(PscMember.sehir)"
      ],
      "metadata": {
        "id": "nbdQFML_h4HP"
      },
      "execution_count": null,
      "outputs": []
    },
    {
      "cell_type": "code",
      "source": [
        "a = PscMember()"
      ],
      "metadata": {
        "id": "CXMaQM4ah6SZ"
      },
      "execution_count": null,
      "outputs": []
    },
    {
      "cell_type": "code",
      "source": [
        "print(a.isim)"
      ],
      "metadata": {
        "id": "JJOYlVSYiHwd"
      },
      "execution_count": null,
      "outputs": []
    },
    {
      "cell_type": "code",
      "source": [
        "b = PscMember()"
      ],
      "metadata": {
        "id": "4B9lc-KbjGZ-"
      },
      "execution_count": null,
      "outputs": []
    },
    {
      "cell_type": "code",
      "source": [
        "b.isim = \"Hilal ÜRÜN\""
      ],
      "metadata": {
        "id": "LWwXabTvhahr"
      },
      "execution_count": null,
      "outputs": []
    },
    {
      "cell_type": "code",
      "source": [
        "print(b.isim)"
      ],
      "metadata": {
        "id": "Rmj4McwAhs_m"
      },
      "execution_count": null,
      "outputs": []
    },
    {
      "cell_type": "code",
      "source": [
        "print(a.isim)"
      ],
      "metadata": {
        "id": "Q0VK35Y9iKR4"
      },
      "execution_count": null,
      "outputs": []
    },
    {
      "cell_type": "code",
      "source": [
        "b.teknolojiler.append(\"Java\")"
      ],
      "metadata": {
        "id": "NniayJ5vilTy"
      },
      "execution_count": null,
      "outputs": []
    },
    {
      "cell_type": "code",
      "source": [
        "print(b.teknolojiler)"
      ],
      "metadata": {
        "id": "_OH6PsInkAjj"
      },
      "execution_count": null,
      "outputs": []
    },
    {
      "cell_type": "code",
      "source": [
        "print(a.teknolojiler) #A'ya eklememiş olduğumuz halde a değerimize de Java eklenmiş oldu"
      ],
      "metadata": {
        "id": "ECpZXxFLkCbD"
      },
      "execution_count": null,
      "outputs": []
    },
    {
      "cell_type": "code",
      "source": [
        "class psc2():\n",
        "    def __init__(self):\n",
        "        self.isim = []\n",
        "        self.yas = []\n",
        "        self.teknolojiler = []"
      ],
      "metadata": {
        "id": "z3urs2srniYk"
      },
      "execution_count": null,
      "outputs": []
    },
    {
      "cell_type": "code",
      "source": [
        "a = psc2()"
      ],
      "metadata": {
        "id": "CZpr3La5nibK"
      },
      "execution_count": null,
      "outputs": []
    },
    {
      "cell_type": "code",
      "source": [
        "b = psc2()"
      ],
      "metadata": {
        "id": "aTDiMmYAnid3"
      },
      "execution_count": null,
      "outputs": []
    },
    {
      "cell_type": "code",
      "source": [
        "a.teknolojiler.append(\"R\")"
      ],
      "metadata": {
        "id": "nmE9zuofnif2"
      },
      "execution_count": null,
      "outputs": []
    },
    {
      "cell_type": "code",
      "source": [
        "a.teknolojiler"
      ],
      "metadata": {
        "id": "dA7wwN6sniie"
      },
      "execution_count": null,
      "outputs": []
    },
    {
      "cell_type": "code",
      "source": [
        "b.teknolojiler"
      ],
      "metadata": {
        "id": "hvUAIfQVnilD"
      },
      "execution_count": null,
      "outputs": []
    },
    {
      "cell_type": "code",
      "source": [
        "class PscMemberData():\n",
        "    uye = []\n",
        "\n",
        "    def __init__(self, isim):\n",
        "        self.isim = isim\n",
        "        self.teknolojiler = []\n",
        "        self.uye_ekle()\n",
        "\n",
        "    def uye_ekle(self):\n",
        "        self.uye.append(self.isim)\n",
        "        print('{} adlı kişi üye olarak eklendi'.format(self.isim))\n",
        "\n",
        "    def uyeleri_görüntüle(self):\n",
        "        print('Üye listesi:')\n",
        "        for kişi in self.uye:\n",
        "            print(kişi)\n",
        "\n",
        "    def teknoloji_ekle(self, teknoloji):\n",
        "        self.teknolojiler.append(teknoloji)\n",
        "\n",
        "    def teknolojileri_görüntüle(self):\n",
        "        print('{} adlı kişinin ilgilendiği teknolojiler:'.format(self.isim))\n",
        "        for teknoloji in self.teknolojiler:\n",
        "            print(teknoloji)"
      ],
      "metadata": {
        "id": "u_VUZz-zkDn0"
      },
      "execution_count": null,
      "outputs": []
    },
    {
      "cell_type": "code",
      "source": [
        "e = PscMemberData(\"Emirhan GÜLEÇ\")"
      ],
      "metadata": {
        "id": "HPfkuZC_l8Pk"
      },
      "execution_count": null,
      "outputs": []
    },
    {
      "cell_type": "code",
      "source": [
        "h = PscMemberData(\"Hilal ÜRÜN\")"
      ],
      "metadata": {
        "id": "DXvTbcW8nc26"
      },
      "execution_count": null,
      "outputs": []
    },
    {
      "cell_type": "code",
      "source": [
        "print(e.isim)"
      ],
      "metadata": {
        "id": "eusooxOw_-cB"
      },
      "execution_count": null,
      "outputs": []
    },
    {
      "cell_type": "code",
      "source": [
        "print(e.uyeleri_görüntüle())"
      ],
      "metadata": {
        "id": "SI9zojwhAfYM"
      },
      "execution_count": null,
      "outputs": []
    },
    {
      "cell_type": "code",
      "source": [
        "e.teknoloji_ekle(\"Python\")"
      ],
      "metadata": {
        "id": "QIKB1r8aAhPO"
      },
      "execution_count": null,
      "outputs": []
    },
    {
      "cell_type": "code",
      "source": [
        "e.teknolojileri_görüntüle()"
      ],
      "metadata": {
        "id": "cWr70XXiBwEn"
      },
      "execution_count": null,
      "outputs": []
    },
    {
      "cell_type": "code",
      "source": [
        "e.teknoloji_ekle(\"Vue\")"
      ],
      "metadata": {
        "id": "m16MzNT7ByDb"
      },
      "execution_count": null,
      "outputs": []
    },
    {
      "cell_type": "code",
      "source": [
        "e.teknolojileri_görüntüle()"
      ],
      "metadata": {
        "id": "w2GVsf7PB14T"
      },
      "execution_count": null,
      "outputs": []
    },
    {
      "cell_type": "code",
      "source": [
        "h.teknolojileri_görüntüle()"
      ],
      "metadata": {
        "id": "8KFOGdg4B4Ub"
      },
      "execution_count": null,
      "outputs": []
    },
    {
      "cell_type": "code",
      "source": [
        "h.teknoloji_ekle(\"Python\")"
      ],
      "metadata": {
        "id": "IGdxXFapB7CM"
      },
      "execution_count": null,
      "outputs": []
    },
    {
      "cell_type": "code",
      "source": [
        "h.teknolojileri_görüntüle()"
      ],
      "metadata": {
        "id": "PBorNQyYB_Wj"
      },
      "execution_count": null,
      "outputs": []
    },
    {
      "cell_type": "code",
      "source": [
        "del e.teknolojiler"
      ],
      "metadata": {
        "id": "jb1eR5F4CA2S"
      },
      "execution_count": null,
      "outputs": []
    },
    {
      "cell_type": "code",
      "source": [
        "#Teknolojileri sildiğimiz için hata alacağız\n",
        "e.teknolojileri_görüntüle()"
      ],
      "metadata": {
        "id": "fdQd8gjKGK6x"
      },
      "execution_count": null,
      "outputs": []
    },
    {
      "cell_type": "code",
      "source": [
        "#Artık teknolojiler isimli bir fonksiyonumuz olmadığı için hata alacağız\n",
        "e.teknoloji_ekle(\"Python\")"
      ],
      "metadata": {
        "id": "G3CaKKC-GouB"
      },
      "execution_count": null,
      "outputs": []
    },
    {
      "cell_type": "code",
      "source": [
        "e.teknolojiler = []"
      ],
      "metadata": {
        "id": "L2foz88tGZdK"
      },
      "execution_count": null,
      "outputs": []
    },
    {
      "cell_type": "code",
      "source": [
        "e.teknoloji_ekle(\"Python\")"
      ],
      "metadata": {
        "id": "funxwAchGmvD"
      },
      "execution_count": null,
      "outputs": []
    },
    {
      "cell_type": "code",
      "source": [
        "e.teknolojileri_görüntüle()"
      ],
      "metadata": {
        "id": "2Sa2mhhfHM-t"
      },
      "execution_count": null,
      "outputs": []
    },
    {
      "cell_type": "code",
      "source": [
        "del e"
      ],
      "metadata": {
        "id": "7Jd8ay1THPaQ"
      },
      "execution_count": null,
      "outputs": []
    },
    {
      "cell_type": "code",
      "source": [
        "x = PscMemberData() #__init__ fonksiyonu içerisinde isim için bir varsayılan tanımlamadığımız için hata alıyoruz"
      ],
      "metadata": {
        "id": "G-HZIVVbnVMk"
      },
      "execution_count": null,
      "outputs": []
    },
    {
      "cell_type": "code",
      "source": [
        "class PscMemberData():\n",
        "    uye = []\n",
        "\n",
        "    def __init__(self, isim = \"NONE\"):\n",
        "        self.isim = isim\n",
        "        self.teknolojiler = []\n",
        "        self.uye_ekle()\n",
        "\n",
        "    def uye_ekle(self):\n",
        "        self.uye.append(self.isim)\n",
        "        print('{} adlı kişi üye olarak eklendi'.format(self.isim))\n",
        "\n",
        "    def uyeleri_görüntüle(self):\n",
        "        print('Üye listesi:')\n",
        "        for kişi in self.uye:\n",
        "            print(kişi)\n",
        "\n",
        "    def teknoloji_ekle(self, teknoloji):\n",
        "        self.teknolojiler.append(teknoloji)\n",
        "\n",
        "    def teknolojileri_görüntüle(self):\n",
        "        print('{} adlı kişinin ilgilendiği teknolojiler:'.format(self.isim))\n",
        "        for teknoloji in self.teknolojiler:\n",
        "            print(teknoloji)"
      ],
      "metadata": {
        "id": "8a_g1PRxnc_m"
      },
      "execution_count": null,
      "outputs": []
    },
    {
      "cell_type": "code",
      "source": [
        "x = PscMemberData() #Varsayılan bir değer tanımladığımız için hata almayız"
      ],
      "metadata": {
        "id": "lXtXGDTIngmb"
      },
      "execution_count": null,
      "outputs": []
    },
    {
      "cell_type": "code",
      "source": [
        "class ATM():\n",
        "  def __init__(self,isim, bakiye = 0):\n",
        "    self.isim = isim\n",
        "    self.bakiye = bakiye\n",
        "\n",
        "  def para_yatir(self, miktar):\n",
        "    print(f'Hesabınıza {miktar} lira başarıyla yatırıldı, yeni bakiyeniz {miktar + self.bakiye} ₺')\n",
        "    self.bakiye += miktar\n",
        "\n",
        "  def para_cek(self, miktar):\n",
        "    if miktar > self.bakiye:\n",
        "      print(f\"Hesabınızda yeterli bakiye yok, toplam bakiyeniz: {self.bakiye}\")\n",
        "    else:\n",
        "      print(f\"Para çekme işleminiz başarılı, yeni bakiyeniz: {self.bakiye-miktar} ₺\")\n",
        "      self.bakiye -= miktar\n"
      ],
      "metadata": {
        "id": "yty4P6a5q1_r"
      },
      "execution_count": null,
      "outputs": []
    },
    {
      "cell_type": "code",
      "source": [
        "x = ATM(\"Emirhan GÜLEÇ\")"
      ],
      "metadata": {
        "id": "DJsNsg6Wr1br"
      },
      "execution_count": null,
      "outputs": []
    },
    {
      "cell_type": "code",
      "source": [
        "x.isim"
      ],
      "metadata": {
        "id": "lHENsUWNr-3A"
      },
      "execution_count": null,
      "outputs": []
    },
    {
      "cell_type": "code",
      "source": [
        "x.bakiye"
      ],
      "metadata": {
        "id": "F1fHkWRhr_vD"
      },
      "execution_count": null,
      "outputs": []
    },
    {
      "cell_type": "code",
      "source": [
        "x.para_yatir(500)"
      ],
      "metadata": {
        "id": "klDN-A6bsDy-"
      },
      "execution_count": null,
      "outputs": []
    },
    {
      "cell_type": "code",
      "source": [
        "x.bakiye"
      ],
      "metadata": {
        "id": "0TPYJk8isGsG"
      },
      "execution_count": null,
      "outputs": []
    },
    {
      "cell_type": "code",
      "source": [
        "x.para_cek(550)"
      ],
      "metadata": {
        "id": "Wk8rfvzisTKn"
      },
      "execution_count": null,
      "outputs": []
    },
    {
      "cell_type": "code",
      "source": [
        "x.para_cek(500)"
      ],
      "metadata": {
        "id": "DKFxBi9ntXqk"
      },
      "execution_count": null,
      "outputs": []
    },
    {
      "cell_type": "markdown",
      "source": [
        "# Inheritance"
      ],
      "metadata": {
        "id": "Zif0FC2GCQJQ"
      }
    },
    {
      "cell_type": "code",
      "source": [
        "class PscMemberData():\n",
        "    uye = []\n",
        "\n",
        "    def __init__(self, isim):\n",
        "        self.isim = isim\n",
        "        self.teknolojiler = []\n",
        "        self.uye_ekle()\n",
        "\n",
        "    def uye_ekle(self):\n",
        "        self.uye.append(self.isim)\n",
        "        print('{} adlı kişi üye olarak eklendi'.format(self.isim))\n",
        "\n",
        "    def uyeleri_görüntüle(self):\n",
        "        print('Üye listesi:')\n",
        "        for kişi in self.uye:\n",
        "            print(kişi)\n",
        "\n",
        "    def teknoloji_ekle(self, teknoloji):\n",
        "        self.teknolojiler.append(teknoloji)\n",
        "\n",
        "    def teknolojileri_görüntüle(self):\n",
        "        print('{} adlı kişinin ilgilendiği teknolojiler:'.format(self.isim))\n",
        "        for teknoloji in self.teknolojiler:\n",
        "            print(teknoloji)"
      ],
      "metadata": {
        "id": "28IHk2-oCSbg"
      },
      "execution_count": null,
      "outputs": []
    },
    {
      "cell_type": "code",
      "source": [
        "class PscData(PscMemberData):\n",
        "  pass"
      ],
      "metadata": {
        "id": "Eq3UoDEHDBVk"
      },
      "execution_count": null,
      "outputs": []
    },
    {
      "cell_type": "code",
      "source": [
        "emir = PscData(\"Emirhan GÜLEÇ\")"
      ],
      "metadata": {
        "id": "RpFp_NrHDJRU"
      },
      "execution_count": null,
      "outputs": []
    },
    {
      "cell_type": "code",
      "source": [
        "class PscData(PscMemberData):\n",
        "  def uye_ekle(self):\n",
        "    self.uye.append(self.isim)\n",
        "    print('{} aramıza hoş geldin :)'.format(self.isim))"
      ],
      "metadata": {
        "id": "OulyXXL7EwDQ"
      },
      "execution_count": null,
      "outputs": []
    },
    {
      "cell_type": "code",
      "source": [
        "emir = PscData(\"Emirhan GÜLEÇ\")"
      ],
      "metadata": {
        "id": "uhsXNWPHFT38"
      },
      "execution_count": null,
      "outputs": []
    },
    {
      "cell_type": "code",
      "source": [
        "class first_class():\n",
        "  def hi(self):\n",
        "    print(\"Birinci class\")"
      ],
      "metadata": {
        "id": "Ppxpf9i5F671"
      },
      "execution_count": null,
      "outputs": []
    },
    {
      "cell_type": "code",
      "source": [
        "class second_class():\n",
        "  def hi2(self):\n",
        "    print(\"İkinci class\")"
      ],
      "metadata": {
        "id": "x3r6OuApHHia"
      },
      "execution_count": null,
      "outputs": []
    },
    {
      "cell_type": "code",
      "source": [
        "class third_class(first_class, second_class):\n",
        "  pass"
      ],
      "metadata": {
        "id": "1KKX9tg2HLdt"
      },
      "execution_count": null,
      "outputs": []
    },
    {
      "cell_type": "code",
      "source": [
        "x = third_class()"
      ],
      "metadata": {
        "id": "kyl8bgliHTt2"
      },
      "execution_count": null,
      "outputs": []
    },
    {
      "cell_type": "code",
      "source": [
        "x.hi()"
      ],
      "metadata": {
        "id": "K0vicHyQHZbX"
      },
      "execution_count": null,
      "outputs": []
    },
    {
      "cell_type": "code",
      "source": [
        "x.hi2()"
      ],
      "metadata": {
        "id": "R5IN3e9QHsWB"
      },
      "execution_count": null,
      "outputs": []
    },
    {
      "cell_type": "code",
      "source": [
        "class third_class(first_class, second_class):\n",
        "  def hi(self):\n",
        "    print(\"Üçüncü class\")\n",
        "  def hi2(self):\n",
        "    print(\"Üçüncü class\")"
      ],
      "metadata": {
        "id": "_VDCBB29ITo1"
      },
      "execution_count": null,
      "outputs": []
    },
    {
      "cell_type": "code",
      "source": [
        "x = third_class()"
      ],
      "metadata": {
        "id": "cdiJUs3DK74o"
      },
      "execution_count": null,
      "outputs": []
    },
    {
      "cell_type": "code",
      "source": [
        "x.hi()"
      ],
      "metadata": {
        "id": "xEK8_R_AKp3Z"
      },
      "execution_count": null,
      "outputs": []
    },
    {
      "cell_type": "code",
      "source": [
        "x.hi2()"
      ],
      "metadata": {
        "id": "vNrJCuK1K3IN"
      },
      "execution_count": null,
      "outputs": []
    },
    {
      "cell_type": "markdown",
      "source": [
        "# Try & Except"
      ],
      "metadata": {
        "id": "cNuDYe0QPh3b"
      }
    },
    {
      "cell_type": "code",
      "source": [
        "a = input(\"Birinci sayıyı giriniz: \")\n",
        "b = input(\"İkinci sayıyı giriniz: \")\n",
        "\n",
        "print (a*b)"
      ],
      "metadata": {
        "id": "rV0ZMPs9P-Sq"
      },
      "execution_count": null,
      "outputs": []
    },
    {
      "cell_type": "code",
      "source": [
        "a = input(\"Birinci sayıyı giriniz: \")\n",
        "b = input(\"İkinci sayıyı giriniz: \")\n",
        "\n",
        "try:\n",
        "  print(a*b)\n",
        "\n",
        "except TypeError:\n",
        "  print(\"Hata!!\")"
      ],
      "metadata": {
        "id": "rzIZv9bgQBmP"
      },
      "execution_count": null,
      "outputs": []
    },
    {
      "cell_type": "code",
      "source": [
        "a = int(input(\"Birinci sayıyı giriniz: \"))\n",
        "b = int(input(\"İkinci sayıyı giriniz: \"))\n",
        "\n",
        "try:\n",
        "  print(a*b)\n",
        "\n",
        "except TypeError:\n",
        "  print(\"Hata!!\")"
      ],
      "metadata": {
        "id": "ujbMnrFFQE2P"
      },
      "execution_count": null,
      "outputs": []
    },
    {
      "cell_type": "code",
      "source": [
        "a = int(input(\"Birinci sayıyı giriniz: \"))\n",
        "b = int(input(\"İkinci sayıyı giriniz: \"))\n",
        "\n",
        "try:\n",
        "  print(a*b)\n",
        "\n",
        "except TypeError:\n",
        "  print(\"Hata!!\")\n",
        "\n",
        "except ValueError:\n",
        "  print(\"Lütfen bir sayı giriniz!\")"
      ],
      "metadata": {
        "id": "ZRVbmtWeTE1L"
      },
      "execution_count": null,
      "outputs": []
    },
    {
      "cell_type": "code",
      "source": [
        "try:\n",
        "  a = int(input(\"Birinci sayıyı giriniz: \"))\n",
        "  b = int(input(\"İkinci sayıyı giriniz: \"))\n",
        "  print(a*b)\n",
        "\n",
        "except TypeError:\n",
        "  print(\"Hata!!\")\n",
        "\n",
        "except ValueError:\n",
        "  print(\"Lütfen bir sayı giriniz!\")"
      ],
      "metadata": {
        "id": "Tm4UVkcBTpOf"
      },
      "execution_count": null,
      "outputs": []
    },
    {
      "cell_type": "code",
      "source": [
        "a = input(\"Birinci sayıyı giriniz: \")\n",
        "b = input(\"İkinci sayıyı giriniz: \")\n",
        "\n",
        "try:\n",
        "  print(a*b)\n",
        "\n",
        "except (TypeError, ValueError):\n",
        "  print(\"Hata!!\")"
      ],
      "metadata": {
        "id": "tS10ZnhIT0FW"
      },
      "execution_count": null,
      "outputs": []
    },
    {
      "cell_type": "code",
      "source": [
        "def bol(x, y):\n",
        "    try:\n",
        "        sonuc = x / y\n",
        "    except ZeroDivisionError:\n",
        "        print(\"Hata!\")\n",
        "    finally:\n",
        "        print(\"Hiiii\")"
      ],
      "metadata": {
        "id": "zTgHvhG-UTyJ"
      },
      "execution_count": null,
      "outputs": []
    },
    {
      "cell_type": "code",
      "source": [
        "bol(4,2)"
      ],
      "metadata": {
        "id": "1_gRWWiGYe59"
      },
      "execution_count": null,
      "outputs": []
    },
    {
      "cell_type": "code",
      "source": [
        "bol(4,0)"
      ],
      "metadata": {
        "id": "zcYofLHRZDig"
      },
      "execution_count": null,
      "outputs": []
    },
    {
      "cell_type": "code",
      "source": [
        "def bol(x, y):\n",
        "    try:\n",
        "        sonuc = x / y\n",
        "    except ZeroDivisionError:\n",
        "        print(\"Hata!\")\n",
        "    finally:\n",
        "        print(\"Sonuç :\", sonuc)"
      ],
      "metadata": {
        "id": "ggBO4JPPYhvR"
      },
      "execution_count": null,
      "outputs": []
    },
    {
      "cell_type": "code",
      "source": [
        "bol(4,0)"
      ],
      "metadata": {
        "id": "z6ivaNVfZN_P"
      },
      "execution_count": null,
      "outputs": []
    },
    {
      "cell_type": "code",
      "source": [
        "def bol(x, y):\n",
        "    try:\n",
        "        sonuc = x / y\n",
        "    except ZeroDivisionError:\n",
        "        print(\"Hata!\")\n",
        "    else:\n",
        "        print(\"Sonuç :\", sonuc)"
      ],
      "metadata": {
        "id": "yWh07yiRZPQs"
      },
      "execution_count": null,
      "outputs": []
    },
    {
      "cell_type": "code",
      "source": [
        "bol(4,0)"
      ],
      "metadata": {
        "id": "KkzCGkNMZUXp"
      },
      "execution_count": null,
      "outputs": []
    },
    {
      "cell_type": "code",
      "source": [
        "bol(4,2)"
      ],
      "metadata": {
        "id": "go4j4Js-ZV32"
      },
      "execution_count": null,
      "outputs": []
    },
    {
      "cell_type": "markdown",
      "source": [
        "##Gömülü Fonksiyonlar"
      ],
      "metadata": {
        "id": "eRc8hIA7fkAa"
      }
    },
    {
      "cell_type": "markdown",
      "source": [
        "# abs()"
      ],
      "metadata": {
        "id": "KIeOkyQcfsaC"
      }
    },
    {
      "cell_type": "code",
      "source": [
        "abs(-45)"
      ],
      "metadata": {
        "id": "QWGmQ9-ufo3G"
      },
      "execution_count": null,
      "outputs": []
    },
    {
      "cell_type": "markdown",
      "source": [
        "# round()"
      ],
      "metadata": {
        "id": "oqqmtKLsf82Z"
      }
    },
    {
      "cell_type": "code",
      "source": [
        "round(12.4)"
      ],
      "metadata": {
        "id": "0FGdqH84f3K2"
      },
      "execution_count": null,
      "outputs": []
    },
    {
      "cell_type": "markdown",
      "source": [
        "# all()"
      ],
      "metadata": {
        "id": "Z8RXt8OJgKCp"
      }
    },
    {
      "cell_type": "code",
      "source": [
        "liste = [True,True,False]\n",
        "all(liste)"
      ],
      "metadata": {
        "id": "QMP5hg05gBDa"
      },
      "execution_count": 4,
      "outputs": []
    },
    {
      "cell_type": "markdown",
      "source": [
        "# any()"
      ],
      "metadata": {
        "id": "SDpYyc4cgcDG"
      }
    },
    {
      "cell_type": "code",
      "source": [
        "any(liste)"
      ],
      "metadata": {
        "id": "5ZBqEXQogbTa"
      },
      "execution_count": null,
      "outputs": []
    },
    {
      "cell_type": "code",
      "source": [
        "l = ['', 0, [], (), set(), dict()]"
      ],
      "metadata": {
        "id": "DSFY6HHvglJX"
      },
      "execution_count": null,
      "outputs": []
    },
    {
      "cell_type": "markdown",
      "source": [
        "# bool()"
      ],
      "metadata": {
        "id": "iRkB8mSbgr2R"
      }
    },
    {
      "cell_type": "code",
      "source": [
        "bool(0)"
      ],
      "metadata": {
        "id": "hDZNwDADhB9Q"
      },
      "execution_count": null,
      "outputs": []
    },
    {
      "cell_type": "code",
      "source": [
        "bool(1)"
      ],
      "metadata": {
        "id": "mQCi2PyvhG0f"
      },
      "execution_count": null,
      "outputs": []
    },
    {
      "cell_type": "code",
      "source": [
        "bool([])"
      ],
      "metadata": {
        "id": "_GM2mbDohDae"
      },
      "execution_count": null,
      "outputs": []
    },
    {
      "cell_type": "markdown",
      "source": [
        "# chr(). \n",
        "UICODE sistemini baz alır"
      ],
      "metadata": {
        "id": "M0fA95e1hIDH"
      }
    },
    {
      "cell_type": "code",
      "source": [
        "chr(10)"
      ],
      "metadata": {
        "id": "_mkN93DThp1r"
      },
      "execution_count": null,
      "outputs": []
    },
    {
      "cell_type": "markdown",
      "source": [
        "# list() , dict()"
      ],
      "metadata": {
        "id": "sDW1_zQVh3nH"
      }
    },
    {
      "cell_type": "code",
      "source": [
        "list(\"PYTHON\")"
      ],
      "metadata": {
        "id": "aKWR1jIvh6Nw"
      },
      "execution_count": null,
      "outputs": []
    },
    {
      "cell_type": "code",
      "source": [
        "s = {'elma': 44, 'armut': 10, 'erik': 100}\n",
        "list(s)"
      ],
      "metadata": {
        "id": "hPQpgJeuiCaN"
      },
      "execution_count": null,
      "outputs": []
    },
    {
      "cell_type": "code",
      "source": [
        "sozluk = (['a', 1], ['b', 2], ['c', 3])\n",
        "dict(sozluk)"
      ],
      "metadata": {
        "colab": {
          "base_uri": "https://localhost:8080/"
        },
        "id": "1zUxXXr5iwbo",
        "outputId": "90528e49-1da4-4255-cbe1-050b752ff1a5"
      },
      "execution_count": 5,
      "outputs": [
        {
          "output_type": "execute_result",
          "data": {
            "text/plain": [
              "{'a': 1, 'b': 2, 'c': 3}"
            ]
          },
          "metadata": {},
          "execution_count": 5
        }
      ]
    },
    {
      "cell_type": "markdown",
      "source": [
        "# set() \n",
        "\n"
      ],
      "metadata": {
        "id": "gr1VT4IjiOIh"
      }
    },
    {
      "cell_type": "code",
      "source": [
        "#farklı veri tiplerini kümeye dönüştürür\n",
        "string=\"PYTHON FOR EVERYBODY\"\n",
        "set(string)"
      ],
      "metadata": {
        "id": "JBRD7hz3iEjP"
      },
      "execution_count": null,
      "outputs": []
    },
    {
      "cell_type": "markdown",
      "source": [
        "#hex()"
      ],
      "metadata": {
        "id": "QtjentQ8i9sV"
      }
    },
    {
      "cell_type": "code",
      "source": [
        "hex(10)"
      ],
      "metadata": {
        "id": "el7m-q6ni2g6"
      },
      "execution_count": null,
      "outputs": []
    },
    {
      "cell_type": "markdown",
      "source": [
        "# dir()"
      ],
      "metadata": {
        "id": "LWNEO72ajT-c"
      }
    },
    {
      "cell_type": "code",
      "source": [
        "dir(sozluk)"
      ],
      "metadata": {
        "id": "_6xBncFCjAh1"
      },
      "execution_count": null,
      "outputs": []
    },
    {
      "cell_type": "markdown",
      "source": [
        "#enumerate()"
      ],
      "metadata": {
        "id": "qvgt3Q_0jonN"
      }
    },
    {
      "cell_type": "code",
      "source": [
        "list(enumerate('python'))"
      ],
      "metadata": {
        "id": "kvaPEV5pjsbR"
      },
      "execution_count": null,
      "outputs": []
    },
    {
      "cell_type": "markdown",
      "source": [
        "# divmod()"
      ],
      "metadata": {
        "id": "gqDZwc3rjrvB"
      }
    },
    {
      "cell_type": "code",
      "source": [
        "divmod(10,2)"
      ],
      "metadata": {
        "colab": {
          "base_uri": "https://localhost:8080/"
        },
        "id": "8bOayCRhj2lB",
        "outputId": "ac8777f5-ff52-4247-f8de-2f7a096bc6c9"
      },
      "execution_count": 8,
      "outputs": [
        {
          "output_type": "execute_result",
          "data": {
            "text/plain": [
              "(5, 0)"
            ]
          },
          "metadata": {},
          "execution_count": 8
        }
      ]
    },
    {
      "cell_type": "markdown",
      "source": [
        "# exit() , o anda çalışan programdan çıkmanızı sağlar"
      ],
      "metadata": {
        "id": "bdHw-9IZj7Gi"
      }
    },
    {
      "cell_type": "markdown",
      "source": [
        "# zip()"
      ],
      "metadata": {
        "id": "k9ZDkBOpkEUM"
      }
    },
    {
      "cell_type": "code",
      "source": [
        "liste1=[1,2,3,4,5]\n",
        "liste2=[\"pyhon\",\"java\",\"go\",\"r\",\"c\"]\n"
      ],
      "metadata": {
        "id": "3d1VxUV4kaUi"
      },
      "execution_count": 9,
      "outputs": []
    },
    {
      "cell_type": "code",
      "source": [
        "zip(liste1,liste2)"
      ],
      "metadata": {
        "id": "lafIzxV1k5HJ"
      },
      "execution_count": null,
      "outputs": []
    },
    {
      "cell_type": "code",
      "source": [
        "list(zip(liste1,liste2))"
      ],
      "metadata": {
        "id": "mdpeMj2zk8ez"
      },
      "execution_count": null,
      "outputs": []
    },
    {
      "cell_type": "code",
      "source": [
        "for l1,l2 in zip(liste1,liste2):\n",
        "  print(l1,l2)"
      ],
      "metadata": {
        "id": "dsA5ijNVlFgA"
      },
      "execution_count": null,
      "outputs": []
    },
    {
      "cell_type": "code",
      "source": [
        "liste1=[1,2,3,4,5]\n",
        "liste2=[\"pyhon\",\"java\",\"go\",\"r\"]\n",
        "zip(liste1,liste2)\n",
        "list(zip(liste1,liste2))"
      ],
      "metadata": {
        "id": "sAODysgTlPqK"
      },
      "execution_count": null,
      "outputs": []
    },
    {
      "cell_type": "markdown",
      "source": [
        "# print() ,type(), min(), max(), sum()...."
      ],
      "metadata": {
        "id": "IgSGgKlVlcZN"
      }
    }
  ]
}