{
  "cells": [
    {
      "cell_type": "markdown",
      "id": "8cc95ef7-e3dd-471f-b54c-c147d060960f",
      "metadata": {
        "id": "8cc95ef7-e3dd-471f-b54c-c147d060960f"
      },
      "source": [
        "## **Konu tekrarı**"
      ]
    },
    {
      "cell_type": "code",
      "source": [
        "#Math ile birlikte gelen pow methodunda değerlerimiz float olarak döner\n",
        "import math\n",
        "y = 3\n",
        "x = math.pow(y,2)\n",
        "print(x)\n",
        "type(x)"
      ],
      "metadata": {
        "id": "RSZiONMyYVbn"
      },
      "id": "RSZiONMyYVbn",
      "execution_count": null,
      "outputs": []
    },
    {
      "cell_type": "code",
      "source": [
        "a = 3\n",
        "b = a**2\n",
        "print(b)\n",
        "type(b)"
      ],
      "metadata": {
        "id": "I5d4seSfYWky"
      },
      "id": "I5d4seSfYWky",
      "execution_count": null,
      "outputs": []
    },
    {
      "cell_type": "code",
      "source": [
        "#Python ile birlikte gelen pow methodunda değerlerimiz int olarak döner\n",
        "c = pow(a,2)\n",
        "print(c)\n",
        "type(c)"
      ],
      "metadata": {
        "id": "7J9t1mgAYWnW"
      },
      "id": "7J9t1mgAYWnW",
      "execution_count": null,
      "outputs": []
    },
    {
      "cell_type": "code",
      "source": [
        "a = [1,2,3,4,5, \"a\", \"b\"]\n",
        "type(a)"
      ],
      "metadata": {
        "id": "Hq4pkkqJYWp-"
      },
      "id": "Hq4pkkqJYWp-",
      "execution_count": null,
      "outputs": []
    },
    {
      "cell_type": "code",
      "source": [
        "b = (1,2,3,4,5, \"a\", \"b\")\n",
        "type(b)"
      ],
      "metadata": {
        "id": "47l1r69BYWsk"
      },
      "id": "47l1r69BYWsk",
      "execution_count": null,
      "outputs": []
    },
    {
      "cell_type": "code",
      "source": [
        "#Remove listemizden eleman çıkartmamızı sağlar\n",
        "a.remove(2)\n",
        "print(a)"
      ],
      "metadata": {
        "id": "SWbD8ogNYWup"
      },
      "id": "SWbD8ogNYWup",
      "execution_count": null,
      "outputs": []
    },
    {
      "cell_type": "code",
      "source": [
        "#Tupple değiştirilemez olduğu için ekleme-çıkartma işlemi gerçekleştirilemez\n",
        "b.remove(2)\n",
        "print(b)"
      ],
      "metadata": {
        "id": "eBxG7P5KYWwu"
      },
      "id": "eBxG7P5KYWwu",
      "execution_count": null,
      "outputs": []
    },
    {
      "cell_type": "code",
      "source": [
        "import random"
      ],
      "metadata": {
        "id": "nMQdBUENYWzF"
      },
      "id": "nMQdBUENYWzF",
      "execution_count": null,
      "outputs": []
    },
    {
      "cell_type": "code",
      "source": [
        "#Shuffle işlemi listemizin içindeki değerleri karıştırmamızı sağlar\n",
        "l = [\"Hilal\", \"Emirhan\", \"Psc\"]\n",
        "random.shuffle(l)\n",
        "print(l)"
      ],
      "metadata": {
        "id": "ZKNsZGVVZbRH"
      },
      "id": "ZKNsZGVVZbRH",
      "execution_count": null,
      "outputs": []
    },
    {
      "cell_type": "code",
      "source": [
        "#Tupple değiştirilemez olduğu için shuffle işlemini gerçekleştiremeyiz\n",
        "t = (\"Hilal\", \"Emirhan\", \"Psc\")\n",
        "random.shuffle(t)\n",
        "print(t)"
      ],
      "metadata": {
        "id": "ZDopCLmAZbVf"
      },
      "id": "ZDopCLmAZbVf",
      "execution_count": null,
      "outputs": []
    },
    {
      "cell_type": "code",
      "execution_count": null,
      "id": "d9fe58b7-7e66-452e-a8f1-cd91e0a1c2bc",
      "metadata": {
        "id": "d9fe58b7-7e66-452e-a8f1-cd91e0a1c2bc"
      },
      "outputs": [],
      "source": [
        "def not_hesap():\n",
        "    vize = int(input(\"Vize notunuzu giriniz: \"))\n",
        "    final = int(input(\"Final notunuzu giriniz: \"))\n",
        "    \n",
        "    not_ort = (vize*0.4) + (final*0.6)\n",
        "    \n",
        "    if not_ort >= 90:\n",
        "        print(f'''\n",
        "        Tebrikler dersi geçtiniz, not ortalamanız: {not_ort}\n",
        "        Harf notunuz: AA\n",
        "        ''')\n",
        "        \n",
        "    elif not_ort >= 85:\n",
        "        print(f'''\n",
        "        Tebrikler dersi geçtiniz, not ortalamanız: {not_ort}\n",
        "        Harf notunuz: BA\n",
        "        ''')\n",
        "    \n",
        "    elif not_ort >= 80:\n",
        "        print(f'''\n",
        "        Tebrikler dersi geçtiniz, not ortalamanız: {not_ort}\n",
        "        Harf notunuz: BB\n",
        "        ''')\n",
        "    \n",
        "    elif not_ort >= 70:\n",
        "        print(f'''\n",
        "        Tebrikler dersi geçtiniz, not ortalamanız: {not_ort}\n",
        "        Harf notunuz: CB\n",
        "        ''')\n",
        "    \n",
        "    elif not_ort >= 60:\n",
        "        print(f'''\n",
        "        Tebrikler dersi geçtiniz, not ortalamanız: {not_ort}\n",
        "        Harf notunuz: CC\n",
        "        ''')\n",
        "    \n",
        "    elif not_ort >= 55:\n",
        "        print(f'''\n",
        "        Dersi koşullu geçtiniz, not ortalamanız: {not_ort}\n",
        "        Harf notunuz: DC\n",
        "        ''')\n",
        "    \n",
        "    elif not_ort >= 50:\n",
        "        print(f'''\n",
        "        Dersi koşullu geçtiniz, not ortalamanız: {not_ort}\n",
        "        Harf notunuz: DD\n",
        "        ''')\n",
        "    \n",
        "    else:\n",
        "        print(f'''\n",
        "        Dersten kaldınız, not ortalamanız: {not_ort}\n",
        "        Harf notunuz: FF\n",
        "        ''')"
      ]
    },
    {
      "cell_type": "code",
      "execution_count": null,
      "id": "144387ed-2f8d-4ff4-bfec-999fa493850b",
      "metadata": {
        "id": "144387ed-2f8d-4ff4-bfec-999fa493850b"
      },
      "outputs": [],
      "source": [
        "while True:\n",
        "    not_hesap()"
      ]
    },
    {
      "cell_type": "code",
      "execution_count": null,
      "id": "dbc7fb48-39b1-4820-8eca-8b3143f54462",
      "metadata": {
        "id": "dbc7fb48-39b1-4820-8eca-8b3143f54462"
      },
      "outputs": [],
      "source": [
        "def topla(*args):\n",
        "    toplam = 0\n",
        "    for i in args:\n",
        "        toplam += i\n",
        "    return toplam"
      ]
    },
    {
      "cell_type": "code",
      "execution_count": null,
      "id": "038b236e-8d9d-4977-89e3-c1d45e38163c",
      "metadata": {
        "id": "038b236e-8d9d-4977-89e3-c1d45e38163c"
      },
      "outputs": [],
      "source": [
        "topla(1,2,3)"
      ]
    },
    {
      "cell_type": "code",
      "execution_count": null,
      "id": "a9f573bd-fedd-41cb-8fc9-ce4278aa21cd",
      "metadata": {
        "id": "a9f573bd-fedd-41cb-8fc9-ce4278aa21cd"
      },
      "outputs": [],
      "source": [
        "topla([1,2,3,4]) #list yapısını tek bir argüman olarak alacağı için fonksiyonumuz çalışmaz ve hata alırız"
      ]
    },
    {
      "cell_type": "code",
      "execution_count": null,
      "id": "0254422d-df6e-4e0c-bc26-99303e558cff",
      "metadata": {
        "id": "0254422d-df6e-4e0c-bc26-99303e558cff"
      },
      "outputs": [],
      "source": [
        "def topla2(x):\n",
        "    toplam = 0\n",
        "    for i in x:\n",
        "        toplam += i\n",
        "    return toplam"
      ]
    },
    {
      "cell_type": "code",
      "execution_count": null,
      "id": "e31db3eb-a198-46a1-9120-1517f33bae54",
      "metadata": {
        "id": "e31db3eb-a198-46a1-9120-1517f33bae54"
      },
      "outputs": [],
      "source": [
        "topla2([1,2,3,4,5])"
      ]
    },
    {
      "cell_type": "code",
      "execution_count": null,
      "id": "6b67c6db-5304-4d5d-8685-0e9af7beddd9",
      "metadata": {
        "id": "6b67c6db-5304-4d5d-8685-0e9af7beddd9"
      },
      "outputs": [],
      "source": [
        "x = [1,2,3,4,5,6]\n",
        "topla2(x)"
      ]
    },
    {
      "cell_type": "code",
      "execution_count": null,
      "id": "98875f5d-ca91-451b-ac63-d66608692526",
      "metadata": {
        "id": "98875f5d-ca91-451b-ac63-d66608692526"
      },
      "outputs": [],
      "source": [
        "#Recursion \n",
        "def toplamaislemi(x):\n",
        "    if(x > 0):\n",
        "        toplam = x + toplamaislemi(x - 1)\n",
        "    else:\n",
        "        toplam = 0\n",
        "    return toplam\n",
        "\n",
        "toplamaislemi(6)\n",
        "\n",
        "# toplamaislemi(6) = 6 + toplamaislemi(5)\n",
        "# toplamaislemi(5) = 5 + toplamaislemi(4)\n",
        "# toplamaislemi(4) = 4 + toplamaislemi(3)\n",
        "# toplamaislemi(3) = 3 + toplamaislemi(2)\n",
        "# toplamaislemi(2) = 2 + toplamaislemi(1)\n",
        "# toplamaislemi(1) = 1 + toplamaislemi(0)\n",
        "# toplamaislemi(0) = 0\n",
        "\n",
        "#6+(5+(4+(3+(2+(1+0)))))"
      ]
    },
    {
      "cell_type": "code",
      "execution_count": null,
      "id": "490d37c6-0996-441f-9923-6dae1b689618",
      "metadata": {
        "id": "490d37c6-0996-441f-9923-6dae1b689618"
      },
      "outputs": [],
      "source": [
        "# Fibonacci Recursion\n",
        "\n",
        "# 0 1 1 2 3 5 8 13\n",
        "\n",
        "def fibonacci(n):\n",
        "    if n <= 1:\n",
        "        return n\n",
        "    else:\n",
        "        return(fibonacci(n-1) + fibonacci(n-2))\n",
        "\n",
        "x = int(input(\"Fibonacci hesaplamak için değer giriniz: \"))\n",
        "\n",
        "for i in range(x):\n",
        "    print(fibonacci(i))\n",
        "\n",
        "\n",
        "#fibonacci(0) = 0\n",
        "#fibonacci(1) = 1\n",
        "#fibonacci(2) = fibonacci(1) + fibonacci(0) = 1+0 = 1\n",
        "#fibonacci(3) = fibonacci(2) + fibonacci(1) = 1+1 = 2\n",
        "#fibonacci(4) = fibonacci(3) + fibonacci(2) = 2+1 = 3\n",
        "#fibonacci(5) = fibonacci(4) + fibonacci(3) = 3+2 = 5\n",
        "#fibonacci(6) = fibonacci(5) + fibonacci(4) = 5+3 = 8\n",
        "#fibonacci(7) = fibonacci(6) + fibonacci(5) = 8+5 = 13"
      ]
    },
    {
      "cell_type": "code",
      "source": [
        "ant_af = {1: True, 2: True, 3: True, 4: True, 5: True, 6: True, 7: True,8: True, 9: True, 10: True, 11: True, 12: True, 13: True, 14: True, 15: True}\n",
        "ant_bur = {}\n",
        "ant_ist = {}\n",
        "af_bur = {}\n",
        "af_ist = {}\n",
        "bur_ist = {}\n",
        "#ant_af{} alternatifi olarak daha hızlı bir şekilde sözlük yapımızı oluşturmamız mümkün\n",
        "for i in range(1,16):\n",
        "    ant_bur[i] = True\n",
        "    ant_ist[i] = True\n",
        "    af_bur[i] = True\n",
        "    af_ist[i] = True\n",
        "    bur_ist[i] = True"
      ],
      "metadata": {
        "id": "UzpE-gYi-kih"
      },
      "id": "UzpE-gYi-kih",
      "execution_count": null,
      "outputs": []
    },
    {
      "cell_type": "code",
      "source": [
        "print(ant_bur.items())"
      ],
      "metadata": {
        "id": "ZR6uFzqy-sTq"
      },
      "id": "ZR6uFzqy-sTq",
      "execution_count": null,
      "outputs": []
    },
    {
      "cell_type": "code",
      "execution_count": null,
      "id": "0f97ba3f-31d8-4ec1-8785-3029bf6dabeb",
      "metadata": {
        "id": "0f97ba3f-31d8-4ec1-8785-3029bf6dabeb"
      },
      "outputs": [],
      "source": [
        "import time\n",
        "\n",
        "#listemizi kullanıcı datalarını saklamak için kullanacağız\n",
        "musteriData = []\n",
        "while True:\n",
        "    print(\"\"\"\n",
        "    ----------------------------\n",
        "    Antalya-Afyon-Bursa-İstanbul\n",
        "    ----------------------------\n",
        "\n",
        "    Tercih ettiğiniz seferi seçiniz:\n",
        "    1-Antalya-Afyon\n",
        "    2-Antalya-Bursa\n",
        "    3-Antalya-İstanbul\n",
        "    4-Afyon-Bursa\n",
        "    5-Afyon-İstanbul\n",
        "    6-Bursa-İstanbul\n",
        "    \"\"\")\n",
        "    sefer = int(input(\"Tercih ettiğiniz sefer numarasını giriniz:\"))\n",
        "\n",
        "    if sefer == 1:\n",
        "        musteri = {} #Sözlük yapısını kullanıcı verilerimizi istediğimiz anahtar kelimelerde saklamak için kullanacağız\n",
        "        print(ant_af.items())\n",
        "        koltuk = int(input(\"Koltuk numarası seçiniz: \"))\n",
        "        if ant_af[koltuk] == False:\n",
        "            print(\"Lütfen boş bir koltuk seçiniz!\")\n",
        "        else:\n",
        "            ant_af[koltuk] = False\n",
        "            ant_bur[koltuk] = False\n",
        "            ant_ist[koltuk] = False\n",
        "            #True&False yapısını birbirini etkileyen tüm seferler için kullanmamız gerekiyor.\n",
        "\n",
        "        ad = input(\"Adınızı giriniz: \")\n",
        "        musteri[\"Ad\"] = ad\n",
        "\n",
        "        soyad = input(\"Soyadınızı giriniz: \")\n",
        "        musteri[\"Soyad\"] = soyad\n",
        "\n",
        "        musteri[\"Sefer\"] = \"Antalya-Afyon\"\n",
        "\n",
        "        print(f'Sayın {ad} {soyad} işleminiz başarı ile gerçekleşmiştir koltuk numaranız: {koltuk}')\n",
        "        musteriData.append(musteri)\n",
        "        print(musteriData)\n",
        "        time.sleep(3)\n",
        "\n",
        "    elif sefer == 2:\n",
        "        musteri = {}\n",
        "        print(ant_bur.items())\n",
        "        koltuk = int(input(\"Koltuk numarası seçiniz: \"))\n",
        "        if ant_bur[koltuk] == False:\n",
        "            print(\"Lütfen boş bir koltuk seçiniz!\")\n",
        "        else:\n",
        "            ant_af[koltuk] = False\n",
        "            ant_bur[koltuk] = False\n",
        "            ant_ist[koltuk] = False\n",
        "            af_bur[koltuk] = False\n",
        "\n",
        "        ad = input(\"Adınızı giriniz: \")\n",
        "        musteri[\"Ad\"] = ad\n",
        "\n",
        "        soyad = input(\"Soyadınızı giriniz: \")\n",
        "        musteri[\"Soyad\"] = soyad\n",
        "\n",
        "        musteri[\"Sefer\"] = \"Antalya-Bursa\"\n",
        "        \n",
        "        print(f'Sayın {ad} {soyad} işleminiz başarı ile gerçekleşmiştir koltuk numaranız: {koltuk}')\n",
        "        musteriData.append(musteri)\n",
        "        print(musteriData)\n",
        "        time.sleep(3)\n",
        "\n",
        "    elif sefer == 3:\n",
        "        musteri = {}\n",
        "        print(ant_ist.items())\n",
        "        koltuk = int(input(\"Koltuk numarası seçiniz: \"))\n",
        "        if ant_ist[koltuk] == False:\n",
        "            print(\"Lütfen boş bir koltuk seçiniz!\")\n",
        "        else:\n",
        "            ant_af[koltuk] = False\n",
        "            ant_bur[koltuk] = False\n",
        "            ant_ist[koltuk] = False\n",
        "            af_bur[koltuk] = False\n",
        "            af_ist[koltuk] = False\n",
        "            bur_ist[koltuk] = False\n",
        "\n",
        "        ad = input(\"Adınızı giriniz: \")\n",
        "        musteri[\"Ad\"] = ad\n",
        "\n",
        "        soyad = input(\"Soyadınızı giriniz: \")\n",
        "        musteri[\"Soyad\"] = soyad\n",
        "\n",
        "        musteri[\"Sefer\"] = \"Antalya-İstanbul\"\n",
        "\n",
        "        print(f'Sayın {ad} {soyad} işleminiz başarı ile gerçekleşmiştir koltuk numaranız: {koltuk}')\n",
        "        musteriData.append(musteri)\n",
        "        print(musteriData)\n",
        "        time.sleep(3)\n",
        "\n",
        "    elif sefer == 4:\n",
        "        musteri = {}\n",
        "        print(af_bur.items())\n",
        "        koltuk = int(input(\"Koltuk numarası seçiniz: \"))\n",
        "        if af_bur[koltuk] == False:\n",
        "            print(\"Lütfen boş bir koltuk seçiniz!\")\n",
        "        else:\n",
        "            ant_bur[koltuk] = False\n",
        "            ant_ist[koltuk] = False\n",
        "            af_bur[koltuk] = False\n",
        "            af_ist[koltuk] = False\n",
        "\n",
        "        ad = input(\"Adınızı giriniz: \")\n",
        "        musteri[\"Ad\"] = ad\n",
        "\n",
        "        soyad = input(\"Soyadınızı giriniz: \")\n",
        "        musteri[\"Soyad\"] = soyad\n",
        "\n",
        "        musteri[\"Sefer\"] = \"Afyon-Bursa\"\n",
        "\n",
        "        print(f'Sayın {ad} {soyad} işleminiz başarı ile gerçekleşmiştir koltuk numaranız: {koltuk}')\n",
        "        musteriData.append(musteri)\n",
        "        print(musteriData)\n",
        "        time.sleep(3)\n",
        "\n",
        "    elif sefer == 5:\n",
        "        musteri = {}\n",
        "        print(af_ist.items())\n",
        "        koltuk = int(input(\"Koltuk numarası seçiniz: \"))\n",
        "        if af_ist[koltuk] == False:\n",
        "            print(\"Lütfen boş bir koltuk seçiniz!\")\n",
        "        else:\n",
        "            ant_bur[koltuk] = False\n",
        "            ant_ist[koltuk] = False\n",
        "            af_bur[koltuk] = False\n",
        "            af_ist[koltuk] = False\n",
        "            bur_ist[koltuk] = False\n",
        "\n",
        "        ad = input(\"Adınızı giriniz: \")\n",
        "        musteri[\"Ad\"] = ad\n",
        "\n",
        "        soyad = input(\"Soyadınızı giriniz: \")\n",
        "        musteri[\"Soyad\"] = soyad\n",
        "\n",
        "        musteri[\"Sefer\"] = \"Afyon-İstanbul\"\n",
        "\n",
        "        print(f'Sayın {ad} {soyad} işleminiz başarı ile gerçekleşmiştir koltuk numaranız: {koltuk}')\n",
        "        musteriData.append(musteri)\n",
        "        print(musteriData)\n",
        "        time.sleep(3)\n",
        "\n",
        "    elif sefer == 6:\n",
        "        musteri = {}\n",
        "        print(bur_ist.items())\n",
        "        koltuk = int(input(\"Koltuk numarası seçiniz: \"))\n",
        "        if bur_ist[koltuk] == False:\n",
        "            print(\"Lütfen boş bir koltuk seçiniz!\")\n",
        "        else:\n",
        "            ant_ist[koltuk] = False\n",
        "            af_ist[koltuk] = False\n",
        "            bur_ist[koltuk] = False\n",
        "\n",
        "        ad = input(\"Adınızı giriniz: \")\n",
        "        musteri[\"Ad\"] = ad\n",
        "\n",
        "        soyad = input(\"Soyadınızı giriniz: \")\n",
        "        musteri[\"Soyad\"] = soyad\n",
        "\n",
        "        musteri[\"Sefer\"] = \"Bursa-İstanbul\"\n",
        "\n",
        "        print(f'Sayın {ad} {soyad} işleminiz başarı ile gerçekleşmiştir koltuk numaranız: {koltuk}')\n",
        "        musteriData.append(musteri)\n",
        "        print(musteriData)\n",
        "        time.sleep(3)\n",
        "\n",
        "    else:\n",
        "        print(\"Lütfen geçerli bir sefer numarası giriniz\")"
      ]
    }
  ],
  "metadata": {
    "kernelspec": {
      "display_name": "Python 3 (ipykernel)",
      "language": "python",
      "name": "python3"
    },
    "language_info": {
      "codemirror_mode": {
        "name": "ipython",
        "version": 3
      },
      "file_extension": ".py",
      "mimetype": "text/x-python",
      "name": "python",
      "nbconvert_exporter": "python",
      "pygments_lexer": "ipython3",
      "version": "3.10.0"
    },
    "colab": {
      "name": "Day_4.ipynb",
      "provenance": [],
      "collapsed_sections": []
    }
  },
  "nbformat": 4,
  "nbformat_minor": 5
}